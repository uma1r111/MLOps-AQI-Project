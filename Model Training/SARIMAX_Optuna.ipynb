{
  "cells": [
    {
      "cell_type": "code",
      "execution_count": 3,
      "metadata": {
        "colab": {
          "base_uri": "https://localhost:8080/"
        },
        "id": "8gSo_SckkVmt",
        "outputId": "0ac9d656-1dec-4f42-c14c-f4f9663fdb45"
      },
      "outputs": [
        {
          "name": "stdout",
          "output_type": "stream",
          "text": [
            "\u001b[2K   \u001b[90m━━━━━━━━━━━━━━━━━━━━━━━━━━━━━━━━━━━━━━━━\u001b[0m \u001b[32m24.7/24.7 MB\u001b[0m \u001b[31m72.1 MB/s\u001b[0m eta \u001b[36m0:00:00\u001b[0m\n",
            "\u001b[2K   \u001b[90m━━━━━━━━━━━━━━━━━━━━━━━━━━━━━━━━━━━━━━━━\u001b[0m \u001b[32m1.9/1.9 MB\u001b[0m \u001b[31m69.6 MB/s\u001b[0m eta \u001b[36m0:00:00\u001b[0m\n",
            "\u001b[2K   \u001b[90m━━━━━━━━━━━━━━━━━━━━━━━━━━━━━━━━━━━━━━━━\u001b[0m \u001b[32m395.9/395.9 kB\u001b[0m \u001b[31m27.6 MB/s\u001b[0m eta \u001b[36m0:00:00\u001b[0m\n",
            "\u001b[2K   \u001b[90m━━━━━━━━━━━━━━━━━━━━━━━━━━━━━━━━━━━━━━━━\u001b[0m \u001b[32m461.0/461.0 kB\u001b[0m \u001b[31m25.8 MB/s\u001b[0m eta \u001b[36m0:00:00\u001b[0m\n",
            "\u001b[2K   \u001b[90m━━━━━━━━━━━━━━━━━━━━━━━━━━━━━━━━━━━━━━━━\u001b[0m \u001b[32m247.0/247.0 kB\u001b[0m \u001b[31m19.0 MB/s\u001b[0m eta \u001b[36m0:00:00\u001b[0m\n",
            "\u001b[2K   \u001b[90m━━━━━━━━━━━━━━━━━━━━━━━━━━━━━━━━━━━━━━━━\u001b[0m \u001b[32m147.8/147.8 kB\u001b[0m \u001b[31m11.5 MB/s\u001b[0m eta \u001b[36m0:00:00\u001b[0m\n",
            "\u001b[2K   \u001b[90m━━━━━━━━━━━━━━━━━━━━━━━━━━━━━━━━━━━━━━━━\u001b[0m \u001b[32m77.3/77.3 kB\u001b[0m \u001b[31m6.1 MB/s\u001b[0m eta \u001b[36m0:00:00\u001b[0m\n",
            "\u001b[2K   \u001b[90m━━━━━━━━━━━━━━━━━━━━━━━━━━━━━━━━━━━━━━━━\u001b[0m \u001b[32m438.8/438.8 kB\u001b[0m \u001b[31m30.1 MB/s\u001b[0m eta \u001b[36m0:00:00\u001b[0m\n",
            "\u001b[2K   \u001b[90m━━━━━━━━━━━━━━━━━━━━━━━━━━━━━━━━━━━━━━━━\u001b[0m \u001b[32m41.8/41.8 kB\u001b[0m \u001b[31m3.2 MB/s\u001b[0m eta \u001b[36m0:00:00\u001b[0m\n",
            "\u001b[2K   \u001b[90m━━━━━━━━━━━━━━━━━━━━━━━━━━━━━━━━━━━━━━━━\u001b[0m \u001b[32m114.9/114.9 kB\u001b[0m \u001b[31m9.6 MB/s\u001b[0m eta \u001b[36m0:00:00\u001b[0m\n",
            "\u001b[2K   \u001b[90m━━━━━━━━━━━━━━━━━━━━━━━━━━━━━━━━━━━━━━━━\u001b[0m \u001b[32m45.2/45.2 kB\u001b[0m \u001b[31m3.3 MB/s\u001b[0m eta \u001b[36m0:00:00\u001b[0m\n",
            "\u001b[2K   \u001b[90m━━━━━━━━━━━━━━━━━━━━━━━━━━━━━━━━━━━━━━━━\u001b[0m \u001b[32m85.0/85.0 kB\u001b[0m \u001b[31m7.0 MB/s\u001b[0m eta \u001b[36m0:00:00\u001b[0m\n",
            "\u001b[2K   \u001b[90m━━━━━━━━━━━━━━━━━━━━━━━━━━━━━━━━━━━━━━━━\u001b[0m \u001b[32m154.5/154.5 kB\u001b[0m \u001b[31m12.7 MB/s\u001b[0m eta \u001b[36m0:00:00\u001b[0m\n",
            "\u001b[2K   \u001b[90m━━━━━━━━━━━━━━━━━━━━━━━━━━━━━━━━━━━━━━━━\u001b[0m \u001b[32m210.0/210.0 kB\u001b[0m \u001b[31m14.1 MB/s\u001b[0m eta \u001b[36m0:00:00\u001b[0m\n",
            "\u001b[2K   \u001b[90m━━━━━━━━━━━━━━━━━━━━━━━━━━━━━━━━━━━━━━━━\u001b[0m \u001b[32m118.6/118.6 kB\u001b[0m \u001b[31m9.8 MB/s\u001b[0m eta \u001b[36m0:00:00\u001b[0m\n",
            "\u001b[2K   \u001b[90m━━━━━━━━━━━━━━━━━━━━━━━━━━━━━━━━━━━━━━━━\u001b[0m \u001b[32m73.1/73.1 kB\u001b[0m \u001b[31m6.1 MB/s\u001b[0m eta \u001b[36m0:00:00\u001b[0m\n",
            "\u001b[2K   \u001b[90m━━━━━━━━━━━━━━━━━━━━━━━━━━━━━━━━━━━━━━━━\u001b[0m \u001b[32m1.1/1.1 MB\u001b[0m \u001b[31m54.9 MB/s\u001b[0m eta \u001b[36m0:00:00\u001b[0m\n",
            "\u001b[2K   \u001b[90m━━━━━━━━━━━━━━━━━━━━━━━━━━━━━━━━━━━━━━━━\u001b[0m \u001b[32m50.9/50.9 kB\u001b[0m \u001b[31m3.1 MB/s\u001b[0m eta \u001b[36m0:00:00\u001b[0m\n",
            "\u001b[2K   \u001b[90m━━━━━━━━━━━━━━━━━━━━━━━━━━━━━━━━━━━━━━━━\u001b[0m \u001b[32m374.9/374.9 kB\u001b[0m \u001b[31m24.1 MB/s\u001b[0m eta \u001b[36m0:00:00\u001b[0m\n",
            "\u001b[2K   \u001b[90m━━━━━━━━━━━━━━━━━━━━━━━━━━━━━━━━━━━━━━━━\u001b[0m \u001b[32m86.8/86.8 kB\u001b[0m \u001b[31m5.9 MB/s\u001b[0m eta \u001b[36m0:00:00\u001b[0m\n",
            "\u001b[2K   \u001b[90m━━━━━━━━━━━━━━━━━━━━━━━━━━━━━━━━━━━━━━━━\u001b[0m \u001b[32m741.4/741.4 kB\u001b[0m \u001b[31m40.2 MB/s\u001b[0m eta \u001b[36m0:00:00\u001b[0m\n",
            "\u001b[2K   \u001b[90m━━━━━━━━━━━━━━━━━━━━━━━━━━━━━━━━━━━━━━━━\u001b[0m \u001b[32m45.5/45.5 kB\u001b[0m \u001b[31m3.6 MB/s\u001b[0m eta \u001b[36m0:00:00\u001b[0m\n",
            "\u001b[2K   \u001b[90m━━━━━━━━━━━━━━━━━━━━━━━━━━━━━━━━━━━━━━━━\u001b[0m \u001b[32m203.4/203.4 kB\u001b[0m \u001b[31m16.4 MB/s\u001b[0m eta \u001b[36m0:00:00\u001b[0m\n",
            "\u001b[2K   \u001b[90m━━━━━━━━━━━━━━━━━━━━━━━━━━━━━━━━━━━━━━━━\u001b[0m \u001b[32m65.8/65.8 kB\u001b[0m \u001b[31m5.4 MB/s\u001b[0m eta \u001b[36m0:00:00\u001b[0m\n",
            "\u001b[2K   \u001b[90m━━━━━━━━━━━━━━━━━━━━━━━━━━━━━━━━━━━━━━━━\u001b[0m \u001b[32m118.5/118.5 kB\u001b[0m \u001b[31m10.1 MB/s\u001b[0m eta \u001b[36m0:00:00\u001b[0m\n",
            "\u001b[2K   \u001b[90m━━━━━━━━━━━━━━━━━━━━━━━━━━━━━━━━━━━━━━━━\u001b[0m \u001b[32m196.2/196.2 kB\u001b[0m \u001b[31m13.3 MB/s\u001b[0m eta \u001b[36m0:00:00\u001b[0m\n",
            "\u001b[2K   \u001b[90m━━━━━━━━━━━━━━━━━━━━━━━━━━━━━━━━━━━━━━━━\u001b[0m \u001b[32m739.1/739.1 kB\u001b[0m \u001b[31m36.6 MB/s\u001b[0m eta \u001b[36m0:00:00\u001b[0m\n",
            "\u001b[?25hRequirement already satisfied: dvc[s3] in /usr/local/lib/python3.11/dist-packages (3.61.0)\n",
            "Requirement already satisfied: attrs>=22.2.0 in /usr/local/lib/python3.11/dist-packages (from dvc[s3]) (25.3.0)\n",
            "Requirement already satisfied: celery in /usr/local/lib/python3.11/dist-packages (from dvc[s3]) (5.5.3)\n",
            "Requirement already satisfied: colorama>=0.3.9 in /usr/local/lib/python3.11/dist-packages (from dvc[s3]) (0.4.6)\n",
            "Requirement already satisfied: configobj>=5.0.9 in /usr/local/lib/python3.11/dist-packages (from dvc[s3]) (5.0.9)\n",
            "Requirement already satisfied: distro>=1.3 in /usr/local/lib/python3.11/dist-packages (from dvc[s3]) (1.9.0)\n",
            "Requirement already satisfied: dpath<3,>=2.1.0 in /usr/local/lib/python3.11/dist-packages (from dvc[s3]) (2.2.0)\n",
            "Requirement already satisfied: dulwich in /usr/local/lib/python3.11/dist-packages (from dvc[s3]) (0.23.2)\n",
            "Requirement already satisfied: dvc-data<3.17,>=3.16.2 in /usr/local/lib/python3.11/dist-packages (from dvc[s3]) (3.16.10)\n",
            "Requirement already satisfied: dvc-http>=2.29.0 in /usr/local/lib/python3.11/dist-packages (from dvc[s3]) (2.32.0)\n",
            "Requirement already satisfied: dvc-objects in /usr/local/lib/python3.11/dist-packages (from dvc[s3]) (5.1.1)\n",
            "Requirement already satisfied: dvc-render<2,>=1.0.1 in /usr/local/lib/python3.11/dist-packages (from dvc[s3]) (1.0.2)\n",
            "Requirement already satisfied: dvc-studio-client<1,>=0.21 in /usr/local/lib/python3.11/dist-packages (from dvc[s3]) (0.21.0)\n",
            "Requirement already satisfied: dvc-task<1,>=0.3.0 in /usr/local/lib/python3.11/dist-packages (from dvc[s3]) (0.40.2)\n",
            "Requirement already satisfied: flatten_dict<1,>=0.4.1 in /usr/local/lib/python3.11/dist-packages (from dvc[s3]) (0.4.2)\n",
            "Requirement already satisfied: flufl.lock<9,>=8.1.0 in /usr/local/lib/python3.11/dist-packages (from dvc[s3]) (8.2.0)\n",
            "Requirement already satisfied: fsspec>=2024.2.0 in /usr/local/lib/python3.11/dist-packages (from dvc[s3]) (2025.3.2)\n",
            "Requirement already satisfied: funcy>=1.14 in /usr/local/lib/python3.11/dist-packages (from dvc[s3]) (2.0)\n",
            "Requirement already satisfied: grandalf<1,>=0.7 in /usr/local/lib/python3.11/dist-packages (from dvc[s3]) (0.8)\n",
            "Requirement already satisfied: gto<2,>=1.6.0 in /usr/local/lib/python3.11/dist-packages (from dvc[s3]) (1.7.2)\n",
            "Requirement already satisfied: hydra-core>=1.1 in /usr/local/lib/python3.11/dist-packages (from dvc[s3]) (1.3.2)\n",
            "Requirement already satisfied: iterative-telemetry>=0.0.7 in /usr/local/lib/python3.11/dist-packages (from dvc[s3]) (0.0.10)\n",
            "Requirement already satisfied: kombu in /usr/local/lib/python3.11/dist-packages (from dvc[s3]) (5.5.4)\n",
            "Requirement already satisfied: networkx>=2.5 in /usr/local/lib/python3.11/dist-packages (from dvc[s3]) (3.5)\n",
            "Requirement already satisfied: omegaconf in /usr/local/lib/python3.11/dist-packages (from dvc[s3]) (2.3.0)\n",
            "Requirement already satisfied: packaging>=19 in /usr/local/lib/python3.11/dist-packages (from dvc[s3]) (24.2)\n",
            "Requirement already satisfied: pathspec>=0.10.3 in /usr/local/lib/python3.11/dist-packages (from dvc[s3]) (0.12.1)\n",
            "Requirement already satisfied: platformdirs<5,>=3.1.1 in /usr/local/lib/python3.11/dist-packages (from dvc[s3]) (4.3.8)\n",
            "Requirement already satisfied: psutil>=5.8 in /usr/local/lib/python3.11/dist-packages (from dvc[s3]) (5.9.5)\n",
            "Requirement already satisfied: pydot>=1.2.4 in /usr/local/lib/python3.11/dist-packages (from dvc[s3]) (3.0.4)\n",
            "Requirement already satisfied: pygtrie>=2.3.2 in /usr/local/lib/python3.11/dist-packages (from dvc[s3]) (2.5.0)\n",
            "Requirement already satisfied: pyparsing>=2.4.7 in /usr/local/lib/python3.11/dist-packages (from dvc[s3]) (3.2.3)\n",
            "Requirement already satisfied: requests>=2.22 in /usr/local/lib/python3.11/dist-packages (from dvc[s3]) (2.32.3)\n",
            "Requirement already satisfied: rich>=12 in /usr/local/lib/python3.11/dist-packages (from dvc[s3]) (13.9.4)\n",
            "Requirement already satisfied: ruamel.yaml>=0.17.11 in /usr/local/lib/python3.11/dist-packages (from dvc[s3]) (0.18.14)\n",
            "Requirement already satisfied: scmrepo<4,>=3.3.8 in /usr/local/lib/python3.11/dist-packages (from dvc[s3]) (3.3.11)\n",
            "Requirement already satisfied: shortuuid>=0.5 in /usr/local/lib/python3.11/dist-packages (from dvc[s3]) (1.0.13)\n",
            "Requirement already satisfied: shtab<2,>=1.3.4 in /usr/local/lib/python3.11/dist-packages (from dvc[s3]) (1.7.2)\n",
            "Requirement already satisfied: tabulate>=0.8.7 in /usr/local/lib/python3.11/dist-packages (from dvc[s3]) (0.9.0)\n",
            "Requirement already satisfied: tomlkit>=0.11.1 in /usr/local/lib/python3.11/dist-packages (from dvc[s3]) (0.13.3)\n",
            "Requirement already satisfied: tqdm<5,>=4.63.1 in /usr/local/lib/python3.11/dist-packages (from dvc[s3]) (4.67.1)\n",
            "Requirement already satisfied: voluptuous>=0.11.7 in /usr/local/lib/python3.11/dist-packages (from dvc[s3]) (0.15.2)\n",
            "Requirement already satisfied: zc.lockfile>=1.2.1 in /usr/local/lib/python3.11/dist-packages (from dvc[s3]) (3.0.post1)\n",
            "Collecting dvc-s3<4,>=3.2.1 (from dvc[s3])\n",
            "  Downloading dvc_s3-3.2.2-py3-none-any.whl.metadata (1.5 kB)\n",
            "Requirement already satisfied: dictdiffer>=0.8.1 in /usr/local/lib/python3.11/dist-packages (from dvc-data<3.17,>=3.16.2->dvc[s3]) (0.9.0)\n",
            "Requirement already satisfied: diskcache>=5.2.1 in /usr/local/lib/python3.11/dist-packages (from dvc-data<3.17,>=3.16.2->dvc[s3]) (5.6.3)\n",
            "Requirement already satisfied: sqltrie<1,>=0.11.0 in /usr/local/lib/python3.11/dist-packages (from dvc-data<3.17,>=3.16.2->dvc[s3]) (0.11.2)\n",
            "Requirement already satisfied: orjson<4,>=3 in /usr/local/lib/python3.11/dist-packages (from dvc-data<3.17,>=3.16.2->dvc[s3]) (3.10.18)\n",
            "Requirement already satisfied: aiohttp-retry>=2.5.0 in /usr/local/lib/python3.11/dist-packages (from dvc-http>=2.29.0->dvc[s3]) (2.9.1)\n",
            "Collecting s3fs>=2024.12.0 (from dvc-s3<4,>=3.2.1->dvc[s3])\n",
            "  Downloading s3fs-2025.5.1-py3-none-any.whl.metadata (1.9 kB)\n",
            "Collecting aiobotocore>=2.5.0 (from aiobotocore[boto3]>=2.5.0->dvc-s3<4,>=3.2.1->dvc[s3])\n",
            "  Downloading aiobotocore-2.23.0-py3-none-any.whl.metadata (24 kB)\n",
            "Requirement already satisfied: billiard<5.0,>=4.2.1 in /usr/local/lib/python3.11/dist-packages (from celery->dvc[s3]) (4.2.1)\n",
            "Requirement already satisfied: vine<6.0,>=5.1.0 in /usr/local/lib/python3.11/dist-packages (from celery->dvc[s3]) (5.1.0)\n",
            "Requirement already satisfied: click<9.0,>=8.1.2 in /usr/local/lib/python3.11/dist-packages (from celery->dvc[s3]) (8.2.1)\n",
            "Requirement already satisfied: click-didyoumean>=0.3.0 in /usr/local/lib/python3.11/dist-packages (from celery->dvc[s3]) (0.3.1)\n",
            "Requirement already satisfied: click-repl>=0.2.0 in /usr/local/lib/python3.11/dist-packages (from celery->dvc[s3]) (0.3.0)\n",
            "Requirement already satisfied: click-plugins>=1.1.1 in /usr/local/lib/python3.11/dist-packages (from celery->dvc[s3]) (1.1.1.2)\n",
            "Requirement already satisfied: python-dateutil>=2.8.2 in /usr/local/lib/python3.11/dist-packages (from celery->dvc[s3]) (2.9.0.post0)\n",
            "Requirement already satisfied: six<2.0,>=1.12 in /usr/local/lib/python3.11/dist-packages (from flatten_dict<1,>=0.4.1->dvc[s3]) (1.17.0)\n",
            "Requirement already satisfied: atpublic in /usr/local/lib/python3.11/dist-packages (from flufl.lock<9,>=8.1.0->dvc[s3]) (5.1)\n",
            "Requirement already satisfied: entrypoints in /usr/local/lib/python3.11/dist-packages (from gto<2,>=1.6.0->dvc[s3]) (0.4)\n",
            "Requirement already satisfied: pydantic!=2.0.0,<3,>=1.9.0 in /usr/local/lib/python3.11/dist-packages (from gto<2,>=1.6.0->dvc[s3]) (2.11.7)\n",
            "Requirement already satisfied: semver>=2.13.0 in /usr/local/lib/python3.11/dist-packages (from gto<2,>=1.6.0->dvc[s3]) (3.0.4)\n",
            "Requirement already satisfied: typer>=0.4.1 in /usr/local/lib/python3.11/dist-packages (from gto<2,>=1.6.0->dvc[s3]) (0.16.0)\n",
            "Requirement already satisfied: antlr4-python3-runtime==4.9.* in /usr/local/lib/python3.11/dist-packages (from hydra-core>=1.1->dvc[s3]) (4.9.3)\n",
            "Requirement already satisfied: appdirs in /usr/local/lib/python3.11/dist-packages (from iterative-telemetry>=0.0.7->dvc[s3]) (1.4.4)\n",
            "Requirement already satisfied: filelock in /usr/local/lib/python3.11/dist-packages (from iterative-telemetry>=0.0.7->dvc[s3]) (3.18.0)\n",
            "Requirement already satisfied: amqp<6.0.0,>=5.1.1 in /usr/local/lib/python3.11/dist-packages (from kombu->dvc[s3]) (5.3.1)\n",
            "Requirement already satisfied: tzdata>=2025.2 in /usr/local/lib/python3.11/dist-packages (from kombu->dvc[s3]) (2025.2)\n",
            "Requirement already satisfied: PyYAML>=5.1.0 in /usr/local/lib/python3.11/dist-packages (from omegaconf->dvc[s3]) (6.0.2)\n",
            "Requirement already satisfied: charset-normalizer<4,>=2 in /usr/local/lib/python3.11/dist-packages (from requests>=2.22->dvc[s3]) (3.4.2)\n",
            "Requirement already satisfied: idna<4,>=2.5 in /usr/local/lib/python3.11/dist-packages (from requests>=2.22->dvc[s3]) (3.10)\n",
            "Requirement already satisfied: urllib3<3,>=1.21.1 in /usr/local/lib/python3.11/dist-packages (from requests>=2.22->dvc[s3]) (2.4.0)\n",
            "Requirement already satisfied: certifi>=2017.4.17 in /usr/local/lib/python3.11/dist-packages (from requests>=2.22->dvc[s3]) (2025.6.15)\n",
            "Requirement already satisfied: markdown-it-py>=2.2.0 in /usr/local/lib/python3.11/dist-packages (from rich>=12->dvc[s3]) (3.0.0)\n",
            "Requirement already satisfied: pygments<3.0.0,>=2.13.0 in /usr/local/lib/python3.11/dist-packages (from rich>=12->dvc[s3]) (2.19.2)\n",
            "Requirement already satisfied: ruamel.yaml.clib>=0.2.7 in /usr/local/lib/python3.11/dist-packages (from ruamel.yaml>=0.17.11->dvc[s3]) (0.2.12)\n",
            "Requirement already satisfied: gitpython>3 in /usr/local/lib/python3.11/dist-packages (from scmrepo<4,>=3.3.8->dvc[s3]) (3.1.44)\n",
            "Requirement already satisfied: pygit2>=1.14.0 in /usr/local/lib/python3.11/dist-packages (from scmrepo<4,>=3.3.8->dvc[s3]) (1.18.0)\n",
            "Requirement already satisfied: asyncssh<3,>=2.13.1 in /usr/local/lib/python3.11/dist-packages (from scmrepo<4,>=3.3.8->dvc[s3]) (2.21.0)\n",
            "Requirement already satisfied: setuptools in /usr/local/lib/python3.11/dist-packages (from zc.lockfile>=1.2.1->dvc[s3]) (75.2.0)\n",
            "Requirement already satisfied: aiohttp<4.0.0,>=3.9.2 in /usr/local/lib/python3.11/dist-packages (from aiobotocore>=2.5.0->aiobotocore[boto3]>=2.5.0->dvc-s3<4,>=3.2.1->dvc[s3]) (3.11.15)\n",
            "Collecting aioitertools<1.0.0,>=0.5.1 (from aiobotocore>=2.5.0->aiobotocore[boto3]>=2.5.0->dvc-s3<4,>=3.2.1->dvc[s3])\n",
            "  Downloading aioitertools-0.12.0-py3-none-any.whl.metadata (3.8 kB)\n",
            "Collecting botocore<1.38.28,>=1.38.23 (from aiobotocore>=2.5.0->aiobotocore[boto3]>=2.5.0->dvc-s3<4,>=3.2.1->dvc[s3])\n",
            "  Downloading botocore-1.38.27-py3-none-any.whl.metadata (5.7 kB)\n",
            "Collecting jmespath<2.0.0,>=0.7.1 (from aiobotocore>=2.5.0->aiobotocore[boto3]>=2.5.0->dvc-s3<4,>=3.2.1->dvc[s3])\n",
            "  Downloading jmespath-1.0.1-py3-none-any.whl.metadata (7.6 kB)\n",
            "Requirement already satisfied: multidict<7.0.0,>=6.0.0 in /usr/local/lib/python3.11/dist-packages (from aiobotocore>=2.5.0->aiobotocore[boto3]>=2.5.0->dvc-s3<4,>=3.2.1->dvc[s3]) (6.6.3)\n",
            "Requirement already satisfied: wrapt<2.0.0,>=1.10.10 in /usr/local/lib/python3.11/dist-packages (from aiobotocore>=2.5.0->aiobotocore[boto3]>=2.5.0->dvc-s3<4,>=3.2.1->dvc[s3]) (1.17.2)\n",
            "Collecting boto3<1.38.28,>=1.38.23 (from aiobotocore[boto3]>=2.5.0->dvc-s3<4,>=3.2.1->dvc[s3])\n",
            "  Downloading boto3-1.38.27-py3-none-any.whl.metadata (6.6 kB)\n",
            "Requirement already satisfied: cryptography>=39.0 in /usr/local/lib/python3.11/dist-packages (from asyncssh<3,>=2.13.1->scmrepo<4,>=3.3.8->dvc[s3]) (43.0.3)\n",
            "Requirement already satisfied: typing_extensions>=4.0.0 in /usr/local/lib/python3.11/dist-packages (from asyncssh<3,>=2.13.1->scmrepo<4,>=3.3.8->dvc[s3]) (4.14.1)\n",
            "Requirement already satisfied: prompt-toolkit>=3.0.36 in /usr/local/lib/python3.11/dist-packages (from click-repl>=0.2.0->celery->dvc[s3]) (3.0.51)\n",
            "Requirement already satisfied: gitdb<5,>=4.0.1 in /usr/local/lib/python3.11/dist-packages (from gitpython>3->scmrepo<4,>=3.3.8->dvc[s3]) (4.0.12)\n",
            "Requirement already satisfied: mdurl~=0.1 in /usr/local/lib/python3.11/dist-packages (from markdown-it-py>=2.2.0->rich>=12->dvc[s3]) (0.1.2)\n",
            "Requirement already satisfied: annotated-types>=0.6.0 in /usr/local/lib/python3.11/dist-packages (from pydantic!=2.0.0,<3,>=1.9.0->gto<2,>=1.6.0->dvc[s3]) (0.7.0)\n",
            "Requirement already satisfied: pydantic-core==2.33.2 in /usr/local/lib/python3.11/dist-packages (from pydantic!=2.0.0,<3,>=1.9.0->gto<2,>=1.6.0->dvc[s3]) (2.33.2)\n",
            "Requirement already satisfied: typing-inspection>=0.4.0 in /usr/local/lib/python3.11/dist-packages (from pydantic!=2.0.0,<3,>=1.9.0->gto<2,>=1.6.0->dvc[s3]) (0.4.1)\n",
            "Requirement already satisfied: cffi>=1.17.0 in /usr/local/lib/python3.11/dist-packages (from pygit2>=1.14.0->scmrepo<4,>=3.3.8->dvc[s3]) (1.17.1)\n",
            "INFO: pip is looking at multiple versions of s3fs to determine which version is compatible with other requirements. This could take a while.\n",
            "Collecting s3fs>=2024.12.0 (from dvc-s3<4,>=3.2.1->dvc[s3])\n",
            "  Downloading s3fs-2025.5.0-py3-none-any.whl.metadata (1.9 kB)\n",
            "  Downloading s3fs-2025.3.2-py3-none-any.whl.metadata (1.9 kB)\n",
            "Requirement already satisfied: shellingham>=1.3.0 in /usr/local/lib/python3.11/dist-packages (from typer>=0.4.1->gto<2,>=1.6.0->dvc[s3]) (1.5.4)\n",
            "Requirement already satisfied: aiohappyeyeballs>=2.3.0 in /usr/local/lib/python3.11/dist-packages (from aiohttp<4.0.0,>=3.9.2->aiobotocore>=2.5.0->aiobotocore[boto3]>=2.5.0->dvc-s3<4,>=3.2.1->dvc[s3]) (2.6.1)\n",
            "Requirement already satisfied: aiosignal>=1.1.2 in /usr/local/lib/python3.11/dist-packages (from aiohttp<4.0.0,>=3.9.2->aiobotocore>=2.5.0->aiobotocore[boto3]>=2.5.0->dvc-s3<4,>=3.2.1->dvc[s3]) (1.4.0)\n",
            "Requirement already satisfied: frozenlist>=1.1.1 in /usr/local/lib/python3.11/dist-packages (from aiohttp<4.0.0,>=3.9.2->aiobotocore>=2.5.0->aiobotocore[boto3]>=2.5.0->dvc-s3<4,>=3.2.1->dvc[s3]) (1.7.0)\n",
            "Requirement already satisfied: propcache>=0.2.0 in /usr/local/lib/python3.11/dist-packages (from aiohttp<4.0.0,>=3.9.2->aiobotocore>=2.5.0->aiobotocore[boto3]>=2.5.0->dvc-s3<4,>=3.2.1->dvc[s3]) (0.3.2)\n",
            "Requirement already satisfied: yarl<2.0,>=1.17.0 in /usr/local/lib/python3.11/dist-packages (from aiohttp<4.0.0,>=3.9.2->aiobotocore>=2.5.0->aiobotocore[boto3]>=2.5.0->dvc-s3<4,>=3.2.1->dvc[s3]) (1.20.1)\n",
            "Collecting s3transfer<0.14.0,>=0.13.0 (from boto3<1.38.28,>=1.38.23->aiobotocore[boto3]>=2.5.0->dvc-s3<4,>=3.2.1->dvc[s3])\n",
            "  Downloading s3transfer-0.13.0-py3-none-any.whl.metadata (1.7 kB)\n",
            "Requirement already satisfied: pycparser in /usr/local/lib/python3.11/dist-packages (from cffi>=1.17.0->pygit2>=1.14.0->scmrepo<4,>=3.3.8->dvc[s3]) (2.22)\n",
            "Requirement already satisfied: smmap<6,>=3.0.1 in /usr/local/lib/python3.11/dist-packages (from gitdb<5,>=4.0.1->gitpython>3->scmrepo<4,>=3.3.8->dvc[s3]) (5.0.2)\n",
            "Requirement already satisfied: wcwidth in /usr/local/lib/python3.11/dist-packages (from prompt-toolkit>=3.0.36->click-repl>=0.2.0->celery->dvc[s3]) (0.2.13)\n",
            "Downloading dvc_s3-3.2.2-py3-none-any.whl (13 kB)\n",
            "Downloading aiobotocore-2.23.0-py3-none-any.whl (84 kB)\n",
            "\u001b[2K   \u001b[90m━━━━━━━━━━━━━━━━━━━━━━━━━━━━━━━━━━━━━━━━\u001b[0m \u001b[32m84.2/84.2 kB\u001b[0m \u001b[31m3.3 MB/s\u001b[0m eta \u001b[36m0:00:00\u001b[0m\n",
            "\u001b[?25hDownloading s3fs-2025.3.2-py3-none-any.whl (30 kB)\n",
            "Downloading aioitertools-0.12.0-py3-none-any.whl (24 kB)\n",
            "Downloading boto3-1.38.27-py3-none-any.whl (139 kB)\n",
            "\u001b[2K   \u001b[90m━━━━━━━━━━━━━━━━━━━━━━━━━━━━━━━━━━━━━━━━\u001b[0m \u001b[32m139.9/139.9 kB\u001b[0m \u001b[31m9.3 MB/s\u001b[0m eta \u001b[36m0:00:00\u001b[0m\n",
            "\u001b[?25hDownloading botocore-1.38.27-py3-none-any.whl (13.6 MB)\n",
            "\u001b[2K   \u001b[90m━━━━━━━━━━━━━━━━━━━━━━━━━━━━━━━━━━━━━━━━\u001b[0m \u001b[32m13.6/13.6 MB\u001b[0m \u001b[31m93.5 MB/s\u001b[0m eta \u001b[36m0:00:00\u001b[0m\n",
            "\u001b[?25hDownloading jmespath-1.0.1-py3-none-any.whl (20 kB)\n",
            "Downloading s3transfer-0.13.0-py3-none-any.whl (85 kB)\n",
            "\u001b[2K   \u001b[90m━━━━━━━━━━━━━━━━━━━━━━━━━━━━━━━━━━━━━━━━\u001b[0m \u001b[32m85.2/85.2 kB\u001b[0m \u001b[31m7.3 MB/s\u001b[0m eta \u001b[36m0:00:00\u001b[0m\n",
            "\u001b[?25hInstalling collected packages: jmespath, aioitertools, botocore, s3transfer, aiobotocore, s3fs, boto3, dvc-s3\n",
            "Successfully installed aiobotocore-2.23.0 aioitertools-0.12.0 boto3-1.38.27 botocore-1.38.27 dvc-s3-3.2.2 jmespath-1.0.1 s3fs-2025.3.2 s3transfer-0.13.0\n",
            "Reading package lists... Done\n",
            "Building dependency tree... Done\n",
            "Reading state information... Done\n",
            "git is already the newest version (1:2.34.1-1ubuntu1.14).\n",
            "0 upgraded, 0 newly installed, 0 to remove and 35 not upgraded.\n"
          ]
        }
      ],
      "source": [
        "!pip install mlflow optuna statsmodels dvc -q\n",
        "!pip install dvc[s3]\n",
        "!apt install git -y"
      ]
    },
    {
      "cell_type": "code",
      "execution_count": 4,
      "metadata": {
        "id": "OT015t8CkXwC"
      },
      "outputs": [],
      "source": [
        "import pandas as pd\n",
        "import numpy as np\n",
        "import mlflow\n",
        "import os\n",
        "import subprocess\n",
        "import optuna\n",
        "from statsmodels.tsa.statespace.sarimax import SARIMAX\n",
        "from sklearn.metrics import mean_squared_error, mean_absolute_error\n",
        "from math import sqrt"
      ]
    },
    {
      "cell_type": "code",
      "execution_count": null,
      "metadata": {
        "id": "seInE0HdkaIJ"
      },
      "outputs": [],
      "source": [
        "MLFLOW_TRACKING_URI = \"\"\n",
        "EXPERIMENT_NAME = \"AQI hyperparameter & model testing (Manual)\"\n",
        "PREDICT_HORIZON = 72  # Predict next 3 days = 72 hours\n",
        "VALIDATION_FRACTION = 0.2  # 20% holdout for final validation"
      ]
    },
    {
      "cell_type": "code",
      "execution_count": 6,
      "metadata": {
        "colab": {
          "base_uri": "https://localhost:8080/"
        },
        "id": "2aQovUKqkfgy",
        "outputId": "5341394b-f79b-48ba-9f9f-c62a782e634e"
      },
      "outputs": [
        {
          "data": {
            "text/plain": [
              "<Experiment: artifact_location='/home/umair/mlruns/3', creation_time=1752022350617, experiment_id='3', last_update_time=1752022350617, lifecycle_stage='active', name='AQI hyperparameter & model testing (Manual)', tags={}>"
            ]
          },
          "execution_count": 6,
          "metadata": {},
          "output_type": "execute_result"
        }
      ],
      "source": [
        "mlflow.set_tracking_uri(MLFLOW_TRACKING_URI)\n",
        "mlflow.set_experiment(EXPERIMENT_NAME)"
      ]
    },
    {
      "cell_type": "code",
      "execution_count": 7,
      "metadata": {
        "colab": {
          "base_uri": "https://localhost:8080/"
        },
        "id": "V4nXtsXlkhlY",
        "outputId": "49834861-e048-4a5e-d938-fe903008b286"
      },
      "outputs": [
        {
          "name": "stdout",
          "output_type": "stream",
          "text": [
            "\u001b[33mhint: Using 'master' as the name for the initial branch. This default branch name\u001b[m\n",
            "\u001b[33mhint: is subject to change. To configure the initial branch name to use in all\u001b[m\n",
            "\u001b[33mhint: of your new repositories, which will suppress this warning, call:\u001b[m\n",
            "\u001b[33mhint: \u001b[m\n",
            "\u001b[33mhint: \tgit config --global init.defaultBranch <name>\u001b[m\n",
            "\u001b[33mhint: \u001b[m\n",
            "\u001b[33mhint: Names commonly chosen instead of 'master' are 'main', 'trunk' and\u001b[m\n",
            "\u001b[33mhint: 'development'. The just-created branch can be renamed via this command:\u001b[m\n",
            "\u001b[33mhint: \u001b[m\n",
            "\u001b[33mhint: \tgit branch -m <name>\u001b[m\n",
            "Initialized empty Git repository in /content/.git/\n",
            "Initialized DVC repository.\n",
            "\n",
            "You can now commit the changes to git.\n",
            "\n",
            "\u001b[31m+---------------------------------------------------------------------+\n",
            "\u001b[0m\u001b[31m|\u001b[0m                                                                     \u001b[31m|\u001b[0m\n",
            "\u001b[31m|\u001b[0m        DVC has enabled anonymous aggregate usage analytics.         \u001b[31m|\u001b[0m\n",
            "\u001b[31m|\u001b[0m     Read the analytics documentation (and how to opt-out) here:     \u001b[31m|\u001b[0m\n",
            "\u001b[31m|\u001b[0m             <\u001b[36mhttps://dvc.org/doc/user-guide/analytics\u001b[39m>              \u001b[31m|\u001b[0m\n",
            "\u001b[31m|\u001b[0m                                                                     \u001b[31m|\u001b[0m\n",
            "\u001b[31m+---------------------------------------------------------------------+\n",
            "\u001b[0m\n",
            "\u001b[33mWhat's next?\u001b[39m\n",
            "\u001b[33m------------\u001b[39m\n",
            "- Check out the documentation: <\u001b[36mhttps://dvc.org/doc\u001b[39m>\n",
            "- Get help and share ideas: <\u001b[36mhttps://dvc.org/chat\u001b[39m>\n",
            "- Star us on GitHub: <\u001b[36mhttps://github.com/iterative/dvc\u001b[39m>\n",
            "\u001b[0mSetting 'myremote' as a default remote.\n",
            "\u001b[0m"
          ]
        }
      ],
      "source": [
        "!git init\n",
        "!dvc init\n",
        "!dvc remote add -d myremote s3://s3-bucket-umairrr"
      ]
    },
    {
      "cell_type": "code",
      "execution_count": 8,
      "metadata": {
        "colab": {
          "base_uri": "https://localhost:8080/"
        },
        "id": "Eg8QiuV9klqq",
        "outputId": "d265a2e1-2357-413a-bfb2-d7d3629312b2"
      },
      "outputs": [
        {
          "name": "stdout",
          "output_type": "stream",
          "text": [
            "Cloning into '10pearls-AQI-Project-'...\n",
            "remote: Enumerating objects: 416, done.\u001b[K\n",
            "remote: Counting objects: 100% (192/192), done.\u001b[K\n",
            "remote: Compressing objects: 100% (123/123), done.\u001b[K\n",
            "remote: Total 416 (delta 87), reused 153 (delta 52), pack-reused 224 (from 1)\u001b[K\n",
            "Receiving objects: 100% (416/416), 5.61 MiB | 11.55 MiB/s, done.\n",
            "Resolving deltas: 100% (195/195), done.\n",
            "/content/10pearls-AQI-Project-\n"
          ]
        }
      ],
      "source": [
        "!git clone https://github.com/uma1r111/10pearls-AQI-Project-\n",
        "%cd 10pearls-AQI-Project-"
      ]
    },
    {
      "cell_type": "code",
      "execution_count": null,
      "metadata": {
        "colab": {
          "base_uri": "https://localhost:8080/"
        },
        "id": "JDdsfmyVkoeY",
        "outputId": "8ac79a1e-004e-4bb7-88a5-ef82fdb5bf36"
      },
      "outputs": [
        {
          "name": "stdout",
          "output_type": "stream",
          "text": [
            "\n",
            "Pulling latest feature_selection.csv from DVC remote (S3)...\n"
          ]
        },
        {
          "data": {
            "text/plain": [
              "CompletedProcess(args=['dvc', 'pull'], returncode=0)"
            ]
          },
          "execution_count": 9,
          "metadata": {},
          "output_type": "execute_result"
        }
      ],
      "source": [
        "# Load and preprocess data\n",
        "print(\"\\nPulling latest feature_selection.csv from DVC remote (S3)...\")\n",
        "os.environ[\"AWS_ACCESS_KEY_ID\"] = \"\"\n",
        "os.environ[\"AWS_SECRET_ACCESS_KEY\"] = \"\"\n",
        "os.environ[\"AWS_DEFAULT_REGION\"] = \"\"\n",
        "subprocess.run([\"dvc\", \"pull\"], check=True)"
      ]
    },
    {
      "cell_type": "code",
      "execution_count": 10,
      "metadata": {
        "colab": {
          "base_uri": "https://localhost:8080/"
        },
        "id": "3fkdYl7rkqLs",
        "outputId": "eea0e307-1ed9-4903-faf9-06269cf284ca"
      },
      "outputs": [
        {
          "name": "stdout",
          "output_type": "stream",
          "text": [
            "./karachi_weather_apr1_to_current.csv\n",
            "./requirements.txt\n",
            "./.dvcignore\n",
            "./full_preprocessed_aqi_weather_data_with_all_features.csv\n",
            "./feature_selection.csv\n",
            "./README.md\n",
            "./feature_selection.csv.dvc\n",
            "./.gitignore\n",
            "./fetch_daily_data.py\n",
            "./Data Collection/karachi_weather_jun2025.ipynb\n",
            "./Data Collection/karachi_weather_apr1_jun14.ipynb\n",
            "./Data Collection/pollutants info Apr - Jun.ipynb\n",
            "./Feature Selection/feature_selection.py\n",
            "./Feature Selection/Feature_Selection.ipynb\n",
            "./Feature Selection/initial_feature_extraction.ipynb\n",
            "./Exploratory Visualization Analysis/Exploratory Visualization Analysis.ipynb\n",
            "./Exploratory Visualization Analysis/Exploratory Visualization Analysis.txt\n",
            "./Data/karachi_weather_apr1_jun14.csv\n",
            "./Data/karachi_weather_jun2025.csv\n",
            "./Data/pollutants info Mar - jul.csv\n",
            "./Data Preprocessing/Data_PreProcessing.ipynb\n",
            "./Data Preprocessing/run_preprocessing.py\n",
            "./Data Preprocessing/data_quality_check.py\n",
            "./.github/workflows/feature_engineering.yml\n",
            "./.github/workflows/update_data.yml\n",
            "./.github/workflows/feature_selection.yml\n",
            "./.dvc/config\n",
            "./.dvc/.gitignore\n",
            "./.dvc/tmp/lock\n",
            "./.dvc/tmp/btime\n",
            "./.dvc/cache/files/md5/fd/dae5194b97fa5b62999cdc56590f70\n",
            "./.git/packed-refs\n",
            "./.git/index\n",
            "./.git/description\n",
            "./.git/HEAD\n",
            "./.git/config\n",
            "./.git/refs/remotes/origin/HEAD\n",
            "./.git/refs/heads/main\n",
            "./.git/objects/pack/pack-9d2478292ebe9ba2e3a2bb9410bae685f576b1f2.idx\n",
            "./.git/objects/pack/pack-9d2478292ebe9ba2e3a2bb9410bae685f576b1f2.pack\n",
            "./.git/info/exclude\n",
            "./.git/logs/HEAD\n",
            "./.git/logs/refs/remotes/origin/HEAD\n",
            "./.git/logs/refs/heads/main\n",
            "./.git/hooks/fsmonitor-watchman.sample\n",
            "./.git/hooks/post-update.sample\n",
            "./.git/hooks/pre-commit.sample\n",
            "./.git/hooks/commit-msg.sample\n",
            "./.git/hooks/prepare-commit-msg.sample\n",
            "./.git/hooks/update.sample\n",
            "./.git/hooks/pre-push.sample\n",
            "./.git/hooks/pre-receive.sample\n",
            "./.git/hooks/applypatch-msg.sample\n",
            "./.git/hooks/pre-applypatch.sample\n",
            "./.git/hooks/pre-rebase.sample\n",
            "./.git/hooks/pre-merge-commit.sample\n",
            "./.git/hooks/push-to-checkout.sample\n"
          ]
        }
      ],
      "source": [
        "for root, dirs, files in os.walk(\".\", topdown=True):\n",
        "    for name in files:\n",
        "        print(os.path.join(root, name))"
      ]
    },
    {
      "cell_type": "code",
      "execution_count": 11,
      "metadata": {
        "id": "udm6hpnAktQh"
      },
      "outputs": [],
      "source": [
        "df = pd.read_csv(\"feature_selection.csv\")"
      ]
    },
    {
      "cell_type": "code",
      "execution_count": 12,
      "metadata": {
        "id": "5z-04ziokvi_"
      },
      "outputs": [],
      "source": [
        "df['datetime'] = pd.to_datetime(df['datetime'])\n",
        "df = df[(df[\"datetime\"] >= \"2025-04-01\") & (df[\"datetime\"] <= \"2025-07-07\")]\n",
        "df = df.sort_values(\"datetime\")\n",
        "\n",
        "# Prepare full feature set (including AQI as part of exog for multivariate prediction)\n",
        "features = df.drop(columns=[\"datetime\"])\n",
        "num_features = features.shape[1]"
      ]
    },
    {
      "cell_type": "code",
      "execution_count": 13,
      "metadata": {
        "colab": {
          "base_uri": "https://localhost:8080/"
        },
        "id": "E-DYsyA6u4s7",
        "outputId": "b935f642-f8c1-40c0-85be-d395e1c82818"
      },
      "outputs": [
        {
          "name": "stdout",
          "output_type": "stream",
          "text": [
            "['datetime', 'aqi_us_lag1', 'aqi_us_lag12', 'aqi_us_lag24', 'pm2_5', 'log_pm10', 'scaled_humidity_%', 'scaled_temp_C_scaled_log_windspeed_kph', 'log_so2', 'day_of_week', 'scaled_temp_C', 'scaled_temp_C_scaled_o3', 'log_no2', 'aqi_us']\n"
          ]
        }
      ],
      "source": [
        "print(df.columns.tolist())"
      ]
    },
    {
      "cell_type": "code",
      "execution_count": 14,
      "metadata": {
        "colab": {
          "base_uri": "https://localhost:8080/"
        },
        "id": "pMLCWTMnkym2",
        "outputId": "bdbab07a-3508-4a0d-cb8f-1fe1ba918840"
      },
      "outputs": [
        {
          "name": "stdout",
          "output_type": "stream",
          "text": [
            "0   2025-04-01 00:00:00\n",
            "1   2025-04-01 01:00:00\n",
            "2   2025-04-01 02:00:00\n",
            "3   2025-04-01 03:00:00\n",
            "4   2025-04-01 04:00:00\n",
            "Name: datetime, dtype: datetime64[ns]\n",
            "Filtered Rows: 2329\n"
          ]
        }
      ],
      "source": [
        "print(df[\"datetime\"].head())\n",
        "print(\"Filtered Rows:\", len(df))"
      ]
    },
    {
      "cell_type": "markdown",
      "metadata": {
        "id": "-4Vv2X1lk1j1"
      },
      "source": [
        "# Sequencing for Walk Forward **Validation**"
      ]
    },
    {
      "cell_type": "code",
      "execution_count": 15,
      "metadata": {
        "id": "8yyGKn1Wk7V8"
      },
      "outputs": [],
      "source": [
        "def walk_forward_validation(X, horizon, train_fraction=0.8):\n",
        "    n_samples = len(X) - horizon + 1\n",
        "    train_size = int(n_samples * train_fraction)\n",
        "    train_X, val_X = [], []\n",
        "    train_y, val_y = [], []\n",
        "\n",
        "    for i in range(n_samples):\n",
        "        seq_y = X[i:(i + horizon)].values\n",
        "        seq_X = X[:i] if i > 0 else np.array([])  # Expanding window of past data\n",
        "        if i < train_size:\n",
        "            train_X.append(seq_X)\n",
        "            train_y.append(seq_y)\n",
        "        else:\n",
        "            val_X.append(seq_X)\n",
        "            val_y.append(seq_y)\n",
        "    return (np.array(train_X, dtype=object), np.array(train_y),\n",
        "            np.array(val_X, dtype=object), np.array(val_y))\n",
        "X_train_seq, y_train, X_val_seq, y_val = walk_forward_validation(features, PREDICT_HORIZON)"
      ]
    },
    {
      "cell_type": "code",
      "execution_count": 16,
      "metadata": {
        "id": "TvrdCBqBlGDz"
      },
      "outputs": [],
      "source": [
        "# Flatten for SARIMAX input (SARIMAX expects 1D endog, 2D exog)\n",
        "y_train_flat = y_train.reshape(y_train.shape[0], -1)\n",
        "y_val_flat = y_val.reshape(y_val.shape[0], -1)"
      ]
    },
    {
      "cell_type": "code",
      "execution_count": 17,
      "metadata": {
        "colab": {
          "base_uri": "https://localhost:8080/"
        },
        "id": "oTNKabxblJf3",
        "outputId": "32c0c9bb-4a26-4911-f004-75a4369725ad"
      },
      "outputs": [
        {
          "name": "stdout",
          "output_type": "stream",
          "text": [
            "y_train_flat shape: (1806, 936)\n",
            "y_val_flat shape: (452, 936)\n"
          ]
        }
      ],
      "source": [
        "train_exog = features.iloc[:len(y_train)].values\n",
        "val_exog = features.iloc[len(y_train):len(y_train) + len(y_val)].values\n",
        "print(\"y_train_flat shape:\", y_train_flat.shape)\n",
        "print(\"y_val_flat shape:\", y_val_flat.shape)"
      ]
    },
    {
      "cell_type": "code",
      "execution_count": 18,
      "metadata": {
        "id": "srRK6v8NxfsE"
      },
      "outputs": [],
      "source": [
        "# Explicitly separate target (\"AQI\") and exogenous features\n",
        "target_col = \"aqi_us\"\n",
        "target = features[target_col]\n",
        "exog_features = features.drop(columns=[target_col])"
      ]
    },
    {
      "cell_type": "code",
      "execution_count": 19,
      "metadata": {
        "id": "ns0FW1WlpKeD"
      },
      "outputs": [],
      "source": [
        "# Split full data for final validation\n",
        "train_size_full = int(len(features) * (1 - VALIDATION_FRACTION))\n",
        "train_target = target.iloc[:train_size_full]\n",
        "val_target = target.iloc[train_size_full:]\n",
        "train_exog_full = exog_features.iloc[:train_size_full].values\n",
        "val_exog_full = exog_features.iloc[train_size_full:].values"
      ]
    },
    {
      "cell_type": "markdown",
      "metadata": {
        "id": "WjwqN3kAlLVD"
      },
      "source": [
        "# Optuna Hyperparameter **Tuning**"
      ]
    },
    {
      "cell_type": "code",
      "execution_count": null,
      "metadata": {
        "colab": {
          "background_save": true,
          "base_uri": "https://localhost:8080/"
        },
        "id": "AYGZjM-hlO3E",
        "outputId": "e110a8aa-4594-4273-e7df-b42f4d7abdd1"
      },
      "outputs": [
        {
          "name": "stderr",
          "output_type": "stream",
          "text": [
            "[I 2025-07-11 00:00:27,486] A new study created in memory with name: no-name-50629949-660d-41a7-ac71-86a5311c36ab\n",
            "[I 2025-07-11 00:27:41,940] Trial 0 finished with value: 1.263218010651326 and parameters: {'p': 1, 'd': 0, 'q': 0, 'P': 1, 'D': 1, 'Q': 2, 'seasonal_period': 48}. Best is trial 0 with value: 1.263218010651326.\n",
            "[I 2025-07-11 00:40:32,825] Trial 1 finished with value: 28.34467027335216 and parameters: {'p': 2, 'd': 2, 'q': 1, 'P': 2, 'D': 0, 'Q': 0, 'seasonal_period': 48}. Best is trial 0 with value: 1.263218010651326.\n",
            "[I 2025-07-11 00:41:17,604] Trial 2 finished with value: 10.645931545308235 and parameters: {'p': 2, 'd': 1, 'q': 2, 'P': 0, 'D': 0, 'Q': 1, 'seasonal_period': 24}. Best is trial 0 with value: 1.263218010651326.\n",
            "[I 2025-07-11 00:45:01,207] Trial 3 finished with value: 2.6399395824996605 and parameters: {'p': 1, 'd': 0, 'q': 1, 'P': 0, 'D': 1, 'Q': 0, 'seasonal_period': 72}. Best is trial 0 with value: 1.263218010651326.\n",
            "[I 2025-07-11 01:15:07,222] Trial 4 finished with value: 233.33420699718124 and parameters: {'p': 0, 'd': 2, 'q': 0, 'P': 2, 'D': 0, 'Q': 2, 'seasonal_period': 72}. Best is trial 0 with value: 1.263218010651326.\n",
            "[I 2025-07-11 01:24:16,529] Trial 5 finished with value: 41.20366426464148 and parameters: {'p': 2, 'd': 1, 'q': 0, 'P': 0, 'D': 1, 'Q': 1, 'seasonal_period': 48}. Best is trial 0 with value: 1.263218010651326.\n",
            "[I 2025-07-11 01:35:39,894] Trial 6 finished with value: 1.1390574026250793 and parameters: {'p': 2, 'd': 0, 'q': 1, 'P': 1, 'D': 0, 'Q': 2, 'seasonal_period': 48}. Best is trial 6 with value: 1.1390574026250793.\n"
          ]
        }
      ],
      "source": [
        "# Optuna objective function with walk-forward validation\n",
        "def optuna_objective(trial):\n",
        "    p = trial.suggest_int(\"p\", 0, 2)\n",
        "    d = trial.suggest_int(\"d\", 0, 2)\n",
        "    q = trial.suggest_int(\"q\", 0, 2)\n",
        "    P = trial.suggest_int(\"P\", 0, 2)\n",
        "    D = trial.suggest_int(\"D\", 0, 1)\n",
        "    Q = trial.suggest_int(\"Q\", 0, 2)\n",
        "    seasonal_period = trial.suggest_categorical(\"seasonal_period\", [24, 48, 72])\n",
        "\n",
        "    model = SARIMAX(endog=train_target,\n",
        "                    exog=train_exog_full,\n",
        "                    order=(p, d, q),\n",
        "                    seasonal_order=(P, D, Q, seasonal_period),\n",
        "                    enforce_stationarity=False,\n",
        "                    enforce_invertibility=False)\n",
        "    try:\n",
        "        fitted_model = model.fit(disp=0)\n",
        "        val_preds = fitted_model.forecast(steps=len(val_target), exog=val_exog_full)\n",
        "        rmse = sqrt(mean_squared_error(val_target, val_preds))\n",
        "        return rmse\n",
        "    except:\n",
        "        return float(\"inf\")\n",
        "\n",
        "\n",
        "# Run optimization\n",
        "study = optuna.create_study(direction=\"minimize\")\n",
        "study.optimize(optuna_objective, n_trials=15)\n",
        "\n",
        "# Log best trial to MLflow\n",
        "with mlflow.start_run(run_name=\"SARIMAX_Best_Hyperparameters_Optuna\"):\n",
        "    mlflow.log_params(study.best_params)\n",
        "    mlflow.log_metric(\"best_rmse\", study.best_value)\n",
        "    print(\"Best parameters:\", study.best_params)"
      ]
    },
    {
      "cell_type": "code",
      "execution_count": 20,
      "metadata": {
        "id": "l-gUjMzE-Ydh"
      },
      "outputs": [],
      "source": [
        "best_params = {\n",
        "    \"p\": 2,\n",
        "    \"d\": 0,\n",
        "    \"q\": 1,\n",
        "    \"P\": 1,\n",
        "    \"D\": 0,\n",
        "    \"Q\": 2,\n",
        "    \"seasonal_period\": 48\n",
        "}"
      ]
    },
    {
      "cell_type": "markdown",
      "metadata": {
        "id": "6SLt46DgleTT"
      },
      "source": [
        "# SARIMAX Model **Fit**"
      ]
    },
    {
      "cell_type": "code",
      "execution_count": 22,
      "metadata": {
        "colab": {
          "base_uri": "https://localhost:8080/"
        },
        "id": "QlEmoKuZlkFr",
        "outputId": "454c5fc4-c6f5-4b10-c7b6-1edab49b7fa0"
      },
      "outputs": [
        {
          "name": "stderr",
          "output_type": "stream",
          "text": [
            "/usr/local/lib/python3.11/dist-packages/statsmodels/base/model.py:607: ConvergenceWarning: Maximum Likelihood optimization failed to converge. Check mle_retvals\n",
            "  warnings.warn(\"Maximum Likelihood optimization failed to \"\n"
          ]
        },
        {
          "name": "stdout",
          "output_type": "stream",
          "text": [
            "Final RMSE: 1.1390574026250793\n",
            "Final MAE: 0.7723148161877342\n",
            "🏃 View run Final_SARIMAX_Model_Optuna at: http://172.174.154.85:8000/#/experiments/3/runs/5c7f9ca8a663485b86fa654b8c1d936c\n",
            "🧪 View experiment at: http://172.174.154.85:8000/#/experiments/3\n"
          ]
        }
      ],
      "source": [
        "#best_params = study.best_params\n",
        "with mlflow.start_run(run_name=\"Final_SARIMAX_Model_Optuna\"):\n",
        "    # Fit final model with best parameters on training data (excluding validation holdout)\n",
        "    final_model = SARIMAX(endog=train_target,  # 'aqi_us' from index 12\n",
        "                          exog=train_exog_full[:, :12],  # First 12 columns as exog\n",
        "                          order=(best_params[\"p\"], best_params[\"d\"], best_params[\"q\"]),\n",
        "                          seasonal_order=(best_params[\"P\"], best_params[\"D\"], best_params[\"Q\"], best_params[\"seasonal_period\"]),\n",
        "                          enforce_stationarity=False,\n",
        "                          enforce_invertibility=False)\n",
        "    fitted_model = final_model.fit(disp=0)\n",
        "\n",
        "    # Predict on validation holdout for final metrics\n",
        "    val_preds = fitted_model.forecast(steps=len(val_target), exog=val_exog_full[:, :12])\n",
        "    val_preds_full = np.column_stack((val_preds, val_exog_full[:, :12]))  # Reconstruct all features\n",
        "    rmse = sqrt(mean_squared_error(val_target, val_preds))\n",
        "    mae = mean_absolute_error(val_target, val_preds)\n",
        "\n",
        "    # Log to MLflow\n",
        "    mlflow.log_params(best_params)\n",
        "    mlflow.log_metric(\"final_rmse\", rmse)\n",
        "    mlflow.log_metric(\"final_mae\", mae)\n",
        "    mlflow.set_tag(\"model_type\", \"SARIMAX_Multivariate\")\n",
        "    mlflow.set_tag(\"tuner\", \"Optuna\")\n",
        "    print(\"Final RMSE:\", rmse)\n",
        "    print(\"Final MAE:\", mae)"
      ]
    },
    {
      "cell_type": "markdown",
      "metadata": {
        "id": "hPZPS7xgp6Vk"
      },
      "source": [
        "# **Prediction**"
      ]
    },
    {
      "cell_type": "code",
      "execution_count": 23,
      "metadata": {
        "colab": {
          "base_uri": "https://localhost:8080/"
        },
        "id": "n0ziWjv1p89A",
        "outputId": "ff8c46a3-d870-46ad-ec60-a60e1bbf9b2c"
      },
      "outputs": [
        {
          "name": "stderr",
          "output_type": "stream",
          "text": [
            "/tmp/ipython-input-23-597289894.py:6: FutureWarning: 'H' is deprecated and will be removed in a future version, please use 'h' instead.\n",
            "  future_dates = pd.date_range(start=df['datetime'].iloc[-1] + pd.Timedelta(hours=1),\n"
          ]
        }
      ],
      "source": [
        "# Prepare last sequence for forecasting\n",
        "last_exog = exog_features.iloc[-PREDICT_HORIZON:].values  # Last 72 hours of exogenous data\n",
        "\n",
        "# Forecast next 72 hours for AQI\n",
        "future_preds = fitted_model.forecast(steps=PREDICT_HORIZON, exog=last_exog)\n",
        "future_dates = pd.date_range(start=df['datetime'].iloc[-1] + pd.Timedelta(hours=1),\n",
        "                             periods=PREDICT_HORIZON, freq='H')\n",
        "\n",
        "future_df = pd.DataFrame({target_col: future_preds, \"datetime\": future_dates})\n",
        "future_df.to_csv(\"future_AQI_predictions_sarimax_optuna.csv\", index=False)\n",
        "mlflow.log_artifact(\"future_AQI_predictions_sarimax_optuna.csv\")\n"
      ]
    },
    {
      "cell_type": "code",
      "execution_count": null,
      "metadata": {
        "id": "l-YM7NoHp5WS"
      },
      "outputs": [],
      "source": []
    }
  ],
  "metadata": {
    "colab": {
      "provenance": []
    },
    "kernelspec": {
      "display_name": "Python 3",
      "name": "python3"
    },
    "language_info": {
      "name": "python"
    }
  },
  "nbformat": 4,
  "nbformat_minor": 0
}
