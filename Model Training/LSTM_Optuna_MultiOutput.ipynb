{
  "cells": [
    {
      "cell_type": "code",
      "execution_count": null,
      "metadata": {
        "colab": {
          "base_uri": "https://localhost:8080/"
        },
        "id": "wDecdNZYRVjD",
        "outputId": "7d56e855-61fc-403d-f523-69599a00a154"
      },
      "outputs": [
        {
          "name": "stdout",
          "output_type": "stream",
          "text": [
            "\u001b[2K   \u001b[90m━━━━━━━━━━━━━━━━━━━━━━━━━━━━━━━━━━━━━━━━\u001b[0m \u001b[32m24.7/24.7 MB\u001b[0m \u001b[31m73.3 MB/s\u001b[0m eta \u001b[36m0:00:00\u001b[0m\n",
            "\u001b[2K   \u001b[90m━━━━━━━━━━━━━━━━━━━━━━━━━━━━━━━━━━━━━━━━\u001b[0m \u001b[32m1.9/1.9 MB\u001b[0m \u001b[31m68.6 MB/s\u001b[0m eta \u001b[36m0:00:00\u001b[0m\n",
            "\u001b[2K   \u001b[90m━━━━━━━━━━━━━━━━━━━━━━━━━━━━━━━━━━━━━━━━\u001b[0m \u001b[32m129.1/129.1 kB\u001b[0m \u001b[31m9.2 MB/s\u001b[0m eta \u001b[36m0:00:00\u001b[0m\n",
            "\u001b[2K   \u001b[90m━━━━━━━━━━━━━━━━━━━━━━━━━━━━━━━━━━━━━━━━\u001b[0m \u001b[32m461.0/461.0 kB\u001b[0m \u001b[31m29.9 MB/s\u001b[0m eta \u001b[36m0:00:00\u001b[0m\n",
            "\u001b[2K   \u001b[90m━━━━━━━━━━━━━━━━━━━━━━━━━━━━━━━━━━━━━━━━\u001b[0m \u001b[32m246.9/246.9 kB\u001b[0m \u001b[31m17.3 MB/s\u001b[0m eta \u001b[36m0:00:00\u001b[0m\n",
            "\u001b[2K   \u001b[90m━━━━━━━━━━━━━━━━━━━━━━━━━━━━━━━━━━━━━━━━\u001b[0m \u001b[32m147.8/147.8 kB\u001b[0m \u001b[31m10.3 MB/s\u001b[0m eta \u001b[36m0:00:00\u001b[0m\n",
            "\u001b[2K   \u001b[90m━━━━━━━━━━━━━━━━━━━━━━━━━━━━━━━━━━━━━━━━\u001b[0m \u001b[32m77.3/77.3 kB\u001b[0m \u001b[31m5.2 MB/s\u001b[0m eta \u001b[36m0:00:00\u001b[0m\n",
            "\u001b[2K   \u001b[90m━━━━━━━━━━━━━━━━━━━━━━━━━━━━━━━━━━━━━━━━\u001b[0m \u001b[32m438.8/438.8 kB\u001b[0m \u001b[31m23.4 MB/s\u001b[0m eta \u001b[36m0:00:00\u001b[0m\n",
            "\u001b[2K   \u001b[90m━━━━━━━━━━━━━━━━━━━━━━━━━━━━━━━━━━━━━━━━\u001b[0m \u001b[32m41.8/41.8 kB\u001b[0m \u001b[31m2.7 MB/s\u001b[0m eta \u001b[36m0:00:00\u001b[0m\n",
            "\u001b[2K   \u001b[90m━━━━━━━━━━━━━━━━━━━━━━━━━━━━━━━━━━━━━━━━\u001b[0m \u001b[32m114.9/114.9 kB\u001b[0m \u001b[31m7.5 MB/s\u001b[0m eta \u001b[36m0:00:00\u001b[0m\n",
            "\u001b[2K   \u001b[90m━━━━━━━━━━━━━━━━━━━━━━━━━━━━━━━━━━━━━━━━\u001b[0m \u001b[32m45.2/45.2 kB\u001b[0m \u001b[31m2.7 MB/s\u001b[0m eta \u001b[36m0:00:00\u001b[0m\n",
            "\u001b[2K   \u001b[90m━━━━━━━━━━━━━━━━━━━━━━━━━━━━━━━━━━━━━━━━\u001b[0m \u001b[32m85.0/85.0 kB\u001b[0m \u001b[31m5.7 MB/s\u001b[0m eta \u001b[36m0:00:00\u001b[0m\n",
            "\u001b[2K   \u001b[90m━━━━━━━━━━━━━━━━━━━━━━━━━━━━━━━━━━━━━━━━\u001b[0m \u001b[32m154.5/154.5 kB\u001b[0m \u001b[31m9.7 MB/s\u001b[0m eta \u001b[36m0:00:00\u001b[0m\n",
            "\u001b[2K   \u001b[90m━━━━━━━━━━━━━━━━━━━━━━━━━━━━━━━━━━━━━━━━\u001b[0m \u001b[32m210.0/210.0 kB\u001b[0m \u001b[31m15.0 MB/s\u001b[0m eta \u001b[36m0:00:00\u001b[0m\n",
            "\u001b[2K   \u001b[90m━━━━━━━━━━━━━━━━━━━━━━━━━━━━━━━━━━━━━━━━\u001b[0m \u001b[32m118.6/118.6 kB\u001b[0m \u001b[31m8.2 MB/s\u001b[0m eta \u001b[36m0:00:00\u001b[0m\n",
            "\u001b[2K   \u001b[90m━━━━━━━━━━━━━━━━━━━━━━━━━━━━━━━━━━━━━━━━\u001b[0m \u001b[32m73.1/73.1 kB\u001b[0m \u001b[31m4.8 MB/s\u001b[0m eta \u001b[36m0:00:00\u001b[0m\n",
            "\u001b[2K   \u001b[90m━━━━━━━━━━━━━━━━━━━━━━━━━━━━━━━━━━━━━━━━\u001b[0m \u001b[32m1.1/1.1 MB\u001b[0m \u001b[31m49.7 MB/s\u001b[0m eta \u001b[36m0:00:00\u001b[0m\n",
            "\u001b[2K   \u001b[90m━━━━━━━━━━━━━━━━━━━━━━━━━━━━━━━━━━━━━━━━\u001b[0m \u001b[32m50.9/50.9 kB\u001b[0m \u001b[31m3.2 MB/s\u001b[0m eta \u001b[36m0:00:00\u001b[0m\n",
            "\u001b[2K   \u001b[90m━━━━━━━━━━━━━━━━━━━━━━━━━━━━━━━━━━━━━━━━\u001b[0m \u001b[32m374.9/374.9 kB\u001b[0m \u001b[31m19.0 MB/s\u001b[0m eta \u001b[36m0:00:00\u001b[0m\n",
            "\u001b[2K   \u001b[90m━━━━━━━━━━━━━━━━━━━━━━━━━━━━━━━━━━━━━━━━\u001b[0m \u001b[32m86.8/86.8 kB\u001b[0m \u001b[31m6.2 MB/s\u001b[0m eta \u001b[36m0:00:00\u001b[0m\n",
            "\u001b[2K   \u001b[90m━━━━━━━━━━━━━━━━━━━━━━━━━━━━━━━━━━━━━━━━\u001b[0m \u001b[32m741.4/741.4 kB\u001b[0m \u001b[31m36.1 MB/s\u001b[0m eta \u001b[36m0:00:00\u001b[0m\n",
            "\u001b[2K   \u001b[90m━━━━━━━━━━━━━━━━━━━━━━━━━━━━━━━━━━━━━━━━\u001b[0m \u001b[32m45.5/45.5 kB\u001b[0m \u001b[31m3.1 MB/s\u001b[0m eta \u001b[36m0:00:00\u001b[0m\n",
            "\u001b[2K   \u001b[90m━━━━━━━━━━━━━━━━━━━━━━━━━━━━━━━━━━━━━━━━\u001b[0m \u001b[32m203.4/203.4 kB\u001b[0m \u001b[31m13.0 MB/s\u001b[0m eta \u001b[36m0:00:00\u001b[0m\n",
            "\u001b[2K   \u001b[90m━━━━━━━━━━━━━━━━━━━━━━━━━━━━━━━━━━━━━━━━\u001b[0m \u001b[32m65.8/65.8 kB\u001b[0m \u001b[31m4.4 MB/s\u001b[0m eta \u001b[36m0:00:00\u001b[0m\n",
            "\u001b[2K   \u001b[90m━━━━━━━━━━━━━━━━━━━━━━━━━━━━━━━━━━━━━━━━\u001b[0m \u001b[32m118.5/118.5 kB\u001b[0m \u001b[31m8.5 MB/s\u001b[0m eta \u001b[36m0:00:00\u001b[0m\n",
            "\u001b[2K   \u001b[90m━━━━━━━━━━━━━━━━━━━━━━━━━━━━━━━━━━━━━━━━\u001b[0m \u001b[32m196.2/196.2 kB\u001b[0m \u001b[31m12.7 MB/s\u001b[0m eta \u001b[36m0:00:00\u001b[0m\n",
            "\u001b[2K   \u001b[90m━━━━━━━━━━━━━━━━━━━━━━━━━━━━━━━━━━━━━━━━\u001b[0m \u001b[32m739.1/739.1 kB\u001b[0m \u001b[31m38.2 MB/s\u001b[0m eta \u001b[36m0:00:00\u001b[0m\n",
            "\u001b[?25hRequirement already satisfied: dvc[s3] in /usr/local/lib/python3.11/dist-packages (3.61.0)\n",
            "Requirement already satisfied: attrs>=22.2.0 in /usr/local/lib/python3.11/dist-packages (from dvc[s3]) (25.3.0)\n",
            "Requirement already satisfied: celery in /usr/local/lib/python3.11/dist-packages (from dvc[s3]) (5.5.3)\n",
            "Requirement already satisfied: colorama>=0.3.9 in /usr/local/lib/python3.11/dist-packages (from dvc[s3]) (0.4.6)\n",
            "Requirement already satisfied: configobj>=5.0.9 in /usr/local/lib/python3.11/dist-packages (from dvc[s3]) (5.0.9)\n",
            "Requirement already satisfied: distro>=1.3 in /usr/local/lib/python3.11/dist-packages (from dvc[s3]) (1.9.0)\n",
            "Requirement already satisfied: dpath<3,>=2.1.0 in /usr/local/lib/python3.11/dist-packages (from dvc[s3]) (2.2.0)\n",
            "Requirement already satisfied: dulwich in /usr/local/lib/python3.11/dist-packages (from dvc[s3]) (0.23.2)\n",
            "Requirement already satisfied: dvc-data<3.17,>=3.16.2 in /usr/local/lib/python3.11/dist-packages (from dvc[s3]) (3.16.10)\n",
            "Requirement already satisfied: dvc-http>=2.29.0 in /usr/local/lib/python3.11/dist-packages (from dvc[s3]) (2.32.0)\n",
            "Requirement already satisfied: dvc-objects in /usr/local/lib/python3.11/dist-packages (from dvc[s3]) (5.1.1)\n",
            "Requirement already satisfied: dvc-render<2,>=1.0.1 in /usr/local/lib/python3.11/dist-packages (from dvc[s3]) (1.0.2)\n",
            "Requirement already satisfied: dvc-studio-client<1,>=0.21 in /usr/local/lib/python3.11/dist-packages (from dvc[s3]) (0.21.0)\n",
            "Requirement already satisfied: dvc-task<1,>=0.3.0 in /usr/local/lib/python3.11/dist-packages (from dvc[s3]) (0.40.2)\n",
            "Requirement already satisfied: flatten_dict<1,>=0.4.1 in /usr/local/lib/python3.11/dist-packages (from dvc[s3]) (0.4.2)\n",
            "Requirement already satisfied: flufl.lock<9,>=8.1.0 in /usr/local/lib/python3.11/dist-packages (from dvc[s3]) (8.2.0)\n",
            "Requirement already satisfied: fsspec>=2024.2.0 in /usr/local/lib/python3.11/dist-packages (from dvc[s3]) (2025.3.2)\n",
            "Requirement already satisfied: funcy>=1.14 in /usr/local/lib/python3.11/dist-packages (from dvc[s3]) (2.0)\n",
            "Requirement already satisfied: grandalf<1,>=0.7 in /usr/local/lib/python3.11/dist-packages (from dvc[s3]) (0.8)\n",
            "Requirement already satisfied: gto<2,>=1.6.0 in /usr/local/lib/python3.11/dist-packages (from dvc[s3]) (1.7.2)\n",
            "Requirement already satisfied: hydra-core>=1.1 in /usr/local/lib/python3.11/dist-packages (from dvc[s3]) (1.3.2)\n",
            "Requirement already satisfied: iterative-telemetry>=0.0.7 in /usr/local/lib/python3.11/dist-packages (from dvc[s3]) (0.0.10)\n",
            "Requirement already satisfied: kombu in /usr/local/lib/python3.11/dist-packages (from dvc[s3]) (5.5.4)\n",
            "Requirement already satisfied: networkx>=2.5 in /usr/local/lib/python3.11/dist-packages (from dvc[s3]) (3.5)\n",
            "Requirement already satisfied: omegaconf in /usr/local/lib/python3.11/dist-packages (from dvc[s3]) (2.3.0)\n",
            "Requirement already satisfied: packaging>=19 in /usr/local/lib/python3.11/dist-packages (from dvc[s3]) (24.2)\n",
            "Requirement already satisfied: pathspec>=0.10.3 in /usr/local/lib/python3.11/dist-packages (from dvc[s3]) (0.12.1)\n",
            "Requirement already satisfied: platformdirs<5,>=3.1.1 in /usr/local/lib/python3.11/dist-packages (from dvc[s3]) (4.3.8)\n",
            "Requirement already satisfied: psutil>=5.8 in /usr/local/lib/python3.11/dist-packages (from dvc[s3]) (5.9.5)\n",
            "Requirement already satisfied: pydot>=1.2.4 in /usr/local/lib/python3.11/dist-packages (from dvc[s3]) (3.0.4)\n",
            "Requirement already satisfied: pygtrie>=2.3.2 in /usr/local/lib/python3.11/dist-packages (from dvc[s3]) (2.5.0)\n",
            "Requirement already satisfied: pyparsing>=2.4.7 in /usr/local/lib/python3.11/dist-packages (from dvc[s3]) (3.2.3)\n",
            "Requirement already satisfied: requests>=2.22 in /usr/local/lib/python3.11/dist-packages (from dvc[s3]) (2.32.3)\n",
            "Requirement already satisfied: rich>=12 in /usr/local/lib/python3.11/dist-packages (from dvc[s3]) (13.9.4)\n",
            "Requirement already satisfied: ruamel.yaml>=0.17.11 in /usr/local/lib/python3.11/dist-packages (from dvc[s3]) (0.18.14)\n",
            "Requirement already satisfied: scmrepo<4,>=3.3.8 in /usr/local/lib/python3.11/dist-packages (from dvc[s3]) (3.3.11)\n",
            "Requirement already satisfied: shortuuid>=0.5 in /usr/local/lib/python3.11/dist-packages (from dvc[s3]) (1.0.13)\n",
            "Requirement already satisfied: shtab<2,>=1.3.4 in /usr/local/lib/python3.11/dist-packages (from dvc[s3]) (1.7.2)\n",
            "Requirement already satisfied: tabulate>=0.8.7 in /usr/local/lib/python3.11/dist-packages (from dvc[s3]) (0.9.0)\n",
            "Requirement already satisfied: tomlkit>=0.11.1 in /usr/local/lib/python3.11/dist-packages (from dvc[s3]) (0.13.3)\n",
            "Requirement already satisfied: tqdm<5,>=4.63.1 in /usr/local/lib/python3.11/dist-packages (from dvc[s3]) (4.67.1)\n",
            "Requirement already satisfied: voluptuous>=0.11.7 in /usr/local/lib/python3.11/dist-packages (from dvc[s3]) (0.15.2)\n",
            "Requirement already satisfied: zc.lockfile>=1.2.1 in /usr/local/lib/python3.11/dist-packages (from dvc[s3]) (3.0.post1)\n",
            "Collecting dvc-s3<4,>=3.2.1 (from dvc[s3])\n",
            "  Downloading dvc_s3-3.2.2-py3-none-any.whl.metadata (1.5 kB)\n",
            "Requirement already satisfied: dictdiffer>=0.8.1 in /usr/local/lib/python3.11/dist-packages (from dvc-data<3.17,>=3.16.2->dvc[s3]) (0.9.0)\n",
            "Requirement already satisfied: diskcache>=5.2.1 in /usr/local/lib/python3.11/dist-packages (from dvc-data<3.17,>=3.16.2->dvc[s3]) (5.6.3)\n",
            "Requirement already satisfied: sqltrie<1,>=0.11.0 in /usr/local/lib/python3.11/dist-packages (from dvc-data<3.17,>=3.16.2->dvc[s3]) (0.11.2)\n",
            "Requirement already satisfied: orjson<4,>=3 in /usr/local/lib/python3.11/dist-packages (from dvc-data<3.17,>=3.16.2->dvc[s3]) (3.10.18)\n",
            "Requirement already satisfied: aiohttp-retry>=2.5.0 in /usr/local/lib/python3.11/dist-packages (from dvc-http>=2.29.0->dvc[s3]) (2.9.1)\n",
            "Collecting s3fs>=2024.12.0 (from dvc-s3<4,>=3.2.1->dvc[s3])\n",
            "  Downloading s3fs-2025.5.1-py3-none-any.whl.metadata (1.9 kB)\n",
            "Collecting aiobotocore>=2.5.0 (from aiobotocore[boto3]>=2.5.0->dvc-s3<4,>=3.2.1->dvc[s3])\n",
            "  Downloading aiobotocore-2.23.0-py3-none-any.whl.metadata (24 kB)\n",
            "Requirement already satisfied: billiard<5.0,>=4.2.1 in /usr/local/lib/python3.11/dist-packages (from celery->dvc[s3]) (4.2.1)\n",
            "Requirement already satisfied: vine<6.0,>=5.1.0 in /usr/local/lib/python3.11/dist-packages (from celery->dvc[s3]) (5.1.0)\n",
            "Requirement already satisfied: click<9.0,>=8.1.2 in /usr/local/lib/python3.11/dist-packages (from celery->dvc[s3]) (8.2.1)\n",
            "Requirement already satisfied: click-didyoumean>=0.3.0 in /usr/local/lib/python3.11/dist-packages (from celery->dvc[s3]) (0.3.1)\n",
            "Requirement already satisfied: click-repl>=0.2.0 in /usr/local/lib/python3.11/dist-packages (from celery->dvc[s3]) (0.3.0)\n",
            "Requirement already satisfied: click-plugins>=1.1.1 in /usr/local/lib/python3.11/dist-packages (from celery->dvc[s3]) (1.1.1.2)\n",
            "Requirement already satisfied: python-dateutil>=2.8.2 in /usr/local/lib/python3.11/dist-packages (from celery->dvc[s3]) (2.9.0.post0)\n",
            "Requirement already satisfied: six<2.0,>=1.12 in /usr/local/lib/python3.11/dist-packages (from flatten_dict<1,>=0.4.1->dvc[s3]) (1.17.0)\n",
            "Requirement already satisfied: atpublic in /usr/local/lib/python3.11/dist-packages (from flufl.lock<9,>=8.1.0->dvc[s3]) (5.1)\n",
            "Requirement already satisfied: entrypoints in /usr/local/lib/python3.11/dist-packages (from gto<2,>=1.6.0->dvc[s3]) (0.4)\n",
            "Requirement already satisfied: pydantic!=2.0.0,<3,>=1.9.0 in /usr/local/lib/python3.11/dist-packages (from gto<2,>=1.6.0->dvc[s3]) (2.11.7)\n",
            "Requirement already satisfied: semver>=2.13.0 in /usr/local/lib/python3.11/dist-packages (from gto<2,>=1.6.0->dvc[s3]) (3.0.4)\n",
            "Requirement already satisfied: typer>=0.4.1 in /usr/local/lib/python3.11/dist-packages (from gto<2,>=1.6.0->dvc[s3]) (0.16.0)\n",
            "Requirement already satisfied: antlr4-python3-runtime==4.9.* in /usr/local/lib/python3.11/dist-packages (from hydra-core>=1.1->dvc[s3]) (4.9.3)\n",
            "Requirement already satisfied: appdirs in /usr/local/lib/python3.11/dist-packages (from iterative-telemetry>=0.0.7->dvc[s3]) (1.4.4)\n",
            "Requirement already satisfied: filelock in /usr/local/lib/python3.11/dist-packages (from iterative-telemetry>=0.0.7->dvc[s3]) (3.18.0)\n",
            "Requirement already satisfied: amqp<6.0.0,>=5.1.1 in /usr/local/lib/python3.11/dist-packages (from kombu->dvc[s3]) (5.3.1)\n",
            "Requirement already satisfied: tzdata>=2025.2 in /usr/local/lib/python3.11/dist-packages (from kombu->dvc[s3]) (2025.2)\n",
            "Requirement already satisfied: PyYAML>=5.1.0 in /usr/local/lib/python3.11/dist-packages (from omegaconf->dvc[s3]) (6.0.2)\n",
            "Requirement already satisfied: charset-normalizer<4,>=2 in /usr/local/lib/python3.11/dist-packages (from requests>=2.22->dvc[s3]) (3.4.2)\n",
            "Requirement already satisfied: idna<4,>=2.5 in /usr/local/lib/python3.11/dist-packages (from requests>=2.22->dvc[s3]) (3.10)\n",
            "Requirement already satisfied: urllib3<3,>=1.21.1 in /usr/local/lib/python3.11/dist-packages (from requests>=2.22->dvc[s3]) (2.4.0)\n",
            "Requirement already satisfied: certifi>=2017.4.17 in /usr/local/lib/python3.11/dist-packages (from requests>=2.22->dvc[s3]) (2025.6.15)\n",
            "Requirement already satisfied: markdown-it-py>=2.2.0 in /usr/local/lib/python3.11/dist-packages (from rich>=12->dvc[s3]) (3.0.0)\n",
            "Requirement already satisfied: pygments<3.0.0,>=2.13.0 in /usr/local/lib/python3.11/dist-packages (from rich>=12->dvc[s3]) (2.19.2)\n",
            "Requirement already satisfied: ruamel.yaml.clib>=0.2.7 in /usr/local/lib/python3.11/dist-packages (from ruamel.yaml>=0.17.11->dvc[s3]) (0.2.12)\n",
            "Requirement already satisfied: gitpython>3 in /usr/local/lib/python3.11/dist-packages (from scmrepo<4,>=3.3.8->dvc[s3]) (3.1.44)\n",
            "Requirement already satisfied: pygit2>=1.14.0 in /usr/local/lib/python3.11/dist-packages (from scmrepo<4,>=3.3.8->dvc[s3]) (1.18.0)\n",
            "Requirement already satisfied: asyncssh<3,>=2.13.1 in /usr/local/lib/python3.11/dist-packages (from scmrepo<4,>=3.3.8->dvc[s3]) (2.21.0)\n",
            "Requirement already satisfied: setuptools in /usr/local/lib/python3.11/dist-packages (from zc.lockfile>=1.2.1->dvc[s3]) (75.2.0)\n",
            "Requirement already satisfied: aiohttp<4.0.0,>=3.9.2 in /usr/local/lib/python3.11/dist-packages (from aiobotocore>=2.5.0->aiobotocore[boto3]>=2.5.0->dvc-s3<4,>=3.2.1->dvc[s3]) (3.11.15)\n",
            "Collecting aioitertools<1.0.0,>=0.5.1 (from aiobotocore>=2.5.0->aiobotocore[boto3]>=2.5.0->dvc-s3<4,>=3.2.1->dvc[s3])\n",
            "  Downloading aioitertools-0.12.0-py3-none-any.whl.metadata (3.8 kB)\n",
            "Collecting botocore<1.38.28,>=1.38.23 (from aiobotocore>=2.5.0->aiobotocore[boto3]>=2.5.0->dvc-s3<4,>=3.2.1->dvc[s3])\n",
            "  Downloading botocore-1.38.27-py3-none-any.whl.metadata (5.7 kB)\n",
            "Collecting jmespath<2.0.0,>=0.7.1 (from aiobotocore>=2.5.0->aiobotocore[boto3]>=2.5.0->dvc-s3<4,>=3.2.1->dvc[s3])\n",
            "  Downloading jmespath-1.0.1-py3-none-any.whl.metadata (7.6 kB)\n",
            "Requirement already satisfied: multidict<7.0.0,>=6.0.0 in /usr/local/lib/python3.11/dist-packages (from aiobotocore>=2.5.0->aiobotocore[boto3]>=2.5.0->dvc-s3<4,>=3.2.1->dvc[s3]) (6.6.3)\n",
            "Requirement already satisfied: wrapt<2.0.0,>=1.10.10 in /usr/local/lib/python3.11/dist-packages (from aiobotocore>=2.5.0->aiobotocore[boto3]>=2.5.0->dvc-s3<4,>=3.2.1->dvc[s3]) (1.17.2)\n",
            "Collecting boto3<1.38.28,>=1.38.23 (from aiobotocore[boto3]>=2.5.0->dvc-s3<4,>=3.2.1->dvc[s3])\n",
            "  Downloading boto3-1.38.27-py3-none-any.whl.metadata (6.6 kB)\n",
            "Requirement already satisfied: cryptography>=39.0 in /usr/local/lib/python3.11/dist-packages (from asyncssh<3,>=2.13.1->scmrepo<4,>=3.3.8->dvc[s3]) (43.0.3)\n",
            "Requirement already satisfied: typing_extensions>=4.0.0 in /usr/local/lib/python3.11/dist-packages (from asyncssh<3,>=2.13.1->scmrepo<4,>=3.3.8->dvc[s3]) (4.14.1)\n",
            "Requirement already satisfied: prompt-toolkit>=3.0.36 in /usr/local/lib/python3.11/dist-packages (from click-repl>=0.2.0->celery->dvc[s3]) (3.0.51)\n",
            "Requirement already satisfied: gitdb<5,>=4.0.1 in /usr/local/lib/python3.11/dist-packages (from gitpython>3->scmrepo<4,>=3.3.8->dvc[s3]) (4.0.12)\n",
            "Requirement already satisfied: mdurl~=0.1 in /usr/local/lib/python3.11/dist-packages (from markdown-it-py>=2.2.0->rich>=12->dvc[s3]) (0.1.2)\n",
            "Requirement already satisfied: annotated-types>=0.6.0 in /usr/local/lib/python3.11/dist-packages (from pydantic!=2.0.0,<3,>=1.9.0->gto<2,>=1.6.0->dvc[s3]) (0.7.0)\n",
            "Requirement already satisfied: pydantic-core==2.33.2 in /usr/local/lib/python3.11/dist-packages (from pydantic!=2.0.0,<3,>=1.9.0->gto<2,>=1.6.0->dvc[s3]) (2.33.2)\n",
            "Requirement already satisfied: typing-inspection>=0.4.0 in /usr/local/lib/python3.11/dist-packages (from pydantic!=2.0.0,<3,>=1.9.0->gto<2,>=1.6.0->dvc[s3]) (0.4.1)\n",
            "Requirement already satisfied: cffi>=1.17.0 in /usr/local/lib/python3.11/dist-packages (from pygit2>=1.14.0->scmrepo<4,>=3.3.8->dvc[s3]) (1.17.1)\n",
            "INFO: pip is looking at multiple versions of s3fs to determine which version is compatible with other requirements. This could take a while.\n",
            "Collecting s3fs>=2024.12.0 (from dvc-s3<4,>=3.2.1->dvc[s3])\n",
            "  Downloading s3fs-2025.5.0-py3-none-any.whl.metadata (1.9 kB)\n",
            "  Downloading s3fs-2025.3.2-py3-none-any.whl.metadata (1.9 kB)\n",
            "Requirement already satisfied: shellingham>=1.3.0 in /usr/local/lib/python3.11/dist-packages (from typer>=0.4.1->gto<2,>=1.6.0->dvc[s3]) (1.5.4)\n",
            "Requirement already satisfied: aiohappyeyeballs>=2.3.0 in /usr/local/lib/python3.11/dist-packages (from aiohttp<4.0.0,>=3.9.2->aiobotocore>=2.5.0->aiobotocore[boto3]>=2.5.0->dvc-s3<4,>=3.2.1->dvc[s3]) (2.6.1)\n",
            "Requirement already satisfied: aiosignal>=1.1.2 in /usr/local/lib/python3.11/dist-packages (from aiohttp<4.0.0,>=3.9.2->aiobotocore>=2.5.0->aiobotocore[boto3]>=2.5.0->dvc-s3<4,>=3.2.1->dvc[s3]) (1.4.0)\n",
            "Requirement already satisfied: frozenlist>=1.1.1 in /usr/local/lib/python3.11/dist-packages (from aiohttp<4.0.0,>=3.9.2->aiobotocore>=2.5.0->aiobotocore[boto3]>=2.5.0->dvc-s3<4,>=3.2.1->dvc[s3]) (1.7.0)\n",
            "Requirement already satisfied: propcache>=0.2.0 in /usr/local/lib/python3.11/dist-packages (from aiohttp<4.0.0,>=3.9.2->aiobotocore>=2.5.0->aiobotocore[boto3]>=2.5.0->dvc-s3<4,>=3.2.1->dvc[s3]) (0.3.2)\n",
            "Requirement already satisfied: yarl<2.0,>=1.17.0 in /usr/local/lib/python3.11/dist-packages (from aiohttp<4.0.0,>=3.9.2->aiobotocore>=2.5.0->aiobotocore[boto3]>=2.5.0->dvc-s3<4,>=3.2.1->dvc[s3]) (1.20.1)\n",
            "Collecting s3transfer<0.14.0,>=0.13.0 (from boto3<1.38.28,>=1.38.23->aiobotocore[boto3]>=2.5.0->dvc-s3<4,>=3.2.1->dvc[s3])\n",
            "  Downloading s3transfer-0.13.0-py3-none-any.whl.metadata (1.7 kB)\n",
            "Requirement already satisfied: pycparser in /usr/local/lib/python3.11/dist-packages (from cffi>=1.17.0->pygit2>=1.14.0->scmrepo<4,>=3.3.8->dvc[s3]) (2.22)\n",
            "Requirement already satisfied: smmap<6,>=3.0.1 in /usr/local/lib/python3.11/dist-packages (from gitdb<5,>=4.0.1->gitpython>3->scmrepo<4,>=3.3.8->dvc[s3]) (5.0.2)\n",
            "Requirement already satisfied: wcwidth in /usr/local/lib/python3.11/dist-packages (from prompt-toolkit>=3.0.36->click-repl>=0.2.0->celery->dvc[s3]) (0.2.13)\n",
            "Downloading dvc_s3-3.2.2-py3-none-any.whl (13 kB)\n",
            "Downloading aiobotocore-2.23.0-py3-none-any.whl (84 kB)\n",
            "\u001b[2K   \u001b[90m━━━━━━━━━━━━━━━━━━━━━━━━━━━━━━━━━━━━━━━━\u001b[0m \u001b[32m84.2/84.2 kB\u001b[0m \u001b[31m5.4 MB/s\u001b[0m eta \u001b[36m0:00:00\u001b[0m\n",
            "\u001b[?25hDownloading s3fs-2025.3.2-py3-none-any.whl (30 kB)\n",
            "Downloading aioitertools-0.12.0-py3-none-any.whl (24 kB)\n",
            "Downloading boto3-1.38.27-py3-none-any.whl (139 kB)\n",
            "\u001b[2K   \u001b[90m━━━━━━━━━━━━━━━━━━━━━━━━━━━━━━━━━━━━━━━━\u001b[0m \u001b[32m139.9/139.9 kB\u001b[0m \u001b[31m9.0 MB/s\u001b[0m eta \u001b[36m0:00:00\u001b[0m\n",
            "\u001b[?25hDownloading botocore-1.38.27-py3-none-any.whl (13.6 MB)\n",
            "\u001b[2K   \u001b[90m━━━━━━━━━━━━━━━━━━━━━━━━━━━━━━━━━━━━━━━━\u001b[0m \u001b[32m13.6/13.6 MB\u001b[0m \u001b[31m58.6 MB/s\u001b[0m eta \u001b[36m0:00:00\u001b[0m\n",
            "\u001b[?25hDownloading jmespath-1.0.1-py3-none-any.whl (20 kB)\n",
            "Downloading s3transfer-0.13.0-py3-none-any.whl (85 kB)\n",
            "\u001b[2K   \u001b[90m━━━━━━━━━━━━━━━━━━━━━━━━━━━━━━━━━━━━━━━━\u001b[0m \u001b[32m85.2/85.2 kB\u001b[0m \u001b[31m6.0 MB/s\u001b[0m eta \u001b[36m0:00:00\u001b[0m\n",
            "\u001b[?25hInstalling collected packages: jmespath, aioitertools, botocore, s3transfer, aiobotocore, s3fs, boto3, dvc-s3\n"
          ]
        }
      ],
      "source": [
        "!pip install mlflow optuna dvc -q\n",
        "!pip install dvc[s3]\n",
        "!apt install git -y"
      ]
    },
    {
      "cell_type": "code",
      "execution_count": 16,
      "metadata": {
        "id": "mq-eb_OWReQC"
      },
      "outputs": [],
      "source": [
        "import pandas as pd\n",
        "import numpy as np\n",
        "import mlflow\n",
        "import mlflow.keras\n",
        "import os\n",
        "import subprocess\n",
        "import optuna\n",
        "from keras.models import Sequential\n",
        "from keras.layers import LSTM, Dense\n",
        "from keras.callbacks import EarlyStopping\n",
        "from sklearn.metrics import mean_squared_error, mean_absolute_error\n",
        "from math import sqrt\n",
        "from sklearn.model_selection import train_test_split\n",
        "import keras_tuner as kt\n",
        "from tensorflow.keras.optimizers import Adam"
      ]
    },
    {
      "cell_type": "code",
      "execution_count": null,
      "metadata": {
        "id": "3HkcX2R0RgHP"
      },
      "outputs": [],
      "source": [
        "MLFLOW_TRACKING_URI = \"\"\n",
        "EXPERIMENT_NAME = \"AQI hyperparameter & model testing (Manual)\"\n",
        "WINDOW_SIZE = 24\n",
        "PREDICT_HORIZON = 72  # Predict next 3 days = 72 hours"
      ]
    },
    {
      "cell_type": "code",
      "execution_count": 4,
      "metadata": {
        "colab": {
          "base_uri": "https://localhost:8080/"
        },
        "id": "77hFcdXkRgfp",
        "outputId": "a1d7a95e-4ff7-4e17-d0e3-a7458381e431"
      },
      "outputs": [
        {
          "data": {
            "text/plain": [
              "<Experiment: artifact_location='/home/umair/mlruns/3', creation_time=1752022350617, experiment_id='3', last_update_time=1752022350617, lifecycle_stage='active', name='AQI hyperparameter & model testing (Manual)', tags={}>"
            ]
          },
          "execution_count": 4,
          "metadata": {},
          "output_type": "execute_result"
        }
      ],
      "source": [
        "mlflow.set_tracking_uri(MLFLOW_TRACKING_URI)\n",
        "mlflow.set_experiment(EXPERIMENT_NAME)"
      ]
    },
    {
      "cell_type": "code",
      "execution_count": 5,
      "metadata": {
        "colab": {
          "base_uri": "https://localhost:8080/"
        },
        "id": "AThdnaRrRktR",
        "outputId": "4c55c4cb-1de6-4b1f-9b23-fa16e8462366"
      },
      "outputs": [
        {
          "name": "stdout",
          "output_type": "stream",
          "text": [
            "\u001b[33mhint: Using 'master' as the name for the initial branch. This default branch name\u001b[m\n",
            "\u001b[33mhint: is subject to change. To configure the initial branch name to use in all\u001b[m\n",
            "\u001b[33mhint: of your new repositories, which will suppress this warning, call:\u001b[m\n",
            "\u001b[33mhint: \u001b[m\n",
            "\u001b[33mhint: \tgit config --global init.defaultBranch <name>\u001b[m\n",
            "\u001b[33mhint: \u001b[m\n",
            "\u001b[33mhint: Names commonly chosen instead of 'master' are 'main', 'trunk' and\u001b[m\n",
            "\u001b[33mhint: 'development'. The just-created branch can be renamed via this command:\u001b[m\n",
            "\u001b[33mhint: \u001b[m\n",
            "\u001b[33mhint: \tgit branch -m <name>\u001b[m\n",
            "Initialized empty Git repository in /content/.git/\n",
            "Initialized DVC repository.\n",
            "\n",
            "You can now commit the changes to git.\n",
            "\n",
            "\u001b[31m+---------------------------------------------------------------------+\n",
            "\u001b[0m\u001b[31m|\u001b[0m                                                                     \u001b[31m|\u001b[0m\n",
            "\u001b[31m|\u001b[0m        DVC has enabled anonymous aggregate usage analytics.         \u001b[31m|\u001b[0m\n",
            "\u001b[31m|\u001b[0m     Read the analytics documentation (and how to opt-out) here:     \u001b[31m|\u001b[0m\n",
            "\u001b[31m|\u001b[0m             <\u001b[36mhttps://dvc.org/doc/user-guide/analytics\u001b[39m>              \u001b[31m|\u001b[0m\n",
            "\u001b[31m|\u001b[0m                                                                     \u001b[31m|\u001b[0m\n",
            "\u001b[31m+---------------------------------------------------------------------+\n",
            "\u001b[0m\n",
            "\u001b[33mWhat's next?\u001b[39m\n",
            "\u001b[33m------------\u001b[39m\n",
            "- Check out the documentation: <\u001b[36mhttps://dvc.org/doc\u001b[39m>\n",
            "- Get help and share ideas: <\u001b[36mhttps://dvc.org/chat\u001b[39m>\n",
            "- Star us on GitHub: <\u001b[36mhttps://github.com/iterative/dvc\u001b[39m>\n",
            "\u001b[0mSetting 'myremote' as a default remote.\n",
            "\u001b[0m"
          ]
        }
      ],
      "source": [
        "!git init\n",
        "!dvc init\n",
        "!dvc remote add -d myremote s3://s3-bucket-umairrr"
      ]
    },
    {
      "cell_type": "code",
      "execution_count": 6,
      "metadata": {
        "colab": {
          "base_uri": "https://localhost:8080/"
        },
        "id": "eUrURsAoRnkq",
        "outputId": "c2fe26d2-8e7d-4b66-fa5c-bd925958f2c2"
      },
      "outputs": [
        {
          "name": "stdout",
          "output_type": "stream",
          "text": [
            "Cloning into '10pearls-AQI-Project-'...\n",
            "remote: Enumerating objects: 404, done.\u001b[K\n",
            "remote: Counting objects: 100% (180/180), done.\u001b[K\n",
            "remote: Compressing objects: 100% (114/114), done.\u001b[K\n",
            "remote: Total 404 (delta 80), reused 145 (delta 49), pack-reused 224 (from 1)\u001b[K\n",
            "Receiving objects: 100% (404/404), 5.68 MiB | 22.29 MiB/s, done.\n",
            "Resolving deltas: 100% (188/188), done.\n",
            "/content/10pearls-AQI-Project-\n"
          ]
        }
      ],
      "source": [
        "!git clone https://github.com/uma1r111/10pearls-AQI-Project-\n",
        "%cd 10pearls-AQI-Project-"
      ]
    },
    {
      "cell_type": "code",
      "execution_count": null,
      "metadata": {
        "colab": {
          "base_uri": "https://localhost:8080/"
        },
        "id": "6mVjQNcLRpOP",
        "outputId": "647d7755-b470-46cf-d34d-185b3f2feb08"
      },
      "outputs": [
        {
          "name": "stdout",
          "output_type": "stream",
          "text": [
            "\n",
            "Pulling latest feature_selection.csv from DVC remote (S3)...\n"
          ]
        },
        {
          "data": {
            "text/plain": [
              "CompletedProcess(args=['dvc', 'pull'], returncode=0)"
            ]
          },
          "execution_count": 7,
          "metadata": {},
          "output_type": "execute_result"
        }
      ],
      "source": [
        "# Load and preprocess data\n",
        "print(\"\\nPulling latest feature_selection.csv from DVC remote (S3)...\")\n",
        "os.environ[\"AWS_ACCESS_KEY_ID\"] = \"\"\n",
        "os.environ[\"AWS_SECRET_ACCESS_KEY\"] = \"\"\n",
        "os.environ[\"AWS_DEFAULT_REGION\"] = \"\"\n",
        "subprocess.run([\"dvc\", \"pull\"], check=True)"
      ]
    },
    {
      "cell_type": "code",
      "execution_count": 8,
      "metadata": {
        "colab": {
          "base_uri": "https://localhost:8080/"
        },
        "id": "CYRUnLd3SDfe",
        "outputId": "5975bcde-ff15-43de-912b-14720695464a"
      },
      "outputs": [
        {
          "name": "stdout",
          "output_type": "stream",
          "text": [
            "./README.md\n",
            "./.dvcignore\n",
            "./requirements.txt\n",
            "./.gitignore\n",
            "./full_preprocessed_aqi_weather_data_with_all_features.csv\n",
            "./karachi_weather_apr1_to_current.csv\n",
            "./fetch_daily_data.py\n",
            "./feature_selection.csv.dvc\n",
            "./feature_selection.csv\n",
            "./Exploratory Visualization Analysis/Exploratory Visualization Analysis.ipynb\n",
            "./Exploratory Visualization Analysis/Exploratory Visualization Analysis.txt\n",
            "./.dvc/config\n",
            "./.dvc/.gitignore\n",
            "./.dvc/cache/files/md5/a3/42be088d6bbebcb8002a166df6f909\n",
            "./.dvc/tmp/btime\n",
            "./.dvc/tmp/lock\n",
            "./Data Preprocessing/Data_PreProcessing.ipynb\n",
            "./Data Preprocessing/data_quality_check.py\n",
            "./Data Preprocessing/run_preprocessing.py\n",
            "./Data Collection/karachi_weather_jun2025.ipynb\n",
            "./Data Collection/pollutants info Apr - Jun.ipynb\n",
            "./Data Collection/karachi_weather_apr1_jun14.ipynb\n",
            "./.github/workflows/feature_engineering.yml\n",
            "./.github/workflows/feature_selection.yml\n",
            "./.github/workflows/update_data.yml\n",
            "./Feature Selection/initial_feature_extraction.ipynb\n",
            "./Feature Selection/feature_selection.py\n",
            "./Feature Selection/Feature_Selection.ipynb\n",
            "./.git/description\n",
            "./.git/config\n",
            "./.git/packed-refs\n",
            "./.git/index\n",
            "./.git/HEAD\n",
            "./.git/info/exclude\n",
            "./.git/objects/pack/pack-d6a55d550e60604eba636f007773e6f7887656f7.idx\n",
            "./.git/objects/pack/pack-d6a55d550e60604eba636f007773e6f7887656f7.pack\n",
            "./.git/refs/remotes/origin/HEAD\n",
            "./.git/refs/heads/main\n",
            "./.git/logs/HEAD\n",
            "./.git/logs/refs/remotes/origin/HEAD\n",
            "./.git/logs/refs/heads/main\n",
            "./.git/hooks/pre-receive.sample\n",
            "./.git/hooks/applypatch-msg.sample\n",
            "./.git/hooks/post-update.sample\n",
            "./.git/hooks/pre-push.sample\n",
            "./.git/hooks/pre-merge-commit.sample\n",
            "./.git/hooks/push-to-checkout.sample\n",
            "./.git/hooks/update.sample\n",
            "./.git/hooks/pre-rebase.sample\n",
            "./.git/hooks/pre-applypatch.sample\n",
            "./.git/hooks/commit-msg.sample\n",
            "./.git/hooks/fsmonitor-watchman.sample\n",
            "./.git/hooks/pre-commit.sample\n",
            "./.git/hooks/prepare-commit-msg.sample\n",
            "./Data/karachi_weather_jun2025.csv\n",
            "./Data/pollutants info Mar - jul.csv\n",
            "./Data/karachi_weather_apr1_jun14.csv\n"
          ]
        }
      ],
      "source": [
        "for root, dirs, files in os.walk(\".\", topdown=True):\n",
        "    for name in files:\n",
        "        print(os.path.join(root, name))"
      ]
    },
    {
      "cell_type": "code",
      "execution_count": 9,
      "metadata": {
        "id": "dwaNJllTSD4a"
      },
      "outputs": [],
      "source": [
        "df = pd.read_csv(\"feature_selection.csv\")"
      ]
    },
    {
      "cell_type": "code",
      "execution_count": 10,
      "metadata": {
        "id": "5gr0Q_5ITUsb"
      },
      "outputs": [],
      "source": [
        "df['datetime'] = pd.to_datetime(df['datetime'])\n",
        "df = df[(df[\"datetime\"] >= \"2025-04-01\") & (df[\"datetime\"] <= \"2025-07-07\")]\n",
        "df = df.sort_values(\"datetime\")\n",
        "\n",
        "features = df.drop(columns=[\"datetime\"])\n",
        "num_features = features.shape[1]  # total features including AQI"
      ]
    },
    {
      "cell_type": "code",
      "execution_count": 11,
      "metadata": {
        "colab": {
          "base_uri": "https://localhost:8080/"
        },
        "id": "12AX7JsYTWmT",
        "outputId": "82b96102-ce4a-46c6-ed3f-53719c7747c8"
      },
      "outputs": [
        {
          "name": "stdout",
          "output_type": "stream",
          "text": [
            "0   2025-04-01 00:00:00\n",
            "1   2025-04-01 01:00:00\n",
            "2   2025-04-01 02:00:00\n",
            "3   2025-04-01 03:00:00\n",
            "4   2025-04-01 04:00:00\n",
            "Name: datetime, dtype: datetime64[ns]\n",
            "Filtered Rows: 2329\n"
          ]
        }
      ],
      "source": [
        "print(df[\"datetime\"].head())\n",
        "print(\"Filtered Rows:\", len(df))"
      ]
    },
    {
      "cell_type": "markdown",
      "metadata": {
        "id": "fspf8CN4Tbth"
      },
      "source": [
        "# **Sequence Building for Walk forward Validation**"
      ]
    },
    {
      "cell_type": "code",
      "execution_count": 12,
      "metadata": {
        "id": "N_jJ2Ai1SHTB"
      },
      "outputs": [],
      "source": [
        "def create_sequences(X, window_size, horizon):\n",
        "    Xs, ys = [], []\n",
        "    for i in range(len(X) - window_size - horizon):\n",
        "        Xs.append(X[i:(i + window_size)].values)\n",
        "        ys.append(X[(i + window_size):(i + window_size + horizon)].values)\n",
        "    return np.array(Xs), np.array(ys)\n",
        "\n",
        "X_seq, y_seq = create_sequences(features, WINDOW_SIZE, PREDICT_HORIZON)\n",
        "X_train, X_val, y_train, y_val = train_test_split(X_seq, y_seq, test_size=0.2, shuffle=False)"
      ]
    },
    {
      "cell_type": "code",
      "execution_count": 13,
      "metadata": {
        "colab": {
          "base_uri": "https://localhost:8080/"
        },
        "id": "RCmQbVbpTe9P",
        "outputId": "03780796-657c-4803-a316-7617745ac94f"
      },
      "outputs": [
        {
          "name": "stdout",
          "output_type": "stream",
          "text": [
            "Total Samples: 2329\n",
            "X_seq shape: (2233, 24, 13)\n",
            "y_seq shape: (2233, 72, 13)\n"
          ]
        }
      ],
      "source": [
        "print(\"Total Samples:\", len(features))\n",
        "print(\"X_seq shape:\", X_seq.shape)\n",
        "print(\"y_seq shape:\", y_seq.shape)"
      ]
    },
    {
      "cell_type": "code",
      "execution_count": 14,
      "metadata": {
        "id": "mvio2oB_U4Gd"
      },
      "outputs": [],
      "source": [
        "y_train_flat = y_train.reshape(y_train.shape[0], -1)\n",
        "y_val_flat = y_val.reshape(y_val.shape[0], -1)"
      ]
    },
    {
      "cell_type": "markdown",
      "metadata": {
        "id": "hbfDwVQAUnuZ"
      },
      "source": [
        "# **Optuna** Hyperparameter Tuning"
      ]
    },
    {
      "cell_type": "code",
      "execution_count": 17,
      "metadata": {
        "colab": {
          "base_uri": "https://localhost:8080/"
        },
        "id": "SHL51PxrUqwy",
        "outputId": "d2916d5d-7c6f-4754-97e5-8a798ad94c02"
      },
      "outputs": [
        {
          "name": "stderr",
          "output_type": "stream",
          "text": [
            "[I 2025-07-09 22:37:35,864] A new study created in memory with name: no-name-53b9148e-f289-4a7e-88a9-b3da5d8be079\n",
            "/usr/local/lib/python3.11/dist-packages/keras/src/layers/rnn/rnn.py:200: UserWarning: Do not pass an `input_shape`/`input_dim` argument to a layer. When using Sequential models, prefer using an `Input(shape)` object as the first layer in the model instead.\n",
            "  super().__init__(**kwargs)\n"
          ]
        },
        {
          "name": "stdout",
          "output_type": "stream",
          "text": [
            "\u001b[1m14/14\u001b[0m \u001b[32m━━━━━━━━━━━━━━━━━━━━\u001b[0m\u001b[37m\u001b[0m \u001b[1m3s\u001b[0m 109ms/step\n"
          ]
        },
        {
          "name": "stderr",
          "output_type": "stream",
          "text": [
            "[I 2025-07-09 22:38:05,823] Trial 0 finished with value: 30.49928908192906 and parameters: {'n_units': 97, 'n_dense_units': 55, 'dropout': 0.4753974263563664, 'recurrent_dropout': 0.12743327649369252, 'learning_rate': 0.005068357184179167, 'batch_size': 128, 'activation': 'relu', 'epochs': 32, 'n_lstm_layers': 2}. Best is trial 0 with value: 30.49928908192906.\n",
            "/usr/local/lib/python3.11/dist-packages/keras/src/layers/rnn/rnn.py:200: UserWarning: Do not pass an `input_shape`/`input_dim` argument to a layer. When using Sequential models, prefer using an `Input(shape)` object as the first layer in the model instead.\n",
            "  super().__init__(**kwargs)\n"
          ]
        },
        {
          "name": "stdout",
          "output_type": "stream",
          "text": [
            "\u001b[1m14/14\u001b[0m \u001b[32m━━━━━━━━━━━━━━━━━━━━\u001b[0m\u001b[37m\u001b[0m \u001b[1m1s\u001b[0m 59ms/step\n"
          ]
        },
        {
          "name": "stderr",
          "output_type": "stream",
          "text": [
            "[I 2025-07-09 22:39:57,908] Trial 1 finished with value: 27.410590454875347 and parameters: {'n_units': 114, 'n_dense_units': 75, 'dropout': 0.44408434866593516, 'recurrent_dropout': 0.2278418762233794, 'learning_rate': 0.00024886293208890023, 'batch_size': 32, 'activation': 'tanh', 'epochs': 31, 'n_lstm_layers': 1}. Best is trial 1 with value: 27.410590454875347.\n",
            "/usr/local/lib/python3.11/dist-packages/keras/src/layers/rnn/rnn.py:200: UserWarning: Do not pass an `input_shape`/`input_dim` argument to a layer. When using Sequential models, prefer using an `Input(shape)` object as the first layer in the model instead.\n",
            "  super().__init__(**kwargs)\n"
          ]
        },
        {
          "name": "stdout",
          "output_type": "stream",
          "text": [
            "\u001b[1m14/14\u001b[0m \u001b[32m━━━━━━━━━━━━━━━━━━━━\u001b[0m\u001b[37m\u001b[0m \u001b[1m2s\u001b[0m 79ms/step\n"
          ]
        },
        {
          "name": "stderr",
          "output_type": "stream",
          "text": [
            "[I 2025-07-09 22:41:42,839] Trial 2 finished with value: 26.023860611632806 and parameters: {'n_units': 100, 'n_dense_units': 64, 'dropout': 0.36415952403009266, 'recurrent_dropout': 0.10512137076187249, 'learning_rate': 0.00020850161695477724, 'batch_size': 32, 'activation': 'relu', 'epochs': 36, 'n_lstm_layers': 2}. Best is trial 2 with value: 26.023860611632806.\n",
            "/usr/local/lib/python3.11/dist-packages/keras/src/layers/rnn/rnn.py:200: UserWarning: Do not pass an `input_shape`/`input_dim` argument to a layer. When using Sequential models, prefer using an `Input(shape)` object as the first layer in the model instead.\n",
            "  super().__init__(**kwargs)\n"
          ]
        },
        {
          "name": "stdout",
          "output_type": "stream",
          "text": [
            "\u001b[1m14/14\u001b[0m \u001b[32m━━━━━━━━━━━━━━━━━━━━\u001b[0m\u001b[37m\u001b[0m \u001b[1m1s\u001b[0m 43ms/step\n"
          ]
        },
        {
          "name": "stderr",
          "output_type": "stream",
          "text": [
            "[I 2025-07-09 22:43:38,765] Trial 3 finished with value: 40.41565812706973 and parameters: {'n_units': 118, 'n_dense_units': 38, 'dropout': 0.27470604444904423, 'recurrent_dropout': 0.2994344218285866, 'learning_rate': 0.0075056123367833, 'batch_size': 64, 'activation': 'relu', 'epochs': 47, 'n_lstm_layers': 1}. Best is trial 2 with value: 26.023860611632806.\n",
            "/usr/local/lib/python3.11/dist-packages/keras/src/layers/rnn/rnn.py:200: UserWarning: Do not pass an `input_shape`/`input_dim` argument to a layer. When using Sequential models, prefer using an `Input(shape)` object as the first layer in the model instead.\n",
            "  super().__init__(**kwargs)\n"
          ]
        },
        {
          "name": "stdout",
          "output_type": "stream",
          "text": [
            "\u001b[1m14/14\u001b[0m \u001b[32m━━━━━━━━━━━━━━━━━━━━\u001b[0m\u001b[37m\u001b[0m \u001b[1m1s\u001b[0m 41ms/step\n"
          ]
        },
        {
          "name": "stderr",
          "output_type": "stream",
          "text": [
            "[I 2025-07-09 22:44:57,791] Trial 4 finished with value: 41.13603304164637 and parameters: {'n_units': 111, 'n_dense_units': 46, 'dropout': 0.31889373743044647, 'recurrent_dropout': 0.07377118531987885, 'learning_rate': 1.0991332131808007e-05, 'batch_size': 64, 'activation': 'relu', 'epochs': 31, 'n_lstm_layers': 1}. Best is trial 2 with value: 26.023860611632806.\n",
            "/usr/local/lib/python3.11/dist-packages/keras/src/layers/rnn/rnn.py:200: UserWarning: Do not pass an `input_shape`/`input_dim` argument to a layer. When using Sequential models, prefer using an `Input(shape)` object as the first layer in the model instead.\n",
            "  super().__init__(**kwargs)\n"
          ]
        },
        {
          "name": "stdout",
          "output_type": "stream",
          "text": [
            "\u001b[1m14/14\u001b[0m \u001b[32m━━━━━━━━━━━━━━━━━━━━\u001b[0m\u001b[37m\u001b[0m \u001b[1m1s\u001b[0m 53ms/step\n"
          ]
        },
        {
          "name": "stderr",
          "output_type": "stream",
          "text": [
            "[I 2025-07-09 22:45:48,963] Trial 5 finished with value: 39.36868976823882 and parameters: {'n_units': 32, 'n_dense_units': 89, 'dropout': 0.3205386367525984, 'recurrent_dropout': 0.20219965841178986, 'learning_rate': 6.981021588924337e-05, 'batch_size': 64, 'activation': 'tanh', 'epochs': 45, 'n_lstm_layers': 1}. Best is trial 2 with value: 26.023860611632806.\n",
            "/usr/local/lib/python3.11/dist-packages/keras/src/layers/rnn/rnn.py:200: UserWarning: Do not pass an `input_shape`/`input_dim` argument to a layer. When using Sequential models, prefer using an `Input(shape)` object as the first layer in the model instead.\n",
            "  super().__init__(**kwargs)\n"
          ]
        },
        {
          "name": "stdout",
          "output_type": "stream",
          "text": [
            "\u001b[1m14/14\u001b[0m \u001b[32m━━━━━━━━━━━━━━━━━━━━\u001b[0m\u001b[37m\u001b[0m \u001b[1m2s\u001b[0m 76ms/step\n"
          ]
        },
        {
          "name": "stderr",
          "output_type": "stream",
          "text": [
            "[I 2025-07-09 22:50:04,070] Trial 6 finished with value: 30.579190095198832 and parameters: {'n_units': 84, 'n_dense_units': 80, 'dropout': 0.4774257809537482, 'recurrent_dropout': 0.09574624270079347, 'learning_rate': 4.655259053562122e-05, 'batch_size': 32, 'activation': 'relu', 'epochs': 50, 'n_lstm_layers': 2}. Best is trial 2 with value: 26.023860611632806.\n",
            "/usr/local/lib/python3.11/dist-packages/keras/src/layers/rnn/rnn.py:200: UserWarning: Do not pass an `input_shape`/`input_dim` argument to a layer. When using Sequential models, prefer using an `Input(shape)` object as the first layer in the model instead.\n",
            "  super().__init__(**kwargs)\n"
          ]
        },
        {
          "name": "stdout",
          "output_type": "stream",
          "text": [
            "\u001b[1m14/14\u001b[0m \u001b[32m━━━━━━━━━━━━━━━━━━━━\u001b[0m\u001b[37m\u001b[0m \u001b[1m1s\u001b[0m 44ms/step\n"
          ]
        },
        {
          "name": "stderr",
          "output_type": "stream",
          "text": [
            "[I 2025-07-09 22:51:34,510] Trial 7 finished with value: 7.224549582038881 and parameters: {'n_units': 123, 'n_dense_units': 89, 'dropout': 0.2646906642730007, 'recurrent_dropout': 0.047351447009161406, 'learning_rate': 0.0037928632942177245, 'batch_size': 128, 'activation': 'tanh', 'epochs': 36, 'n_lstm_layers': 1}. Best is trial 7 with value: 7.224549582038881.\n",
            "/usr/local/lib/python3.11/dist-packages/keras/src/layers/rnn/rnn.py:200: UserWarning: Do not pass an `input_shape`/`input_dim` argument to a layer. When using Sequential models, prefer using an `Input(shape)` object as the first layer in the model instead.\n",
            "  super().__init__(**kwargs)\n"
          ]
        },
        {
          "name": "stdout",
          "output_type": "stream",
          "text": [
            "\u001b[1m14/14\u001b[0m \u001b[32m━━━━━━━━━━━━━━━━━━━━\u001b[0m\u001b[37m\u001b[0m \u001b[1m1s\u001b[0m 42ms/step\n"
          ]
        },
        {
          "name": "stderr",
          "output_type": "stream",
          "text": [
            "[I 2025-07-09 22:52:26,667] Trial 8 finished with value: 7.164126424775429 and parameters: {'n_units': 66, 'n_dense_units': 120, 'dropout': 0.35197261059197904, 'recurrent_dropout': 0.1682087538252742, 'learning_rate': 0.0014177235400314582, 'batch_size': 64, 'activation': 'tanh', 'epochs': 38, 'n_lstm_layers': 1}. Best is trial 8 with value: 7.164126424775429.\n",
            "/usr/local/lib/python3.11/dist-packages/keras/src/layers/rnn/rnn.py:200: UserWarning: Do not pass an `input_shape`/`input_dim` argument to a layer. When using Sequential models, prefer using an `Input(shape)` object as the first layer in the model instead.\n",
            "  super().__init__(**kwargs)\n"
          ]
        },
        {
          "name": "stdout",
          "output_type": "stream",
          "text": [
            "\u001b[1m14/14\u001b[0m \u001b[32m━━━━━━━━━━━━━━━━━━━━\u001b[0m\u001b[37m\u001b[0m \u001b[1m2s\u001b[0m 73ms/step\n"
          ]
        },
        {
          "name": "stderr",
          "output_type": "stream",
          "text": [
            "[I 2025-07-09 22:54:14,620] Trial 9 finished with value: 40.724056107765854 and parameters: {'n_units': 36, 'n_dense_units': 121, 'dropout': 0.3998305866638291, 'recurrent_dropout': 0.1676000711718685, 'learning_rate': 3.497262605442537e-05, 'batch_size': 64, 'activation': 'tanh', 'epochs': 48, 'n_lstm_layers': 2}. Best is trial 8 with value: 7.164126424775429.\n",
            "/usr/local/lib/python3.11/dist-packages/keras/src/layers/rnn/rnn.py:200: UserWarning: Do not pass an `input_shape`/`input_dim` argument to a layer. When using Sequential models, prefer using an `Input(shape)` object as the first layer in the model instead.\n",
            "  super().__init__(**kwargs)\n"
          ]
        },
        {
          "name": "stdout",
          "output_type": "stream",
          "text": [
            "\u001b[1m14/14\u001b[0m \u001b[32m━━━━━━━━━━━━━━━━━━━━\u001b[0m\u001b[37m\u001b[0m \u001b[1m1s\u001b[0m 40ms/step\n"
          ]
        },
        {
          "name": "stderr",
          "output_type": "stream",
          "text": [
            "[I 2025-07-09 22:55:05,938] Trial 10 finished with value: 7.141441220641664 and parameters: {'n_units': 59, 'n_dense_units': 128, 'dropout': 0.15266943793531132, 'recurrent_dropout': 0.014152772175385742, 'learning_rate': 0.001348062348572816, 'batch_size': 64, 'activation': 'tanh', 'epochs': 41, 'n_lstm_layers': 1}. Best is trial 10 with value: 7.141441220641664.\n",
            "/usr/local/lib/python3.11/dist-packages/keras/src/layers/rnn/rnn.py:200: UserWarning: Do not pass an `input_shape`/`input_dim` argument to a layer. When using Sequential models, prefer using an `Input(shape)` object as the first layer in the model instead.\n",
            "  super().__init__(**kwargs)\n"
          ]
        },
        {
          "name": "stdout",
          "output_type": "stream",
          "text": [
            "\u001b[1m14/14\u001b[0m \u001b[32m━━━━━━━━━━━━━━━━━━━━\u001b[0m\u001b[37m\u001b[0m \u001b[1m1s\u001b[0m 40ms/step\n"
          ]
        },
        {
          "name": "stderr",
          "output_type": "stream",
          "text": [
            "[I 2025-07-09 22:56:04,103] Trial 11 finished with value: 7.149452880397197 and parameters: {'n_units': 57, 'n_dense_units': 128, 'dropout': 0.1301672104819896, 'recurrent_dropout': 0.004465895998489806, 'learning_rate': 0.001257657475455845, 'batch_size': 64, 'activation': 'tanh', 'epochs': 42, 'n_lstm_layers': 1}. Best is trial 10 with value: 7.141441220641664.\n",
            "/usr/local/lib/python3.11/dist-packages/keras/src/layers/rnn/rnn.py:200: UserWarning: Do not pass an `input_shape`/`input_dim` argument to a layer. When using Sequential models, prefer using an `Input(shape)` object as the first layer in the model instead.\n",
            "  super().__init__(**kwargs)\n"
          ]
        },
        {
          "name": "stdout",
          "output_type": "stream",
          "text": [
            "\u001b[1m14/14\u001b[0m \u001b[32m━━━━━━━━━━━━━━━━━━━━\u001b[0m\u001b[37m\u001b[0m \u001b[1m1s\u001b[0m 39ms/step\n"
          ]
        },
        {
          "name": "stderr",
          "output_type": "stream",
          "text": [
            "[I 2025-07-09 22:57:04,505] Trial 12 finished with value: 7.209358131112402 and parameters: {'n_units': 59, 'n_dense_units': 107, 'dropout': 0.12003217980685421, 'recurrent_dropout': 0.0025872074808877266, 'learning_rate': 0.0013299799035929964, 'batch_size': 64, 'activation': 'tanh', 'epochs': 42, 'n_lstm_layers': 1}. Best is trial 10 with value: 7.141441220641664.\n",
            "/usr/local/lib/python3.11/dist-packages/keras/src/layers/rnn/rnn.py:200: UserWarning: Do not pass an `input_shape`/`input_dim` argument to a layer. When using Sequential models, prefer using an `Input(shape)` object as the first layer in the model instead.\n",
            "  super().__init__(**kwargs)\n"
          ]
        },
        {
          "name": "stdout",
          "output_type": "stream",
          "text": [
            "\u001b[1m14/14\u001b[0m \u001b[32m━━━━━━━━━━━━━━━━━━━━\u001b[0m\u001b[37m\u001b[0m \u001b[1m1s\u001b[0m 39ms/step\n"
          ]
        },
        {
          "name": "stderr",
          "output_type": "stream",
          "text": [
            "[I 2025-07-09 22:57:59,371] Trial 13 finished with value: 8.227818112388084 and parameters: {'n_units': 55, 'n_dense_units': 104, 'dropout': 0.10968565778945255, 'recurrent_dropout': 0.016718738761821603, 'learning_rate': 0.0009383330809875443, 'batch_size': 64, 'activation': 'tanh', 'epochs': 42, 'n_lstm_layers': 1}. Best is trial 10 with value: 7.141441220641664.\n",
            "/usr/local/lib/python3.11/dist-packages/keras/src/layers/rnn/rnn.py:200: UserWarning: Do not pass an `input_shape`/`input_dim` argument to a layer. When using Sequential models, prefer using an `Input(shape)` object as the first layer in the model instead.\n",
            "  super().__init__(**kwargs)\n"
          ]
        },
        {
          "name": "stdout",
          "output_type": "stream",
          "text": [
            "\u001b[1m14/14\u001b[0m \u001b[32m━━━━━━━━━━━━━━━━━━━━\u001b[0m\u001b[37m\u001b[0m \u001b[1m1s\u001b[0m 41ms/step\n"
          ]
        },
        {
          "name": "stderr",
          "output_type": "stream",
          "text": [
            "[I 2025-07-09 22:58:43,873] Trial 14 finished with value: 22.287903876878378 and parameters: {'n_units': 72, 'n_dense_units': 128, 'dropout': 0.19287711407819907, 'recurrent_dropout': 0.042533425204240125, 'learning_rate': 0.0006000535978798807, 'batch_size': 128, 'activation': 'tanh', 'epochs': 41, 'n_lstm_layers': 1}. Best is trial 10 with value: 7.141441220641664.\n",
            "/usr/local/lib/python3.11/dist-packages/keras/src/layers/rnn/rnn.py:200: UserWarning: Do not pass an `input_shape`/`input_dim` argument to a layer. When using Sequential models, prefer using an `Input(shape)` object as the first layer in the model instead.\n",
            "  super().__init__(**kwargs)\n"
          ]
        },
        {
          "name": "stdout",
          "output_type": "stream",
          "text": [
            "\u001b[1m14/14\u001b[0m \u001b[32m━━━━━━━━━━━━━━━━━━━━\u001b[0m\u001b[37m\u001b[0m \u001b[1m1s\u001b[0m 39ms/step\n"
          ]
        },
        {
          "name": "stderr",
          "output_type": "stream",
          "text": [
            "[I 2025-07-09 22:59:39,853] Trial 15 finished with value: 7.1248869493161235 and parameters: {'n_units': 51, 'n_dense_units': 108, 'dropout': 0.17137007213333869, 'recurrent_dropout': 0.04887963798106186, 'learning_rate': 0.002422453521421521, 'batch_size': 64, 'activation': 'tanh', 'epochs': 44, 'n_lstm_layers': 1}. Best is trial 15 with value: 7.1248869493161235.\n",
            "/usr/local/lib/python3.11/dist-packages/keras/src/layers/rnn/rnn.py:200: UserWarning: Do not pass an `input_shape`/`input_dim` argument to a layer. When using Sequential models, prefer using an `Input(shape)` object as the first layer in the model instead.\n",
            "  super().__init__(**kwargs)\n"
          ]
        },
        {
          "name": "stdout",
          "output_type": "stream",
          "text": [
            "\u001b[1m14/14\u001b[0m \u001b[32m━━━━━━━━━━━━━━━━━━━━\u001b[0m\u001b[37m\u001b[0m \u001b[1m1s\u001b[0m 66ms/step\n"
          ]
        },
        {
          "name": "stderr",
          "output_type": "stream",
          "text": [
            "[I 2025-07-09 23:00:34,036] Trial 16 finished with value: 7.122644444815656 and parameters: {'n_units': 43, 'n_dense_units': 109, 'dropout': 0.19145830941678826, 'recurrent_dropout': 0.055435392313375666, 'learning_rate': 0.0031867088216470944, 'batch_size': 64, 'activation': 'tanh', 'epochs': 45, 'n_lstm_layers': 1}. Best is trial 16 with value: 7.122644444815656.\n",
            "/usr/local/lib/python3.11/dist-packages/keras/src/layers/rnn/rnn.py:200: UserWarning: Do not pass an `input_shape`/`input_dim` argument to a layer. When using Sequential models, prefer using an `Input(shape)` object as the first layer in the model instead.\n",
            "  super().__init__(**kwargs)\n"
          ]
        },
        {
          "name": "stdout",
          "output_type": "stream",
          "text": [
            "\u001b[1m14/14\u001b[0m \u001b[32m━━━━━━━━━━━━━━━━━━━━\u001b[0m\u001b[37m\u001b[0m \u001b[1m2s\u001b[0m 74ms/step\n"
          ]
        },
        {
          "name": "stderr",
          "output_type": "stream",
          "text": [
            "[I 2025-07-09 23:02:04,345] Trial 17 finished with value: 7.128056972419031 and parameters: {'n_units': 44, 'n_dense_units': 104, 'dropout': 0.2136551301637462, 'recurrent_dropout': 0.06405518881153331, 'learning_rate': 0.0031277418290203284, 'batch_size': 64, 'activation': 'tanh', 'epochs': 45, 'n_lstm_layers': 2}. Best is trial 16 with value: 7.122644444815656.\n",
            "/usr/local/lib/python3.11/dist-packages/keras/src/layers/rnn/rnn.py:200: UserWarning: Do not pass an `input_shape`/`input_dim` argument to a layer. When using Sequential models, prefer using an `Input(shape)` object as the first layer in the model instead.\n",
            "  super().__init__(**kwargs)\n"
          ]
        },
        {
          "name": "stdout",
          "output_type": "stream",
          "text": [
            "\u001b[1m14/14\u001b[0m \u001b[32m━━━━━━━━━━━━━━━━━━━━\u001b[0m\u001b[37m\u001b[0m \u001b[1m1s\u001b[0m 41ms/step\n"
          ]
        },
        {
          "name": "stderr",
          "output_type": "stream",
          "text": [
            "[I 2025-07-09 23:02:22,574] Trial 18 finished with value: 7.123293404436455 and parameters: {'n_units': 46, 'n_dense_units': 96, 'dropout': 0.21148666894853374, 'recurrent_dropout': 0.12572704532841592, 'learning_rate': 0.009857917679679343, 'batch_size': 128, 'activation': 'tanh', 'epochs': 45, 'n_lstm_layers': 1}. Best is trial 16 with value: 7.122644444815656.\n",
            "/usr/local/lib/python3.11/dist-packages/keras/src/layers/rnn/rnn.py:200: UserWarning: Do not pass an `input_shape`/`input_dim` argument to a layer. When using Sequential models, prefer using an `Input(shape)` object as the first layer in the model instead.\n",
            "  super().__init__(**kwargs)\n"
          ]
        },
        {
          "name": "stdout",
          "output_type": "stream",
          "text": [
            "\u001b[1m14/14\u001b[0m \u001b[32m━━━━━━━━━━━━━━━━━━━━\u001b[0m\u001b[37m\u001b[0m \u001b[1m1s\u001b[0m 38ms/step\n"
          ]
        },
        {
          "name": "stderr",
          "output_type": "stream",
          "text": [
            "[I 2025-07-09 23:02:44,928] Trial 19 finished with value: 7.124100073019961 and parameters: {'n_units': 43, 'n_dense_units': 94, 'dropout': 0.2380292730104887, 'recurrent_dropout': 0.1339880892389677, 'learning_rate': 0.008165104889053362, 'batch_size': 128, 'activation': 'tanh', 'epochs': 50, 'n_lstm_layers': 1}. Best is trial 16 with value: 7.122644444815656.\n"
          ]
        },
        {
          "name": "stdout",
          "output_type": "stream",
          "text": [
            "Best parameters: {'n_units': 43, 'n_dense_units': 109, 'dropout': 0.19145830941678826, 'recurrent_dropout': 0.055435392313375666, 'learning_rate': 0.0031867088216470944, 'batch_size': 64, 'activation': 'tanh', 'epochs': 45, 'n_lstm_layers': 1}\n",
            "🏃 View run Best_Hyperparameters_MultiOutput at: http://172.174.154.85:8000/#/experiments/3/runs/d570976c56294b7c8e2cb7cc7eb1cfa0\n",
            "🧪 View experiment at: http://172.174.154.85:8000/#/experiments/3\n"
          ]
        }
      ],
      "source": [
        "def optuna_objective(trial):\n",
        "    n_units = trial.suggest_int(\"n_units\", 32, 128)\n",
        "    n_dense_units = trial.suggest_int(\"n_dense_units\", 32, 128)\n",
        "    dropout = trial.suggest_float(\"dropout\", 0.1, 0.5)\n",
        "    recurrent_dropout = trial.suggest_float(\"recurrent_dropout\", 0.0, 0.3)\n",
        "    learning_rate = trial.suggest_float(\"learning_rate\", 1e-5, 1e-2, log=True)\n",
        "    batch_size = trial.suggest_categorical(\"batch_size\", [32, 64, 128])\n",
        "    activation = trial.suggest_categorical(\"activation\", [\"relu\", \"tanh\"])\n",
        "    epochs = trial.suggest_int(\"epochs\", 30, 50)\n",
        "    n_lstm_layers = trial.suggest_int(\"n_lstm_layers\", 1, 2)\n",
        "\n",
        "    model = Sequential()\n",
        "    model.add(LSTM(n_units, return_sequences=(n_lstm_layers > 1),\n",
        "                   input_shape=(X_train.shape[1], X_train.shape[2]),\n",
        "                   activation=activation,\n",
        "                   dropout=dropout,\n",
        "                   recurrent_dropout=recurrent_dropout))\n",
        "\n",
        "    if n_lstm_layers > 1:\n",
        "        model.add(LSTM(n_units, activation=activation,\n",
        "                       dropout=dropout,\n",
        "                       recurrent_dropout=recurrent_dropout))\n",
        "\n",
        "    model.add(Dense(n_dense_units, activation=activation))\n",
        "    model.add(Dense(PREDICT_HORIZON * features.shape[1]))  # output size = 72 x 13 = 936\n",
        "\n",
        "    model.compile(optimizer=Adam(learning_rate=learning_rate), loss=\"mse\")\n",
        "\n",
        "    model.fit(X_train, y_train_flat,\n",
        "              epochs=epochs,\n",
        "              batch_size=batch_size,\n",
        "              validation_data=(X_val, y_val_flat),\n",
        "              callbacks=[EarlyStopping(patience=5, restore_best_weights=True)],\n",
        "              verbose=0)\n",
        "\n",
        "    preds = model.predict(X_val)\n",
        "    rmse = sqrt(mean_squared_error(y_val_flat, preds))\n",
        "    return rmse\n",
        "\n",
        "# Run optimization\n",
        "study = optuna.create_study(direction=\"minimize\")\n",
        "study.optimize(optuna_objective, n_trials=20)\n",
        "\n",
        "# Log best trial to MLflow\n",
        "with mlflow.start_run(run_name=\"Best_Hyperparameters_MultiOutput\"):\n",
        "    mlflow.log_params(study.best_params)\n",
        "    mlflow.log_metric(\"best_rmse\", study.best_value)\n",
        "    print(\"Best parameters:\", study.best_params)\n"
      ]
    },
    {
      "cell_type": "markdown",
      "metadata": {
        "id": "0hsdqJxuV53o"
      },
      "source": [
        "# **LSTM Model Fit**"
      ]
    },
    {
      "cell_type": "code",
      "execution_count": 18,
      "metadata": {
        "colab": {
          "base_uri": "https://localhost:8080/"
        },
        "id": "FOvNMuXXVx2A",
        "outputId": "1106eb68-2b18-4739-aac1-f52df4647d84"
      },
      "outputs": [
        {
          "name": "stdout",
          "output_type": "stream",
          "text": [
            "Epoch 1/45\n"
          ]
        },
        {
          "name": "stderr",
          "output_type": "stream",
          "text": [
            "/usr/local/lib/python3.11/dist-packages/keras/src/layers/rnn/rnn.py:200: UserWarning: Do not pass an `input_shape`/`input_dim` argument to a layer. When using Sequential models, prefer using an `Input(shape)` object as the first layer in the model instead.\n",
            "  super().__init__(**kwargs)\n"
          ]
        },
        {
          "name": "stdout",
          "output_type": "stream",
          "text": [
            "\u001b[1m28/28\u001b[0m \u001b[32m━━━━━━━━━━━━━━━━━━━━\u001b[0m\u001b[37m\u001b[0m \u001b[1m6s\u001b[0m 53ms/step - loss: 1933.3162 - val_loss: 1563.8527\n",
            "Epoch 2/45\n",
            "\u001b[1m28/28\u001b[0m \u001b[32m━━━━━━━━━━━━━━━━━━━━\u001b[0m\u001b[37m\u001b[0m \u001b[1m1s\u001b[0m 27ms/step - loss: 1420.8428 - val_loss: 1114.3811\n",
            "Epoch 3/45\n",
            "\u001b[1m28/28\u001b[0m \u001b[32m━━━━━━━━━━━━━━━━━━━━\u001b[0m\u001b[37m\u001b[0m \u001b[1m1s\u001b[0m 28ms/step - loss: 1015.9770 - val_loss: 794.9324\n",
            "Epoch 4/45\n",
            "\u001b[1m28/28\u001b[0m \u001b[32m━━━━━━━━━━━━━━━━━━━━\u001b[0m\u001b[37m\u001b[0m \u001b[1m1s\u001b[0m 30ms/step - loss: 750.6372 - val_loss: 564.0725\n",
            "Epoch 5/45\n",
            "\u001b[1m28/28\u001b[0m \u001b[32m━━━━━━━━━━━━━━━━━━━━\u001b[0m\u001b[37m\u001b[0m \u001b[1m1s\u001b[0m 29ms/step - loss: 549.6252 - val_loss: 398.4114\n",
            "Epoch 6/45\n",
            "\u001b[1m28/28\u001b[0m \u001b[32m━━━━━━━━━━━━━━━━━━━━\u001b[0m\u001b[37m\u001b[0m \u001b[1m1s\u001b[0m 27ms/step - loss: 402.0500 - val_loss: 280.5931\n",
            "Epoch 7/45\n",
            "\u001b[1m28/28\u001b[0m \u001b[32m━━━━━━━━━━━━━━━━━━━━\u001b[0m\u001b[37m\u001b[0m \u001b[1m2s\u001b[0m 49ms/step - loss: 290.7694 - val_loss: 199.9519\n",
            "Epoch 8/45\n",
            "\u001b[1m28/28\u001b[0m \u001b[32m━━━━━━━━━━━━━━━━━━━━\u001b[0m\u001b[37m\u001b[0m \u001b[1m1s\u001b[0m 43ms/step - loss: 234.7928 - val_loss: 144.8626\n",
            "Epoch 9/45\n",
            "\u001b[1m28/28\u001b[0m \u001b[32m━━━━━━━━━━━━━━━━━━━━\u001b[0m\u001b[37m\u001b[0m \u001b[1m1s\u001b[0m 27ms/step - loss: 199.5797 - val_loss: 109.5275\n",
            "Epoch 10/45\n",
            "\u001b[1m28/28\u001b[0m \u001b[32m━━━━━━━━━━━━━━━━━━━━\u001b[0m\u001b[37m\u001b[0m \u001b[1m1s\u001b[0m 27ms/step - loss: 168.1226 - val_loss: 86.7835\n",
            "Epoch 11/45\n",
            "\u001b[1m28/28\u001b[0m \u001b[32m━━━━━━━━━━━━━━━━━━━━\u001b[0m\u001b[37m\u001b[0m \u001b[1m1s\u001b[0m 28ms/step - loss: 151.5534 - val_loss: 72.6914\n",
            "Epoch 12/45\n",
            "\u001b[1m28/28\u001b[0m \u001b[32m━━━━━━━━━━━━━━━━━━━━\u001b[0m\u001b[37m\u001b[0m \u001b[1m1s\u001b[0m 27ms/step - loss: 145.7265 - val_loss: 63.9376\n",
            "Epoch 13/45\n",
            "\u001b[1m28/28\u001b[0m \u001b[32m━━━━━━━━━━━━━━━━━━━━\u001b[0m\u001b[37m\u001b[0m \u001b[1m1s\u001b[0m 28ms/step - loss: 130.3504 - val_loss: 58.6092\n",
            "Epoch 14/45\n",
            "\u001b[1m28/28\u001b[0m \u001b[32m━━━━━━━━━━━━━━━━━━━━\u001b[0m\u001b[37m\u001b[0m \u001b[1m1s\u001b[0m 30ms/step - loss: 126.0384 - val_loss: 55.6892\n",
            "Epoch 15/45\n",
            "\u001b[1m28/28\u001b[0m \u001b[32m━━━━━━━━━━━━━━━━━━━━\u001b[0m\u001b[37m\u001b[0m \u001b[1m1s\u001b[0m 27ms/step - loss: 127.9568 - val_loss: 53.7366\n",
            "Epoch 16/45\n",
            "\u001b[1m28/28\u001b[0m \u001b[32m━━━━━━━━━━━━━━━━━━━━\u001b[0m\u001b[37m\u001b[0m \u001b[1m1s\u001b[0m 27ms/step - loss: 123.8390 - val_loss: 52.6912\n",
            "Epoch 17/45\n",
            "\u001b[1m28/28\u001b[0m \u001b[32m━━━━━━━━━━━━━━━━━━━━\u001b[0m\u001b[37m\u001b[0m \u001b[1m1s\u001b[0m 28ms/step - loss: 129.2500 - val_loss: 51.9216\n",
            "Epoch 18/45\n",
            "\u001b[1m28/28\u001b[0m \u001b[32m━━━━━━━━━━━━━━━━━━━━\u001b[0m\u001b[37m\u001b[0m \u001b[1m1s\u001b[0m 28ms/step - loss: 126.4524 - val_loss: 51.6649\n",
            "Epoch 19/45\n",
            "\u001b[1m28/28\u001b[0m \u001b[32m━━━━━━━━━━━━━━━━━━━━\u001b[0m\u001b[37m\u001b[0m \u001b[1m1s\u001b[0m 33ms/step - loss: 124.0183 - val_loss: 51.2776\n",
            "Epoch 20/45\n",
            "\u001b[1m28/28\u001b[0m \u001b[32m━━━━━━━━━━━━━━━━━━━━\u001b[0m\u001b[37m\u001b[0m \u001b[1m2s\u001b[0m 49ms/step - loss: 133.3595 - val_loss: 51.0292\n",
            "Epoch 21/45\n",
            "\u001b[1m28/28\u001b[0m \u001b[32m━━━━━━━━━━━━━━━━━━━━\u001b[0m\u001b[37m\u001b[0m \u001b[1m1s\u001b[0m 34ms/step - loss: 125.6104 - val_loss: 50.9781\n",
            "Epoch 22/45\n",
            "\u001b[1m28/28\u001b[0m \u001b[32m━━━━━━━━━━━━━━━━━━━━\u001b[0m\u001b[37m\u001b[0m \u001b[1m1s\u001b[0m 28ms/step - loss: 129.6867 - val_loss: 50.9167\n",
            "Epoch 23/45\n",
            "\u001b[1m28/28\u001b[0m \u001b[32m━━━━━━━━━━━━━━━━━━━━\u001b[0m\u001b[37m\u001b[0m \u001b[1m1s\u001b[0m 30ms/step - loss: 132.4794 - val_loss: 50.9376\n",
            "Epoch 24/45\n",
            "\u001b[1m28/28\u001b[0m \u001b[32m━━━━━━━━━━━━━━━━━━━━\u001b[0m\u001b[37m\u001b[0m \u001b[1m1s\u001b[0m 28ms/step - loss: 125.2804 - val_loss: 50.9054\n",
            "Epoch 25/45\n",
            "\u001b[1m28/28\u001b[0m \u001b[32m━━━━━━━━━━━━━━━━━━━━\u001b[0m\u001b[37m\u001b[0m \u001b[1m1s\u001b[0m 29ms/step - loss: 130.0085 - val_loss: 50.8403\n",
            "Epoch 26/45\n",
            "\u001b[1m28/28\u001b[0m \u001b[32m━━━━━━━━━━━━━━━━━━━━\u001b[0m\u001b[37m\u001b[0m \u001b[1m1s\u001b[0m 31ms/step - loss: 126.4972 - val_loss: 50.8814\n",
            "Epoch 27/45\n",
            "\u001b[1m28/28\u001b[0m \u001b[32m━━━━━━━━━━━━━━━━━━━━\u001b[0m\u001b[37m\u001b[0m \u001b[1m1s\u001b[0m 27ms/step - loss: 129.8076 - val_loss: 50.8352\n",
            "Epoch 28/45\n",
            "\u001b[1m28/28\u001b[0m \u001b[32m━━━━━━━━━━━━━━━━━━━━\u001b[0m\u001b[37m\u001b[0m \u001b[1m1s\u001b[0m 28ms/step - loss: 129.7969 - val_loss: 50.9009\n",
            "Epoch 29/45\n",
            "\u001b[1m28/28\u001b[0m \u001b[32m━━━━━━━━━━━━━━━━━━━━\u001b[0m\u001b[37m\u001b[0m \u001b[1m1s\u001b[0m 27ms/step - loss: 130.5671 - val_loss: 50.8365\n",
            "Epoch 30/45\n",
            "\u001b[1m28/28\u001b[0m \u001b[32m━━━━━━━━━━━━━━━━━━━━\u001b[0m\u001b[37m\u001b[0m \u001b[1m1s\u001b[0m 27ms/step - loss: 133.9398 - val_loss: 50.8508\n",
            "Epoch 31/45\n",
            "\u001b[1m28/28\u001b[0m \u001b[32m━━━━━━━━━━━━━━━━━━━━\u001b[0m\u001b[37m\u001b[0m \u001b[1m2s\u001b[0m 48ms/step - loss: 125.7913 - val_loss: 51.0268\n",
            "Epoch 32/45\n",
            "\u001b[1m28/28\u001b[0m \u001b[32m━━━━━━━━━━━━━━━━━━━━\u001b[0m\u001b[37m\u001b[0m \u001b[1m1s\u001b[0m 35ms/step - loss: 122.1142 - val_loss: 50.9154\n",
            "\u001b[1m14/14\u001b[0m \u001b[32m━━━━━━━━━━━━━━━━━━━━\u001b[0m\u001b[37m\u001b[0m \u001b[1m1s\u001b[0m 37ms/step\n"
          ]
        },
        {
          "name": "stderr",
          "output_type": "stream",
          "text": [
            "2025/07/09 23:05:15 WARNING mlflow.models.model: `artifact_path` is deprecated. Please use `name` instead.\n",
            "2025/07/09 23:05:16 WARNING mlflow.keras.save: You are saving a Keras model without specifying model signature.\n",
            "\u001b[31m2025/07/09 23:05:31 WARNING mlflow.models.model: Model logged without a signature and input example. Please set `input_example` parameter when logging the model to auto infer the model signature.\u001b[0m\n"
          ]
        },
        {
          "name": "stdout",
          "output_type": "stream",
          "text": [
            "Final model logged to MLflow\n",
            "Final RMSE: 7.129881774897387\n",
            "Final MAE: 3.8864623575769834\n",
            "🏃 View run Final_LSTM_MultiOutput_Optuna at: http://172.174.154.85:8000/#/experiments/3/runs/53ae4d9b125f4ca9ad69c51d46232f64\n",
            "🧪 View experiment at: http://172.174.154.85:8000/#/experiments/3\n"
          ]
        }
      ],
      "source": [
        "best_params = study.best_params\n",
        "with mlflow.start_run(run_name=\"Final_LSTM_MultiOutput_Optuna\"):\n",
        "    model = Sequential()\n",
        "    model.add(LSTM(best_params[\"n_units\"],\n",
        "                   return_sequences=(best_params[\"n_lstm_layers\"] > 1),\n",
        "                   input_shape=(X_train.shape[1], X_train.shape[2]),\n",
        "                   activation=best_params[\"activation\"],\n",
        "                   dropout=best_params[\"dropout\"],\n",
        "                   recurrent_dropout=best_params[\"recurrent_dropout\"]))\n",
        "\n",
        "    if best_params[\"n_lstm_layers\"] > 1:\n",
        "        model.add(LSTM(best_params[\"n_units\"], activation=best_params[\"activation\"],\n",
        "                       dropout=best_params[\"dropout\"],\n",
        "                       recurrent_dropout=best_params[\"recurrent_dropout\"]))\n",
        "\n",
        "    model.add(Dense(best_params[\"n_dense_units\"], activation=best_params[\"activation\"]))\n",
        "    model.add(Dense(PREDICT_HORIZON * features.shape[1]))\n",
        "\n",
        "    model.compile(optimizer=Adam(learning_rate=best_params[\"learning_rate\"]), loss=\"mse\")\n",
        "\n",
        "    model.fit(X_train, y_train_flat,\n",
        "              epochs=best_params[\"epochs\"],\n",
        "              batch_size=best_params[\"batch_size\"],\n",
        "              validation_data=(X_val, y_val_flat),\n",
        "              callbacks=[EarlyStopping(patience=5, restore_best_weights=True)],\n",
        "              verbose=1)\n",
        "\n",
        "    preds = model.predict(X_val)\n",
        "    rmse = sqrt(mean_squared_error(y_val_flat, preds))\n",
        "    mae = mean_absolute_error(y_val_flat, preds)\n",
        "\n",
        "    # Log to MLflow\n",
        "    mlflow.log_params(best_params)\n",
        "    mlflow.log_metric(\"final_rmse\", rmse)\n",
        "    mlflow.log_metric(\"final_mae\", mae)\n",
        "    mlflow.set_tag(\"model_type\", \"LSTM_MultiOutput\")\n",
        "    mlflow.set_tag(\"tuner\", \"Optuna\")\n",
        "    mlflow.keras.log_model(model, artifact_path=\"model\")\n",
        "\n",
        "    print(\"Final model logged to MLflow\")\n",
        "    print(\"Final RMSE:\", rmse)\n",
        "    print(\"Final MAE:\", mae)"
      ]
    },
    {
      "cell_type": "markdown",
      "metadata": {
        "id": "YWMeoayqWG0J"
      },
      "source": [
        "# **Predictions**"
      ]
    },
    {
      "cell_type": "code",
      "execution_count": 19,
      "metadata": {
        "colab": {
          "base_uri": "https://localhost:8080/"
        },
        "id": "ySsXSKyMWBB1",
        "outputId": "3183f2de-31de-44f6-96bc-daaf36a3cac8"
      },
      "outputs": [
        {
          "name": "stdout",
          "output_type": "stream",
          "text": [
            "\u001b[1m1/1\u001b[0m \u001b[32m━━━━━━━━━━━━━━━━━━━━\u001b[0m\u001b[37m\u001b[0m \u001b[1m0s\u001b[0m 53ms/step\n",
            "    aqi_us_lag1  aqi_us_lag12  aqi_us_lag24      pm2_5  log_pm10  \\\n",
            "0     77.452164     77.500862     77.385559  24.382507  4.058289   \n",
            "1     77.456062     77.470085     77.400368  24.341465  4.074904   \n",
            "2     77.469391     77.432869     77.410675  24.295153  4.097917   \n",
            "3     77.489082     77.391174     77.411507  24.269276  4.101819   \n",
            "4     77.499146     77.373917     77.419403  24.226751  4.100608   \n",
            "..          ...           ...           ...        ...       ...   \n",
            "67    78.005913     78.090950     77.837364  24.876987  4.090888   \n",
            "68    78.031624     78.110245     77.855484  24.906393  4.083210   \n",
            "69    78.046898     78.134354     77.867790  24.912518  4.082654   \n",
            "70    78.048653     78.154709     77.884796  24.896120  4.088834   \n",
            "71    78.048523     78.153297     77.903748  24.877621  4.091031   \n",
            "\n",
            "    scaled_humidity_%  scaled_temp_C_scaled_log_windspeed_kph   log_so2  \\\n",
            "0            0.018942                                0.696161  2.537938   \n",
            "1           -0.036624                                0.642194  2.531499   \n",
            "2           -0.044660                                0.692424  2.528921   \n",
            "3           -0.088143                                0.884075  2.533591   \n",
            "4           -0.169323                                0.721180  2.536023   \n",
            "..                ...                                     ...       ...   \n",
            "67          -0.104710                                0.351867  2.552928   \n",
            "68          -0.117844                                0.362109  2.547415   \n",
            "69          -0.099630                                0.602715  2.538537   \n",
            "70          -0.174334                                0.379250  2.539276   \n",
            "71          -0.147454                                0.384441  2.531532   \n",
            "\n",
            "    day_of_week  scaled_temp_C  scaled_temp_C_scaled_o3   log_no2     aqi_us  \\\n",
            "0      3.273594      -0.035898                -0.142688  2.352978  77.456947   \n",
            "1      3.282432      -0.003974                -0.202407  2.372477  77.469910   \n",
            "2      3.262466       0.000598                -0.244014  2.395147  77.489441   \n",
            "3      3.238411       0.002560                -0.281205  2.414451  77.499519   \n",
            "4      3.196034       0.072759                -0.303852  2.430275  77.497040   \n",
            "..          ...            ...                      ...       ...        ...   \n",
            "67     3.066809       0.035307                -0.121507  2.329520  78.031898   \n",
            "68     2.999759       0.063152                -0.222309  2.329380  78.046730   \n",
            "69     3.087743       0.035897                -0.235539  2.310294  78.048973   \n",
            "70     3.073123       0.084986                -0.172344  2.334834  78.048889   \n",
            "71     3.018015       0.105216                -0.103908  2.358709  78.057930   \n",
            "\n",
            "              datetime  \n",
            "0  2025-07-07 01:00:00  \n",
            "1  2025-07-07 02:00:00  \n",
            "2  2025-07-07 03:00:00  \n",
            "3  2025-07-07 04:00:00  \n",
            "4  2025-07-07 05:00:00  \n",
            "..                 ...  \n",
            "67 2025-07-09 20:00:00  \n",
            "68 2025-07-09 21:00:00  \n",
            "69 2025-07-09 22:00:00  \n",
            "70 2025-07-09 23:00:00  \n",
            "71 2025-07-10 00:00:00  \n",
            "\n",
            "[72 rows x 14 columns]\n"
          ]
        },
        {
          "name": "stderr",
          "output_type": "stream",
          "text": [
            "/tmp/ipython-input-19-489927783.py:3: FutureWarning: 'H' is deprecated and will be removed in a future version, please use 'h' instead.\n",
            "  future_dates = pd.date_range(start=df['datetime'].iloc[-1] + pd.Timedelta(hours=1),\n"
          ]
        }
      ],
      "source": [
        "last_sequence = features.values[-WINDOW_SIZE:].reshape(1, WINDOW_SIZE, features.shape[1])\n",
        "future_preds = model.predict(last_sequence).reshape(PREDICT_HORIZON, features.shape[1])\n",
        "future_dates = pd.date_range(start=df['datetime'].iloc[-1] + pd.Timedelta(hours=1),\n",
        "                             periods=PREDICT_HORIZON, freq='H')\n",
        "\n",
        "future_df = pd.DataFrame(future_preds, columns=features.columns)\n",
        "future_df[\"datetime\"] = future_dates\n",
        "future_df.to_csv(\"future_predictions.csv\", index=False)\n",
        "mlflow.log_artifact(\"future_predictions.csv\")\n",
        "print(future_df)"
      ]
    }
  ],
  "metadata": {
    "colab": {
      "provenance": []
    },
    "kernelspec": {
      "display_name": "Python 3",
      "name": "python3"
    },
    "language_info": {
      "name": "python"
    }
  },
  "nbformat": 4,
  "nbformat_minor": 0
}
