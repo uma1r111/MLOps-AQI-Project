{
  "cells": [
    {
      "cell_type": "code",
      "execution_count": 1,
      "metadata": {
        "colab": {
          "base_uri": "https://localhost:8080/"
        },
        "id": "oXgjtRd3yrsK",
        "outputId": "3bde29c6-aa00-454a-8e86-932f5a9ba10c"
      },
      "outputs": [
        {
          "name": "stdout",
          "output_type": "stream",
          "text": [
            "\u001b[2K   \u001b[90m━━━━━━━━━━━━━━━━━━━━━━━━━━━━━━━━━━━━━━━━\u001b[0m \u001b[32m24.7/24.7 MB\u001b[0m \u001b[31m27.3 MB/s\u001b[0m eta \u001b[36m0:00:00\u001b[0m\n",
            "\u001b[2K   \u001b[90m━━━━━━━━━━━━━━━━━━━━━━━━━━━━━━━━━━━━━━━━\u001b[0m \u001b[32m1.9/1.9 MB\u001b[0m \u001b[31m55.5 MB/s\u001b[0m eta \u001b[36m0:00:00\u001b[0m\n",
            "\u001b[2K   \u001b[90m━━━━━━━━━━━━━━━━━━━━━━━━━━━━━━━━━━━━━━━━\u001b[0m \u001b[32m247.0/247.0 kB\u001b[0m \u001b[31m16.7 MB/s\u001b[0m eta \u001b[36m0:00:00\u001b[0m\n",
            "\u001b[2K   \u001b[90m━━━━━━━━━━━━━━━━━━━━━━━━━━━━━━━━━━━━━━━━\u001b[0m \u001b[32m147.8/147.8 kB\u001b[0m \u001b[31m9.6 MB/s\u001b[0m eta \u001b[36m0:00:00\u001b[0m\n",
            "\u001b[2K   \u001b[90m━━━━━━━━━━━━━━━━━━━━━━━━━━━━━━━━━━━━━━━━\u001b[0m \u001b[32m114.9/114.9 kB\u001b[0m \u001b[31m7.6 MB/s\u001b[0m eta \u001b[36m0:00:00\u001b[0m\n",
            "\u001b[2K   \u001b[90m━━━━━━━━━━━━━━━━━━━━━━━━━━━━━━━━━━━━━━━━\u001b[0m \u001b[32m85.0/85.0 kB\u001b[0m \u001b[31m4.0 MB/s\u001b[0m eta \u001b[36m0:00:00\u001b[0m\n",
            "\u001b[2K   \u001b[90m━━━━━━━━━━━━━━━━━━━━━━━━━━━━━━━━━━━━━━━━\u001b[0m \u001b[32m741.4/741.4 kB\u001b[0m \u001b[31m15.8 MB/s\u001b[0m eta \u001b[36m0:00:00\u001b[0m\n",
            "\u001b[2K   \u001b[90m━━━━━━━━━━━━━━━━━━━━━━━━━━━━━━━━━━━━━━━━\u001b[0m \u001b[32m203.4/203.4 kB\u001b[0m \u001b[31m8.6 MB/s\u001b[0m eta \u001b[36m0:00:00\u001b[0m\n",
            "\u001b[2K   \u001b[90m━━━━━━━━━━━━━━━━━━━━━━━━━━━━━━━━━━━━━━━━\u001b[0m \u001b[32m65.6/65.6 kB\u001b[0m \u001b[31m3.6 MB/s\u001b[0m eta \u001b[36m0:00:00\u001b[0m\n",
            "\u001b[2K   \u001b[90m━━━━━━━━━━━━━━━━━━━━━━━━━━━━━━━━━━━━━━━━\u001b[0m \u001b[32m119.4/119.4 kB\u001b[0m \u001b[31m7.6 MB/s\u001b[0m eta \u001b[36m0:00:00\u001b[0m\n",
            "\u001b[2K   \u001b[90m━━━━━━━━━━━━━━━━━━━━━━━━━━━━━━━━━━━━━━━━\u001b[0m \u001b[32m201.6/201.6 kB\u001b[0m \u001b[31m9.8 MB/s\u001b[0m eta \u001b[36m0:00:00\u001b[0m\n",
            "\u001b[?25h"
          ]
        }
      ],
      "source": [
        "!pip install mlflow --quiet\n",
        "!pip install pyngrok --quiet"
      ]
    },
    {
      "cell_type": "code",
      "execution_count": 2,
      "metadata": {
        "id": "oXou3wVOyuDN"
      },
      "outputs": [],
      "source": [
        "import mlflow\n",
        "import subprocess\n",
        "import os\n",
        "import shutil\n",
        "from pyngrok import ngrok, conf\n",
        "import getpass"
      ]
    },
    {
      "cell_type": "code",
      "execution_count": 3,
      "metadata": {
        "colab": {
          "base_uri": "https://localhost:8080/"
        },
        "id": "5vm-WaT_yvzL",
        "outputId": "dcf3de4a-3961-4be8-a56d-02843acbee95"
      },
      "outputs": [
        {
          "name": "stdout",
          "output_type": "stream",
          "text": [
            "Mounted at /content/drive\n"
          ]
        }
      ],
      "source": [
        "from google.colab import drive\n",
        "drive.mount('/content/drive')"
      ]
    },
    {
      "cell_type": "code",
      "execution_count": 4,
      "metadata": {
        "colab": {
          "base_uri": "https://localhost:8080/"
        },
        "id": "C38iEmt7yxeU",
        "outputId": "80675852-33cf-4e64-8ca9-e8b961058b0a"
      },
      "outputs": [
        {
          "name": "stderr",
          "output_type": "stream",
          "text": [
            "2025/07/12 22:47:29 INFO mlflow.store.db.utils: Creating initial MLflow database tables...\n",
            "2025/07/12 22:47:29 INFO mlflow.store.db.utils: Updating database tables\n",
            "INFO  [alembic.runtime.migration] Context impl SQLiteImpl.\n",
            "INFO  [alembic.runtime.migration] Will assume non-transactional DDL.\n",
            "INFO  [alembic.runtime.migration] Context impl SQLiteImpl.\n",
            "INFO  [alembic.runtime.migration] Will assume non-transactional DDL.\n"
          ]
        },
        {
          "name": "stdout",
          "output_type": "stream",
          "text": [
            "🔐 Enter your ngrok authtoken: ··········\n",
            "🌐 Access MLflow UI at: NgrokTunnel: \"https://b8a301ab1f3d.ngrok-free.app\" -> \"http://localhost:5001\"\n"
          ]
        }
      ],
      "source": [
        "# Restore mlruns and database\n",
        "!cp -r /content/drive/MyDrive/mlflow_model_testing/mlruns /content/ 2>/dev/null || echo \"No existing mlruns to restore\"\n",
        "!cp /content/drive/MyDrive/mlflow_model_testing/mlflow.db /content/ 2>/dev/null || echo \"No existing mlflow.db to restore\"\n",
        "\n",
        "\n",
        "import mlflow\n",
        "\n",
        "# Set tracking URI to the restored local SQLite file\n",
        "mlflow.set_tracking_uri(\"sqlite:///mlflow.db\")\n",
        "\n",
        "# (Optional) Re-set your experiment name if needed\n",
        "mlflow.set_experiment(\"AQI hyperparameter & model testing (Manual)\")\n",
        "\n",
        "import subprocess\n",
        "\n",
        "# Start MLflow UI server on port 5000 using the restored database\n",
        "subprocess.Popen([\"mlflow\", \"ui\", \"--backend-store-uri\", \"sqlite:///mlflow.db\", \"--port\", \"5001\"])\n",
        "\n",
        "from pyngrok import ngrok, conf\n",
        "import getpass\n",
        "\n",
        "# Authenticate ngrok\n",
        "conf.get_default().auth_token = getpass.getpass(\"🔐 Enter your ngrok authtoken: \")\n",
        "\n",
        "# Expose port 5001\n",
        "public_url = ngrok.connect(5001)\n",
        "print(f\"🌐 Access MLflow UI at: {public_url}\")"
      ]
    },
    {
      "cell_type": "code",
      "execution_count": 5,
      "metadata": {
        "colab": {
          "base_uri": "https://localhost:8080/"
        },
        "id": "jKsL3Poky2cx",
        "outputId": "3277c807-b2a5-4f15-b141-0595f5a2093a"
      },
      "outputs": [
        {
          "name": "stdout",
          "output_type": "stream",
          "text": [
            "\u001b[?25l   \u001b[90m━━━━━━━━━━━━━━━━━━━━━━━━━━━━━━━━━━━━━━━━\u001b[0m \u001b[32m0.0/129.1 kB\u001b[0m \u001b[31m?\u001b[0m eta \u001b[36m-:--:--\u001b[0m\r\u001b[2K   \u001b[90m━━━━━━━━━━━━━━━━━━━━━━━━━━━━━━━━━━━━━━━━\u001b[0m \u001b[32m129.1/129.1 kB\u001b[0m \u001b[31m5.6 MB/s\u001b[0m eta \u001b[36m0:00:00\u001b[0m\n",
            "\u001b[2K   \u001b[90m━━━━━━━━━━━━━━━━━━━━━━━━━━━━━━━━━━━━━━━━\u001b[0m \u001b[32m395.9/395.9 kB\u001b[0m \u001b[31m6.5 MB/s\u001b[0m eta \u001b[36m0:00:00\u001b[0m\n",
            "\u001b[2K   \u001b[90m━━━━━━━━━━━━━━━━━━━━━━━━━━━━━━━━━━━━━━━━\u001b[0m \u001b[32m461.0/461.0 kB\u001b[0m \u001b[31m8.0 MB/s\u001b[0m eta \u001b[36m0:00:00\u001b[0m\n",
            "\u001b[2K   \u001b[90m━━━━━━━━━━━━━━━━━━━━━━━━━━━━━━━━━━━━━━━━\u001b[0m \u001b[32m77.3/77.3 kB\u001b[0m \u001b[31m4.4 MB/s\u001b[0m eta \u001b[36m0:00:00\u001b[0m\n",
            "\u001b[2K   \u001b[90m━━━━━━━━━━━━━━━━━━━━━━━━━━━━━━━━━━━━━━━━\u001b[0m \u001b[32m438.8/438.8 kB\u001b[0m \u001b[31m8.8 MB/s\u001b[0m eta \u001b[36m0:00:00\u001b[0m\n",
            "\u001b[2K   \u001b[90m━━━━━━━━━━━━━━━━━━━━━━━━━━━━━━━━━━━━━━━━\u001b[0m \u001b[32m41.8/41.8 kB\u001b[0m \u001b[31m3.6 MB/s\u001b[0m eta \u001b[36m0:00:00\u001b[0m\n",
            "\u001b[2K   \u001b[90m━━━━━━━━━━━━━━━━━━━━━━━━━━━━━━━━━━━━━━━━\u001b[0m \u001b[32m45.2/45.2 kB\u001b[0m \u001b[31m3.7 MB/s\u001b[0m eta \u001b[36m0:00:00\u001b[0m\n",
            "\u001b[2K   \u001b[90m━━━━━━━━━━━━━━━━━━━━━━━━━━━━━━━━━━━━━━━━\u001b[0m \u001b[32m154.5/154.5 kB\u001b[0m \u001b[31m7.1 MB/s\u001b[0m eta \u001b[36m0:00:00\u001b[0m\n",
            "\u001b[2K   \u001b[90m━━━━━━━━━━━━━━━━━━━━━━━━━━━━━━━━━━━━━━━━\u001b[0m \u001b[32m210.0/210.0 kB\u001b[0m \u001b[31m8.5 MB/s\u001b[0m eta \u001b[36m0:00:00\u001b[0m\n",
            "\u001b[2K   \u001b[90m━━━━━━━━━━━━━━━━━━━━━━━━━━━━━━━━━━━━━━━━\u001b[0m \u001b[32m118.6/118.6 kB\u001b[0m \u001b[31m7.0 MB/s\u001b[0m eta \u001b[36m0:00:00\u001b[0m\n",
            "\u001b[2K   \u001b[90m━━━━━━━━━━━━━━━━━━━━━━━━━━━━━━━━━━━━━━━━\u001b[0m \u001b[32m73.1/73.1 kB\u001b[0m \u001b[31m4.9 MB/s\u001b[0m eta \u001b[36m0:00:00\u001b[0m\n",
            "\u001b[2K   \u001b[90m━━━━━━━━━━━━━━━━━━━━━━━━━━━━━━━━━━━━━━━━\u001b[0m \u001b[32m1.1/1.1 MB\u001b[0m \u001b[31m12.3 MB/s\u001b[0m eta \u001b[36m0:00:00\u001b[0m\n",
            "\u001b[2K   \u001b[90m━━━━━━━━━━━━━━━━━━━━━━━━━━━━━━━━━━━━━━━━\u001b[0m \u001b[32m50.9/50.9 kB\u001b[0m \u001b[31m3.7 MB/s\u001b[0m eta \u001b[36m0:00:00\u001b[0m\n",
            "\u001b[2K   \u001b[90m━━━━━━━━━━━━━━━━━━━━━━━━━━━━━━━━━━━━━━━━\u001b[0m \u001b[32m374.9/374.9 kB\u001b[0m \u001b[31m10.2 MB/s\u001b[0m eta \u001b[36m0:00:00\u001b[0m\n",
            "\u001b[2K   \u001b[90m━━━━━━━━━━━━━━━━━━━━━━━━━━━━━━━━━━━━━━━━\u001b[0m \u001b[32m86.8/86.8 kB\u001b[0m \u001b[31m6.9 MB/s\u001b[0m eta \u001b[36m0:00:00\u001b[0m\n",
            "\u001b[2K   \u001b[90m━━━━━━━━━━━━━━━━━━━━━━━━━━━━━━━━━━━━━━━━\u001b[0m \u001b[32m45.5/45.5 kB\u001b[0m \u001b[31m3.8 MB/s\u001b[0m eta \u001b[36m0:00:00\u001b[0m\n",
            "\u001b[2K   \u001b[90m━━━━━━━━━━━━━━━━━━━━━━━━━━━━━━━━━━━━━━━━\u001b[0m \u001b[32m739.1/739.1 kB\u001b[0m \u001b[31m12.7 MB/s\u001b[0m eta \u001b[36m0:00:00\u001b[0m\n",
            "\u001b[2K   \u001b[90m━━━━━━━━━━━━━━━━━━━━━━━━━━━━━━━━━━━━━━━━\u001b[0m \u001b[32m84.2/84.2 kB\u001b[0m \u001b[31m5.7 MB/s\u001b[0m eta \u001b[36m0:00:00\u001b[0m\n",
            "\u001b[2K   \u001b[90m━━━━━━━━━━━━━━━━━━━━━━━━━━━━━━━━━━━━━━━━\u001b[0m \u001b[32m139.9/139.9 kB\u001b[0m \u001b[31m11.7 MB/s\u001b[0m eta \u001b[36m0:00:00\u001b[0m\n",
            "\u001b[2K   \u001b[90m━━━━━━━━━━━━━━━━━━━━━━━━━━━━━━━━━━━━━━━━\u001b[0m \u001b[32m13.6/13.6 MB\u001b[0m \u001b[31m33.7 MB/s\u001b[0m eta \u001b[36m0:00:00\u001b[0m\n",
            "\u001b[2K   \u001b[90m━━━━━━━━━━━━━━━━━━━━━━━━━━━━━━━━━━━━━━━━\u001b[0m \u001b[32m85.2/85.2 kB\u001b[0m \u001b[31m6.9 MB/s\u001b[0m eta \u001b[36m0:00:00\u001b[0m\n",
            "\u001b[?25hReading package lists...\n",
            "Building dependency tree...\n",
            "Reading state information...\n",
            "git is already the newest version (1:2.34.1-1ubuntu1.14).\n",
            "0 upgraded, 0 newly installed, 0 to remove and 35 not upgraded.\n"
          ]
        }
      ],
      "source": [
        "!pip install keras-tuner optuna dvc -q --quiet\n",
        "!pip install dvc[s3] --quiet\n",
        "!apt install git -y --quiet"
      ]
    },
    {
      "cell_type": "code",
      "execution_count": 6,
      "metadata": {
        "id": "RknFJDz6y2ZP"
      },
      "outputs": [],
      "source": [
        "import pandas as pd\n",
        "import numpy as np\n",
        "import mlflow\n",
        "import os\n",
        "import subprocess\n",
        "import optuna\n",
        "from statsmodels.tsa.statespace.sarimax import SARIMAX\n",
        "from sklearn.metrics import mean_squared_error, mean_absolute_error\n",
        "from math import sqrt\n",
        "from sklearn.model_selection import train_test_split\n",
        "from pyngrok import ngrok, conf\n",
        "from google.colab import drive\n",
        "import time\n",
        "import getpass\n",
        "from optuna import create_study\n",
        "from optuna.pruners import MedianPruner"
      ]
    },
    {
      "cell_type": "code",
      "execution_count": 7,
      "metadata": {
        "id": "v6pofLyuy2XZ"
      },
      "outputs": [],
      "source": [
        "# Constants\n",
        "PREDICT_HORIZON = 72  # Predict next 3 days\n",
        "VALIDATION_FRACTION = 0.2"
      ]
    },
    {
      "cell_type": "code",
      "execution_count": 8,
      "metadata": {
        "colab": {
          "base_uri": "https://localhost:8080/"
        },
        "id": "-uUS_jq6y2Vm",
        "outputId": "4dd89f67-153a-490e-cf91-58a74e0d7b00"
      },
      "outputs": [
        {
          "name": "stdout",
          "output_type": "stream",
          "text": [
            "\u001b[33mhint: Using 'master' as the name for the initial branch. This default branch name\u001b[m\n",
            "\u001b[33mhint: is subject to change. To configure the initial branch name to use in all\u001b[m\n",
            "\u001b[33mhint: of your new repositories, which will suppress this warning, call:\u001b[m\n",
            "\u001b[33mhint: \u001b[m\n",
            "\u001b[33mhint: \tgit config --global init.defaultBranch <name>\u001b[m\n",
            "\u001b[33mhint: \u001b[m\n",
            "\u001b[33mhint: Names commonly chosen instead of 'master' are 'main', 'trunk' and\u001b[m\n",
            "\u001b[33mhint: 'development'. The just-created branch can be renamed via this command:\u001b[m\n",
            "\u001b[33mhint: \u001b[m\n",
            "\u001b[33mhint: \tgit branch -m <name>\u001b[m\n",
            "Initialized empty Git repository in /content/.git/\n",
            "Initialized DVC repository.\n",
            "\n",
            "You can now commit the changes to git.\n",
            "\n",
            "\u001b[31m+---------------------------------------------------------------------+\n",
            "\u001b[0m\u001b[31m|\u001b[0m                                                                     \u001b[31m|\u001b[0m\n",
            "\u001b[31m|\u001b[0m        DVC has enabled anonymous aggregate usage analytics.         \u001b[31m|\u001b[0m\n",
            "\u001b[31m|\u001b[0m     Read the analytics documentation (and how to opt-out) here:     \u001b[31m|\u001b[0m\n",
            "\u001b[31m|\u001b[0m             <\u001b[36mhttps://dvc.org/doc/user-guide/analytics\u001b[39m>              \u001b[31m|\u001b[0m\n",
            "\u001b[31m|\u001b[0m                                                                     \u001b[31m|\u001b[0m\n",
            "\u001b[31m+---------------------------------------------------------------------+\n",
            "\u001b[0m\n",
            "\u001b[33mWhat's next?\u001b[39m\n",
            "\u001b[33m------------\u001b[39m\n",
            "- Check out the documentation: <\u001b[36mhttps://dvc.org/doc\u001b[39m>\n",
            "- Get help and share ideas: <\u001b[36mhttps://dvc.org/chat\u001b[39m>\n",
            "- Star us on GitHub: <\u001b[36mhttps://github.com/iterative/dvc\u001b[39m>\n",
            "\u001b[0mSetting 'myremote' as a default remote.\n",
            "\u001b[0mCloning into '10pearls-AQI-Project-'...\n",
            "remote: Enumerating objects: 459, done.\u001b[K\n",
            "remote: Counting objects: 100% (235/235), done.\u001b[K\n",
            "remote: Compressing objects: 100% (144/144), done.\u001b[K\n",
            "remote: Total 459 (delta 114), reused 191 (delta 74), pack-reused 224 (from 1)\u001b[K\n",
            "Receiving objects: 100% (459/459), 5.66 MiB | 12.15 MiB/s, done.\n",
            "Resolving deltas: 100% (222/222), done.\n",
            "/content/10pearls-AQI-Project-\n"
          ]
        }
      ],
      "source": [
        "# Git and DVC setup\n",
        "!git init\n",
        "!dvc init\n",
        "!dvc remote add -d myremote s3://s3-bucket-umairrr\n",
        "\n",
        "!git clone https://github.com/uma1r111/10pearls-AQI-Project-\n",
        "%cd 10pearls-AQI-Project-"
      ]
    },
    {
      "cell_type": "code",
      "execution_count": null,
      "metadata": {
        "colab": {
          "base_uri": "https://localhost:8080/"
        },
        "id": "RL-PfAdny2Tu",
        "outputId": "2165e141-4d91-4041-db20-bad1c02f3480"
      },
      "outputs": [
        {
          "name": "stdout",
          "output_type": "stream",
          "text": [
            "\n",
            "Pulling latest feature_selection.csv from DVC remote (S3)...\n"
          ]
        },
        {
          "data": {
            "text/plain": [
              "CompletedProcess(args=['dvc', 'pull'], returncode=0)"
            ]
          },
          "execution_count": 9,
          "metadata": {},
          "output_type": "execute_result"
        }
      ],
      "source": [
        "#Load and preprocess data\n",
        "print(\"\\nPulling latest feature_selection.csv from DVC remote (S3)...\")\n",
        "os.environ[\"AWS_ACCESS_KEY_ID\"] = \"\"\n",
        "os.environ[\"AWS_SECRET_ACCESS_KEY\"] = \"\"\n",
        "os.environ[\"AWS_DEFAULT_REGION\"] = \"\"\n",
        "subprocess.run([\"dvc\", \"pull\"], check=True)"
      ]
    },
    {
      "cell_type": "code",
      "execution_count": 10,
      "metadata": {
        "colab": {
          "base_uri": "https://localhost:8080/"
        },
        "id": "vVxnOwJ-y2R-",
        "outputId": "587dddf3-bce7-4840-d2bf-4270c4d9148d"
      },
      "outputs": [
        {
          "name": "stdout",
          "output_type": "stream",
          "text": [
            "./requirements.txt\n",
            "./karachi_weather_apr1_to_current.csv\n",
            "./.gitignore\n",
            "./fetch_daily_data.py\n",
            "./README.md\n",
            "./.dvcignore\n",
            "./feature_selection.csv.dvc\n",
            "./feature_selection.csv\n",
            "./full_preprocessed_aqi_weather_data_with_all_features.csv\n",
            "./Data/karachi_weather_jun2025.csv\n",
            "./Data/karachi_weather_apr1_jun14.csv\n",
            "./Data/pollutants info Mar - jul.csv\n",
            "./.git/HEAD\n",
            "./.git/config\n",
            "./.git/packed-refs\n",
            "./.git/index\n",
            "./.git/description\n",
            "./.git/logs/HEAD\n",
            "./.git/logs/refs/heads/main\n",
            "./.git/logs/refs/remotes/origin/HEAD\n",
            "./.git/hooks/post-update.sample\n",
            "./.git/hooks/pre-push.sample\n",
            "./.git/hooks/pre-rebase.sample\n",
            "./.git/hooks/prepare-commit-msg.sample\n",
            "./.git/hooks/fsmonitor-watchman.sample\n",
            "./.git/hooks/applypatch-msg.sample\n",
            "./.git/hooks/pre-commit.sample\n",
            "./.git/hooks/push-to-checkout.sample\n",
            "./.git/hooks/pre-applypatch.sample\n",
            "./.git/hooks/update.sample\n",
            "./.git/hooks/commit-msg.sample\n",
            "./.git/hooks/pre-merge-commit.sample\n",
            "./.git/hooks/pre-receive.sample\n",
            "./.git/refs/heads/main\n",
            "./.git/refs/remotes/origin/HEAD\n",
            "./.git/objects/pack/pack-f3cfd501e4a4699ee5d73606ce8dc7cfcebd660f.idx\n",
            "./.git/objects/pack/pack-f3cfd501e4a4699ee5d73606ce8dc7cfcebd660f.pack\n",
            "./.git/info/exclude\n",
            "./Data Preprocessing/Data_PreProcessing.ipynb\n",
            "./Data Preprocessing/run_preprocessing.py\n",
            "./Data Preprocessing/data_quality_check.py\n",
            "./Model Training/SARIMAX_Optuna.ipynb\n",
            "./Model Training/GRU_Keras_MultiOutput.ipynb\n",
            "./Model Training/TCN_Keras_MultiOutput.ipynb\n",
            "./Model Training/TCN_Optuna_MultiOutput.ipynb\n",
            "./Model Training/LSTM_Optuna_MultiOutput.ipynb\n",
            "./Model Training/LSTM_Keras_MultiOutput.ipynb\n",
            "./Model Training/GRU_Optuna_MultiOutput.ipynb\n",
            "./Data Collection/karachi_weather_jun2025.ipynb\n",
            "./Data Collection/karachi_weather_apr1_jun14.ipynb\n",
            "./Data Collection/pollutants info Apr - Jun.ipynb\n",
            "./Exploratory Visualization Analysis/Exploratory Visualization Analysis.ipynb\n",
            "./Exploratory Visualization Analysis/Exploratory Visualization Analysis.txt\n",
            "./.github/workflows/feature_engineering.yml\n",
            "./.github/workflows/update_data.yml\n",
            "./.github/workflows/feature_selection.yml\n",
            "./.dvc/config\n",
            "./.dvc/.gitignore\n",
            "./.dvc/tmp/lock\n",
            "./.dvc/tmp/btime\n",
            "./.dvc/cache/files/md5/7a/2eecd9e2a6db939cf9f6d466bbbb38\n",
            "./Feature Selection/Feature_Selection.ipynb\n",
            "./Feature Selection/feature_selection.py\n",
            "./Feature Selection/initial_feature_extraction.ipynb\n"
          ]
        }
      ],
      "source": [
        "for root, dirs, files in os.walk(\".\", topdown=True):\n",
        "    for name in files:\n",
        "        print(os.path.join(root, name))"
      ]
    },
    {
      "cell_type": "code",
      "execution_count": 11,
      "metadata": {
        "id": "kxOS064Sy2P6"
      },
      "outputs": [],
      "source": [
        "df = pd.read_csv(\"feature_selection.csv\")"
      ]
    },
    {
      "cell_type": "code",
      "execution_count": 12,
      "metadata": {
        "id": "Eg4TcEbHy2Nj"
      },
      "outputs": [],
      "source": [
        "df['datetime'] = pd.to_datetime(df['datetime'])\n",
        "df = df[(df[\"datetime\"] >= \"2025-04-01\") & (df[\"datetime\"] <= \"2025-07-07\")]\n",
        "df = df.sort_values(\"datetime\")"
      ]
    },
    {
      "cell_type": "code",
      "execution_count": 13,
      "metadata": {
        "id": "0MJqdSqby2Lm"
      },
      "outputs": [],
      "source": [
        "# Prepare target and exogenous features\n",
        "target_col = \"aqi_us\"\n",
        "target = df[target_col]\n",
        "exog_features = df.drop(columns=[\"datetime\", target_col])\n",
        "num_features = exog_features.shape[1]"
      ]
    },
    {
      "cell_type": "code",
      "execution_count": 14,
      "metadata": {
        "colab": {
          "base_uri": "https://localhost:8080/"
        },
        "id": "PXhKjVKHy2Jj",
        "outputId": "b72a519a-4243-4eb5-878a-a93cf26e4ce0"
      },
      "outputs": [
        {
          "name": "stdout",
          "output_type": "stream",
          "text": [
            "0   2025-04-01 00:00:00\n",
            "1   2025-04-01 01:00:00\n",
            "2   2025-04-01 02:00:00\n",
            "3   2025-04-01 03:00:00\n",
            "4   2025-04-01 04:00:00\n",
            "Name: datetime, dtype: datetime64[ns]\n",
            "Filtered Rows: 2329\n"
          ]
        }
      ],
      "source": [
        "print(df[\"datetime\"].head())\n",
        "print(\"Filtered Rows:\", len(df))"
      ]
    },
    {
      "cell_type": "code",
      "execution_count": 15,
      "metadata": {
        "id": "8c1YU9dwy2HW"
      },
      "outputs": [],
      "source": [
        "# Split data\n",
        "train_size = int(len(df) * (1 - VALIDATION_FRACTION))\n",
        "train_target = target.iloc[:train_size]\n",
        "val_target = target.iloc[train_size:]\n",
        "train_exog = exog_features.iloc[:train_size].values\n",
        "val_exog = exog_features.iloc[train_size:].values"
      ]
    },
    {
      "cell_type": "code",
      "execution_count": 16,
      "metadata": {
        "colab": {
          "base_uri": "https://localhost:8080/"
        },
        "id": "kjOrNT2Ky2FJ",
        "outputId": "f4ecf59e-7f06-41f7-811c-2b95034bea8e"
      },
      "outputs": [
        {
          "name": "stderr",
          "output_type": "stream",
          "text": [
            "[I 2025-07-12 22:49:50,888] A new study created in memory with name: no-name-0980ff87-d109-45be-a777-ea8467f8865e\n",
            "/usr/local/lib/python3.11/dist-packages/statsmodels/base/model.py:607: ConvergenceWarning: Maximum Likelihood optimization failed to converge. Check mle_retvals\n",
            "  warnings.warn(\"Maximum Likelihood optimization failed to \"\n",
            "[I 2025-07-12 22:50:36,265] Trial 0 finished with value: 11.602544007016004 and parameters: {'p': 0, 'd': 2, 'q': 1, 'P': 2, 'D': 0, 'Q': 1, 'seasonal_period': 12}. Best is trial 0 with value: 11.602544007016004.\n",
            "/usr/local/lib/python3.11/dist-packages/statsmodels/base/model.py:607: ConvergenceWarning: Maximum Likelihood optimization failed to converge. Check mle_retvals\n",
            "  warnings.warn(\"Maximum Likelihood optimization failed to \"\n",
            "[I 2025-07-12 22:51:40,257] Trial 1 finished with value: 39.782904124372266 and parameters: {'p': 1, 'd': 1, 'q': 2, 'P': 2, 'D': 1, 'Q': 0, 'seasonal_period': 12}. Best is trial 0 with value: 11.602544007016004.\n",
            "/usr/local/lib/python3.11/dist-packages/statsmodels/base/model.py:607: ConvergenceWarning: Maximum Likelihood optimization failed to converge. Check mle_retvals\n",
            "  warnings.warn(\"Maximum Likelihood optimization failed to \"\n",
            "[I 2025-07-12 22:52:04,310] Trial 2 finished with value: 1.878971363985689 and parameters: {'p': 1, 'd': 0, 'q': 2, 'P': 1, 'D': 0, 'Q': 1, 'seasonal_period': 12}. Best is trial 2 with value: 1.878971363985689.\n",
            "/usr/local/lib/python3.11/dist-packages/statsmodels/base/model.py:607: ConvergenceWarning: Maximum Likelihood optimization failed to converge. Check mle_retvals\n",
            "  warnings.warn(\"Maximum Likelihood optimization failed to \"\n",
            "[I 2025-07-12 22:52:21,851] Trial 3 finished with value: 3.5237959932577185 and parameters: {'p': 0, 'd': 0, 'q': 1, 'P': 2, 'D': 1, 'Q': 0, 'seasonal_period': 6}. Best is trial 2 with value: 1.878971363985689.\n",
            "/usr/local/lib/python3.11/dist-packages/statsmodels/base/model.py:607: ConvergenceWarning: Maximum Likelihood optimization failed to converge. Check mle_retvals\n",
            "  warnings.warn(\"Maximum Likelihood optimization failed to \"\n",
            "[I 2025-07-12 22:52:36,478] Trial 4 finished with value: 1.2166769680446112 and parameters: {'p': 0, 'd': 0, 'q': 0, 'P': 2, 'D': 0, 'Q': 2, 'seasonal_period': 6}. Best is trial 4 with value: 1.2166769680446112.\n",
            "/usr/local/lib/python3.11/dist-packages/statsmodels/base/model.py:607: ConvergenceWarning: Maximum Likelihood optimization failed to converge. Check mle_retvals\n",
            "  warnings.warn(\"Maximum Likelihood optimization failed to \"\n",
            "[I 2025-07-12 22:52:45,062] Trial 5 finished with value: 14.017643722408772 and parameters: {'p': 2, 'd': 2, 'q': 2, 'P': 0, 'D': 0, 'Q': 0, 'seasonal_period': 6}. Best is trial 4 with value: 1.2166769680446112.\n",
            "/usr/local/lib/python3.11/dist-packages/statsmodels/base/model.py:607: ConvergenceWarning: Maximum Likelihood optimization failed to converge. Check mle_retvals\n",
            "  warnings.warn(\"Maximum Likelihood optimization failed to \"\n",
            "[I 2025-07-12 22:52:53,086] Trial 6 finished with value: 11.62090847954711 and parameters: {'p': 0, 'd': 1, 'q': 2, 'P': 0, 'D': 0, 'Q': 0, 'seasonal_period': 6}. Best is trial 4 with value: 1.2166769680446112.\n",
            "/usr/local/lib/python3.11/dist-packages/statsmodels/base/model.py:607: ConvergenceWarning: Maximum Likelihood optimization failed to converge. Check mle_retvals\n",
            "  warnings.warn(\"Maximum Likelihood optimization failed to \"\n",
            "[I 2025-07-12 22:53:06,062] Trial 7 finished with value: 1.399162868462162 and parameters: {'p': 0, 'd': 0, 'q': 2, 'P': 2, 'D': 0, 'Q': 0, 'seasonal_period': 6}. Best is trial 4 with value: 1.2166769680446112.\n",
            "/usr/local/lib/python3.11/dist-packages/statsmodels/base/model.py:607: ConvergenceWarning: Maximum Likelihood optimization failed to converge. Check mle_retvals\n",
            "  warnings.warn(\"Maximum Likelihood optimization failed to \"\n",
            "[I 2025-07-12 22:53:12,426] Trial 8 finished with value: 10.810905202083882 and parameters: {'p': 1, 'd': 1, 'q': 1, 'P': 0, 'D': 0, 'Q': 0, 'seasonal_period': 12}. Best is trial 4 with value: 1.2166769680446112.\n",
            "/usr/local/lib/python3.11/dist-packages/statsmodels/base/model.py:607: ConvergenceWarning: Maximum Likelihood optimization failed to converge. Check mle_retvals\n",
            "  warnings.warn(\"Maximum Likelihood optimization failed to \"\n",
            "[I 2025-07-12 22:53:33,682] Trial 9 finished with value: 9.70061260783963 and parameters: {'p': 1, 'd': 2, 'q': 2, 'P': 0, 'D': 0, 'Q': 2, 'seasonal_period': 6}. Best is trial 4 with value: 1.2166769680446112.\n"
          ]
        },
        {
          "name": "stdout",
          "output_type": "stream",
          "text": [
            "Best parameters: {'p': 0, 'd': 0, 'q': 0, 'P': 2, 'D': 0, 'Q': 2, 'seasonal_period': 6}\n"
          ]
        }
      ],
      "source": [
        "# Optuna objective function\n",
        "def optuna_objective(trial):\n",
        "    p = trial.suggest_int(\"p\", 0, 2)  # Narrowed range\n",
        "    d = trial.suggest_int(\"d\", 0, 2)\n",
        "    q = trial.suggest_int(\"q\", 0, 2)\n",
        "    P = trial.suggest_int(\"P\", 0, 2)\n",
        "    D = trial.suggest_int(\"D\", 0, 1)\n",
        "    Q = trial.suggest_int(\"Q\", 0, 2)\n",
        "    seasonal_period = trial.suggest_categorical(\"seasonal_period\", [6, 12])  # Fixed to daily/2-day\n",
        "\n",
        "    model = SARIMAX(endog=train_target,\n",
        "                    exog=train_exog,\n",
        "                    order=(p, d, q),\n",
        "                    seasonal_order=(P, D, Q, seasonal_period),\n",
        "                    enforce_stationarity=False,\n",
        "                    enforce_invertibility=False)\n",
        "    try:\n",
        "        fitted_model = model.fit(disp=0, maxiter=50)  # Reduced iterations\n",
        "        val_preds = fitted_model.forecast(steps=len(val_target), exog=val_exog)\n",
        "        rmse = sqrt(mean_squared_error(val_target, val_preds))\n",
        "        return rmse\n",
        "    except:\n",
        "        return float(\"inf\")\n",
        "\n",
        "# Run optimization with pruning and parallelism\n",
        "study = optuna.create_study(direction=\"minimize\", pruner=MedianPruner(), sampler=optuna.samplers.TPESampler())\n",
        "study.optimize(optuna_objective, n_trials=10)\n",
        "best_params = study.best_params\n",
        "print(\"Best parameters:\", best_params)"
      ]
    },
    {
      "cell_type": "code",
      "execution_count": 17,
      "metadata": {
        "colab": {
          "base_uri": "https://localhost:8080/"
        },
        "id": "a5Bv1p4hy2DE",
        "outputId": "b5a7e0de-fe37-4efa-df7e-abb31b6b8406"
      },
      "outputs": [
        {
          "name": "stderr",
          "output_type": "stream",
          "text": [
            "/usr/local/lib/python3.11/dist-packages/statsmodels/base/model.py:607: ConvergenceWarning: Maximum Likelihood optimization failed to converge. Check mle_retvals\n",
            "  warnings.warn(\"Maximum Likelihood optimization failed to \"\n"
          ]
        },
        {
          "name": "stdout",
          "output_type": "stream",
          "text": [
            "Final RMSE: 1.2166769680446112\n",
            "Final MAE: 0.8268932201478922\n"
          ]
        }
      ],
      "source": [
        "with mlflow.start_run(run_name=\"Final_SARIMAX_Model_Optuna_Optimised\"):\n",
        "    final_model = SARIMAX(endog=train_target,\n",
        "                          exog=train_exog,\n",
        "                          order=(best_params[\"p\"], best_params[\"d\"], best_params[\"q\"]),\n",
        "                          seasonal_order=(best_params[\"P\"], best_params[\"D\"], best_params[\"Q\"], best_params[\"seasonal_period\"]),\n",
        "                          enforce_stationarity=False,\n",
        "                          enforce_invertibility=False)\n",
        "    fitted_model = final_model.fit(disp=0, maxiter=50)\n",
        "\n",
        "    val_preds = fitted_model.forecast(steps=len(val_target), exog=val_exog)\n",
        "    rmse = sqrt(mean_squared_error(val_target, val_preds))\n",
        "    mae = mean_absolute_error(val_target, val_preds)\n",
        "\n",
        "    mlflow.log_params(best_params)\n",
        "    mlflow.log_metric(\"final_rmse\", rmse)\n",
        "    mlflow.log_metric(\"final_mae\", mae)\n",
        "    mlflow.set_tag(\"model_type\", \"SARIMAX_Multivariate\")\n",
        "    mlflow.set_tag(\"tuner\", \"Optuna\")\n",
        "    print(\"Final RMSE:\", rmse)\n",
        "    print(\"Final MAE:\", mae)"
      ]
    },
    {
      "cell_type": "code",
      "execution_count": 18,
      "metadata": {
        "colab": {
          "base_uri": "https://localhost:8080/"
        },
        "id": "mdlabukxy2A-",
        "outputId": "4889b5b8-1f5a-42bd-e713-0eca0c68065c"
      },
      "outputs": [
        {
          "name": "stderr",
          "output_type": "stream",
          "text": [
            "/tmp/ipython-input-18-3702771548.py:6: FutureWarning: 'H' is deprecated and will be removed in a future version, please use 'h' instead.\n",
            "  future_dates = pd.date_range(start=df['datetime'].iloc[-1] + pd.Timedelta(hours=1),\n"
          ]
        }
      ],
      "source": [
        "# Prepare last sequence for forecasting\n",
        "last_exog = exog_features.iloc[-PREDICT_HORIZON:].values  # Last 72 hours of exogenous data\n",
        "\n",
        "# Forecast next 72 hours for AQI\n",
        "future_preds = fitted_model.forecast(steps=PREDICT_HORIZON, exog=last_exog)\n",
        "future_dates = pd.date_range(start=df['datetime'].iloc[-1] + pd.Timedelta(hours=1),\n",
        "                             periods=PREDICT_HORIZON, freq='H')\n",
        "\n",
        "future_df = pd.DataFrame({target_col: future_preds, \"datetime\": future_dates})\n",
        "future_df.to_csv(\"future_AQI_predictions_sarimax_optuna_optimised.csv\", index=False)\n",
        "mlflow.log_artifact(\"future_AQI_predictions_sarimax_optuna_optimised.csv\")"
      ]
    },
    {
      "cell_type": "code",
      "execution_count": 19,
      "metadata": {
        "colab": {
          "base_uri": "https://localhost:8080/",
          "height": 206
        },
        "id": "zw9zplOVy1-l",
        "outputId": "6fc5beb1-28cf-45c1-e0a2-dc601126480a"
      },
      "outputs": [
        {
          "data": {
            "application/vnd.google.colaboratory.intrinsic+json": {
              "summary": "{\n  \"name\": \"future_df\",\n  \"rows\": 72,\n  \"fields\": [\n    {\n      \"column\": \"aqi_us\",\n      \"properties\": {\n        \"dtype\": \"number\",\n        \"std\": 4.6535270381867875,\n        \"min\": 82.8112545763211,\n        \"max\": 99.02448745387247,\n        \"num_unique_values\": 72,\n        \"samples\": [\n          84.26000082729601,\n          88.87187897220849,\n          85.47992194852986\n        ],\n        \"semantic_type\": \"\",\n        \"description\": \"\"\n      }\n    },\n    {\n      \"column\": \"datetime\",\n      \"properties\": {\n        \"dtype\": \"date\",\n        \"min\": \"2025-07-07 01:00:00\",\n        \"max\": \"2025-07-10 00:00:00\",\n        \"num_unique_values\": 72,\n        \"samples\": [\n          \"2025-07-07 05:00:00\",\n          \"2025-07-09 15:00:00\",\n          \"2025-07-07 19:00:00\"\n        ],\n        \"semantic_type\": \"\",\n        \"description\": \"\"\n      }\n    }\n  ]\n}",
              "type": "dataframe",
              "variable_name": "future_df"
            },
            "text/html": [
              "\n",
              "  <div id=\"df-0bed33de-847a-449d-a742-a2f00660cd40\" class=\"colab-df-container\">\n",
              "    <div>\n",
              "<style scoped>\n",
              "    .dataframe tbody tr th:only-of-type {\n",
              "        vertical-align: middle;\n",
              "    }\n",
              "\n",
              "    .dataframe tbody tr th {\n",
              "        vertical-align: top;\n",
              "    }\n",
              "\n",
              "    .dataframe thead th {\n",
              "        text-align: right;\n",
              "    }\n",
              "</style>\n",
              "<table border=\"1\" class=\"dataframe\">\n",
              "  <thead>\n",
              "    <tr style=\"text-align: right;\">\n",
              "      <th></th>\n",
              "      <th>aqi_us</th>\n",
              "      <th>datetime</th>\n",
              "    </tr>\n",
              "  </thead>\n",
              "  <tbody>\n",
              "    <tr>\n",
              "      <th>1863</th>\n",
              "      <td>82.886259</td>\n",
              "      <td>2025-07-07 01:00:00</td>\n",
              "    </tr>\n",
              "    <tr>\n",
              "      <th>1864</th>\n",
              "      <td>82.811255</td>\n",
              "      <td>2025-07-07 02:00:00</td>\n",
              "    </tr>\n",
              "    <tr>\n",
              "      <th>1865</th>\n",
              "      <td>83.849567</td>\n",
              "      <td>2025-07-07 03:00:00</td>\n",
              "    </tr>\n",
              "    <tr>\n",
              "      <th>1866</th>\n",
              "      <td>83.933176</td>\n",
              "      <td>2025-07-07 04:00:00</td>\n",
              "    </tr>\n",
              "    <tr>\n",
              "      <th>1867</th>\n",
              "      <td>84.260001</td>\n",
              "      <td>2025-07-07 05:00:00</td>\n",
              "    </tr>\n",
              "  </tbody>\n",
              "</table>\n",
              "</div>\n",
              "    <div class=\"colab-df-buttons\">\n",
              "\n",
              "  <div class=\"colab-df-container\">\n",
              "    <button class=\"colab-df-convert\" onclick=\"convertToInteractive('df-0bed33de-847a-449d-a742-a2f00660cd40')\"\n",
              "            title=\"Convert this dataframe to an interactive table.\"\n",
              "            style=\"display:none;\">\n",
              "\n",
              "  <svg xmlns=\"http://www.w3.org/2000/svg\" height=\"24px\" viewBox=\"0 -960 960 960\">\n",
              "    <path d=\"M120-120v-720h720v720H120Zm60-500h600v-160H180v160Zm220 220h160v-160H400v160Zm0 220h160v-160H400v160ZM180-400h160v-160H180v160Zm440 0h160v-160H620v160ZM180-180h160v-160H180v160Zm440 0h160v-160H620v160Z\"/>\n",
              "  </svg>\n",
              "    </button>\n",
              "\n",
              "  <style>\n",
              "    .colab-df-container {\n",
              "      display:flex;\n",
              "      gap: 12px;\n",
              "    }\n",
              "\n",
              "    .colab-df-convert {\n",
              "      background-color: #E8F0FE;\n",
              "      border: none;\n",
              "      border-radius: 50%;\n",
              "      cursor: pointer;\n",
              "      display: none;\n",
              "      fill: #1967D2;\n",
              "      height: 32px;\n",
              "      padding: 0 0 0 0;\n",
              "      width: 32px;\n",
              "    }\n",
              "\n",
              "    .colab-df-convert:hover {\n",
              "      background-color: #E2EBFA;\n",
              "      box-shadow: 0px 1px 2px rgba(60, 64, 67, 0.3), 0px 1px 3px 1px rgba(60, 64, 67, 0.15);\n",
              "      fill: #174EA6;\n",
              "    }\n",
              "\n",
              "    .colab-df-buttons div {\n",
              "      margin-bottom: 4px;\n",
              "    }\n",
              "\n",
              "    [theme=dark] .colab-df-convert {\n",
              "      background-color: #3B4455;\n",
              "      fill: #D2E3FC;\n",
              "    }\n",
              "\n",
              "    [theme=dark] .colab-df-convert:hover {\n",
              "      background-color: #434B5C;\n",
              "      box-shadow: 0px 1px 3px 1px rgba(0, 0, 0, 0.15);\n",
              "      filter: drop-shadow(0px 1px 2px rgba(0, 0, 0, 0.3));\n",
              "      fill: #FFFFFF;\n",
              "    }\n",
              "  </style>\n",
              "\n",
              "    <script>\n",
              "      const buttonEl =\n",
              "        document.querySelector('#df-0bed33de-847a-449d-a742-a2f00660cd40 button.colab-df-convert');\n",
              "      buttonEl.style.display =\n",
              "        google.colab.kernel.accessAllowed ? 'block' : 'none';\n",
              "\n",
              "      async function convertToInteractive(key) {\n",
              "        const element = document.querySelector('#df-0bed33de-847a-449d-a742-a2f00660cd40');\n",
              "        const dataTable =\n",
              "          await google.colab.kernel.invokeFunction('convertToInteractive',\n",
              "                                                    [key], {});\n",
              "        if (!dataTable) return;\n",
              "\n",
              "        const docLinkHtml = 'Like what you see? Visit the ' +\n",
              "          '<a target=\"_blank\" href=https://colab.research.google.com/notebooks/data_table.ipynb>data table notebook</a>'\n",
              "          + ' to learn more about interactive tables.';\n",
              "        element.innerHTML = '';\n",
              "        dataTable['output_type'] = 'display_data';\n",
              "        await google.colab.output.renderOutput(dataTable, element);\n",
              "        const docLink = document.createElement('div');\n",
              "        docLink.innerHTML = docLinkHtml;\n",
              "        element.appendChild(docLink);\n",
              "      }\n",
              "    </script>\n",
              "  </div>\n",
              "\n",
              "\n",
              "    <div id=\"df-4149484d-3f6b-4dc6-99cd-4cc29ed1ec0d\">\n",
              "      <button class=\"colab-df-quickchart\" onclick=\"quickchart('df-4149484d-3f6b-4dc6-99cd-4cc29ed1ec0d')\"\n",
              "                title=\"Suggest charts\"\n",
              "                style=\"display:none;\">\n",
              "\n",
              "<svg xmlns=\"http://www.w3.org/2000/svg\" height=\"24px\"viewBox=\"0 0 24 24\"\n",
              "     width=\"24px\">\n",
              "    <g>\n",
              "        <path d=\"M19 3H5c-1.1 0-2 .9-2 2v14c0 1.1.9 2 2 2h14c1.1 0 2-.9 2-2V5c0-1.1-.9-2-2-2zM9 17H7v-7h2v7zm4 0h-2V7h2v10zm4 0h-2v-4h2v4z\"/>\n",
              "    </g>\n",
              "</svg>\n",
              "      </button>\n",
              "\n",
              "<style>\n",
              "  .colab-df-quickchart {\n",
              "      --bg-color: #E8F0FE;\n",
              "      --fill-color: #1967D2;\n",
              "      --hover-bg-color: #E2EBFA;\n",
              "      --hover-fill-color: #174EA6;\n",
              "      --disabled-fill-color: #AAA;\n",
              "      --disabled-bg-color: #DDD;\n",
              "  }\n",
              "\n",
              "  [theme=dark] .colab-df-quickchart {\n",
              "      --bg-color: #3B4455;\n",
              "      --fill-color: #D2E3FC;\n",
              "      --hover-bg-color: #434B5C;\n",
              "      --hover-fill-color: #FFFFFF;\n",
              "      --disabled-bg-color: #3B4455;\n",
              "      --disabled-fill-color: #666;\n",
              "  }\n",
              "\n",
              "  .colab-df-quickchart {\n",
              "    background-color: var(--bg-color);\n",
              "    border: none;\n",
              "    border-radius: 50%;\n",
              "    cursor: pointer;\n",
              "    display: none;\n",
              "    fill: var(--fill-color);\n",
              "    height: 32px;\n",
              "    padding: 0;\n",
              "    width: 32px;\n",
              "  }\n",
              "\n",
              "  .colab-df-quickchart:hover {\n",
              "    background-color: var(--hover-bg-color);\n",
              "    box-shadow: 0 1px 2px rgba(60, 64, 67, 0.3), 0 1px 3px 1px rgba(60, 64, 67, 0.15);\n",
              "    fill: var(--button-hover-fill-color);\n",
              "  }\n",
              "\n",
              "  .colab-df-quickchart-complete:disabled,\n",
              "  .colab-df-quickchart-complete:disabled:hover {\n",
              "    background-color: var(--disabled-bg-color);\n",
              "    fill: var(--disabled-fill-color);\n",
              "    box-shadow: none;\n",
              "  }\n",
              "\n",
              "  .colab-df-spinner {\n",
              "    border: 2px solid var(--fill-color);\n",
              "    border-color: transparent;\n",
              "    border-bottom-color: var(--fill-color);\n",
              "    animation:\n",
              "      spin 1s steps(1) infinite;\n",
              "  }\n",
              "\n",
              "  @keyframes spin {\n",
              "    0% {\n",
              "      border-color: transparent;\n",
              "      border-bottom-color: var(--fill-color);\n",
              "      border-left-color: var(--fill-color);\n",
              "    }\n",
              "    20% {\n",
              "      border-color: transparent;\n",
              "      border-left-color: var(--fill-color);\n",
              "      border-top-color: var(--fill-color);\n",
              "    }\n",
              "    30% {\n",
              "      border-color: transparent;\n",
              "      border-left-color: var(--fill-color);\n",
              "      border-top-color: var(--fill-color);\n",
              "      border-right-color: var(--fill-color);\n",
              "    }\n",
              "    40% {\n",
              "      border-color: transparent;\n",
              "      border-right-color: var(--fill-color);\n",
              "      border-top-color: var(--fill-color);\n",
              "    }\n",
              "    60% {\n",
              "      border-color: transparent;\n",
              "      border-right-color: var(--fill-color);\n",
              "    }\n",
              "    80% {\n",
              "      border-color: transparent;\n",
              "      border-right-color: var(--fill-color);\n",
              "      border-bottom-color: var(--fill-color);\n",
              "    }\n",
              "    90% {\n",
              "      border-color: transparent;\n",
              "      border-bottom-color: var(--fill-color);\n",
              "    }\n",
              "  }\n",
              "</style>\n",
              "\n",
              "      <script>\n",
              "        async function quickchart(key) {\n",
              "          const quickchartButtonEl =\n",
              "            document.querySelector('#' + key + ' button');\n",
              "          quickchartButtonEl.disabled = true;  // To prevent multiple clicks.\n",
              "          quickchartButtonEl.classList.add('colab-df-spinner');\n",
              "          try {\n",
              "            const charts = await google.colab.kernel.invokeFunction(\n",
              "                'suggestCharts', [key], {});\n",
              "          } catch (error) {\n",
              "            console.error('Error during call to suggestCharts:', error);\n",
              "          }\n",
              "          quickchartButtonEl.classList.remove('colab-df-spinner');\n",
              "          quickchartButtonEl.classList.add('colab-df-quickchart-complete');\n",
              "        }\n",
              "        (() => {\n",
              "          let quickchartButtonEl =\n",
              "            document.querySelector('#df-4149484d-3f6b-4dc6-99cd-4cc29ed1ec0d button');\n",
              "          quickchartButtonEl.style.display =\n",
              "            google.colab.kernel.accessAllowed ? 'block' : 'none';\n",
              "        })();\n",
              "      </script>\n",
              "    </div>\n",
              "\n",
              "    </div>\n",
              "  </div>\n"
            ],
            "text/plain": [
              "         aqi_us            datetime\n",
              "1863  82.886259 2025-07-07 01:00:00\n",
              "1864  82.811255 2025-07-07 02:00:00\n",
              "1865  83.849567 2025-07-07 03:00:00\n",
              "1866  83.933176 2025-07-07 04:00:00\n",
              "1867  84.260001 2025-07-07 05:00:00"
            ]
          },
          "execution_count": 19,
          "metadata": {},
          "output_type": "execute_result"
        }
      ],
      "source": [
        "future_df.head()"
      ]
    },
    {
      "cell_type": "code",
      "execution_count": 20,
      "metadata": {
        "colab": {
          "base_uri": "https://localhost:8080/"
        },
        "id": "ArpwccqG3Ew9",
        "outputId": "9ee234a5-8cc6-424a-d961-1ad268889939"
      },
      "outputs": [
        {
          "name": "stdout",
          "output_type": "stream",
          "text": [
            "✅ MLruns backed up (previous experiments preserved)\n",
            "✅ Database backed up\n",
            "🎉 Backup completed!\n"
          ]
        }
      ],
      "source": [
        "# ✅ Simple MLflow Backup - PRESERVES PREVIOUS EXPERIMENTS\n",
        "import shutil\n",
        "import os\n",
        "\n",
        "# Create backup directory\n",
        "os.makedirs(\"/content/drive/MyDrive/mlflow_model_testing\", exist_ok=True)\n",
        "\n",
        "# Backup mlruns directory (preserves previous experiments)\n",
        "if os.path.exists(\"/content/mlruns\"):\n",
        "    # Copy new experiment folders to backup, keeping existing ones\n",
        "    backup_mlruns = \"/content/drive/MyDrive/mlflow_model_testing/mlruns\"\n",
        "    os.makedirs(backup_mlruns, exist_ok=True)\n",
        "\n",
        "    # Copy each experiment folder individually\n",
        "    for item in os.listdir(\"/content/mlruns\"):\n",
        "        src = os.path.join(\"/content/mlruns\", item)\n",
        "        dst = os.path.join(backup_mlruns, item)\n",
        "        if os.path.isdir(src):\n",
        "            if os.path.exists(dst):\n",
        "                shutil.rmtree(dst)  # Only remove this specific experiment\n",
        "            shutil.copytree(src, dst)\n",
        "        else:\n",
        "            shutil.copy2(src, dst)\n",
        "    print(\"✅ MLruns backed up (previous experiments preserved)\")\n",
        "\n",
        "# Backup database (overwrites with latest)\n",
        "if os.path.exists(\"/content/mlflow.db\"):\n",
        "    shutil.copy2(\"/content/mlflow.db\", \"/content/drive/MyDrive/mlflow_model_testing/mlflow.db\")\n",
        "    print(\"✅ Database backed up\")\n",
        "\n",
        "print(\"🎉 Backup completed!\")"
      ]
    }
  ],
  "metadata": {
    "colab": {
      "provenance": []
    },
    "kernelspec": {
      "display_name": "Python 3",
      "name": "python3"
    },
    "language_info": {
      "name": "python"
    }
  },
  "nbformat": 4,
  "nbformat_minor": 0
}
