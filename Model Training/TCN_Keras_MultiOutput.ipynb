{
  "cells": [
    {
      "cell_type": "code",
      "execution_count": 4,
      "metadata": {
        "colab": {
          "base_uri": "https://localhost:8080/"
        },
        "id": "PelIh3Ac32WU",
        "outputId": "908d886a-99ad-49bf-f578-55d75847d210"
      },
      "outputs": [
        {
          "name": "stdout",
          "output_type": "stream",
          "text": [
            "Requirement already satisfied: dvc[s3] in /usr/local/lib/python3.11/dist-packages (3.61.0)\n",
            "Requirement already satisfied: attrs>=22.2.0 in /usr/local/lib/python3.11/dist-packages (from dvc[s3]) (25.3.0)\n",
            "Requirement already satisfied: celery in /usr/local/lib/python3.11/dist-packages (from dvc[s3]) (5.5.3)\n",
            "Requirement already satisfied: colorama>=0.3.9 in /usr/local/lib/python3.11/dist-packages (from dvc[s3]) (0.4.6)\n",
            "Requirement already satisfied: configobj>=5.0.9 in /usr/local/lib/python3.11/dist-packages (from dvc[s3]) (5.0.9)\n",
            "Requirement already satisfied: distro>=1.3 in /usr/local/lib/python3.11/dist-packages (from dvc[s3]) (1.9.0)\n",
            "Requirement already satisfied: dpath<3,>=2.1.0 in /usr/local/lib/python3.11/dist-packages (from dvc[s3]) (2.2.0)\n",
            "Requirement already satisfied: dulwich in /usr/local/lib/python3.11/dist-packages (from dvc[s3]) (0.23.2)\n",
            "Requirement already satisfied: dvc-data<3.17,>=3.16.2 in /usr/local/lib/python3.11/dist-packages (from dvc[s3]) (3.16.10)\n",
            "Requirement already satisfied: dvc-http>=2.29.0 in /usr/local/lib/python3.11/dist-packages (from dvc[s3]) (2.32.0)\n",
            "Requirement already satisfied: dvc-objects in /usr/local/lib/python3.11/dist-packages (from dvc[s3]) (5.1.1)\n",
            "Requirement already satisfied: dvc-render<2,>=1.0.1 in /usr/local/lib/python3.11/dist-packages (from dvc[s3]) (1.0.2)\n",
            "Requirement already satisfied: dvc-studio-client<1,>=0.21 in /usr/local/lib/python3.11/dist-packages (from dvc[s3]) (0.21.0)\n",
            "Requirement already satisfied: dvc-task<1,>=0.3.0 in /usr/local/lib/python3.11/dist-packages (from dvc[s3]) (0.40.2)\n",
            "Requirement already satisfied: flatten_dict<1,>=0.4.1 in /usr/local/lib/python3.11/dist-packages (from dvc[s3]) (0.4.2)\n",
            "Requirement already satisfied: flufl.lock<9,>=8.1.0 in /usr/local/lib/python3.11/dist-packages (from dvc[s3]) (8.2.0)\n",
            "Requirement already satisfied: fsspec>=2024.2.0 in /usr/local/lib/python3.11/dist-packages (from dvc[s3]) (2025.3.2)\n",
            "Requirement already satisfied: funcy>=1.14 in /usr/local/lib/python3.11/dist-packages (from dvc[s3]) (2.0)\n",
            "Requirement already satisfied: grandalf<1,>=0.7 in /usr/local/lib/python3.11/dist-packages (from dvc[s3]) (0.8)\n",
            "Requirement already satisfied: gto<2,>=1.6.0 in /usr/local/lib/python3.11/dist-packages (from dvc[s3]) (1.7.2)\n",
            "Requirement already satisfied: hydra-core>=1.1 in /usr/local/lib/python3.11/dist-packages (from dvc[s3]) (1.3.2)\n",
            "Requirement already satisfied: iterative-telemetry>=0.0.7 in /usr/local/lib/python3.11/dist-packages (from dvc[s3]) (0.0.10)\n",
            "Requirement already satisfied: kombu in /usr/local/lib/python3.11/dist-packages (from dvc[s3]) (5.5.4)\n",
            "Requirement already satisfied: networkx>=2.5 in /usr/local/lib/python3.11/dist-packages (from dvc[s3]) (3.5)\n",
            "Requirement already satisfied: omegaconf in /usr/local/lib/python3.11/dist-packages (from dvc[s3]) (2.3.0)\n",
            "Requirement already satisfied: packaging>=19 in /usr/local/lib/python3.11/dist-packages (from dvc[s3]) (24.2)\n",
            "Requirement already satisfied: pathspec>=0.10.3 in /usr/local/lib/python3.11/dist-packages (from dvc[s3]) (0.12.1)\n",
            "Requirement already satisfied: platformdirs<5,>=3.1.1 in /usr/local/lib/python3.11/dist-packages (from dvc[s3]) (4.3.8)\n",
            "Requirement already satisfied: psutil>=5.8 in /usr/local/lib/python3.11/dist-packages (from dvc[s3]) (5.9.5)\n",
            "Requirement already satisfied: pydot>=1.2.4 in /usr/local/lib/python3.11/dist-packages (from dvc[s3]) (3.0.4)\n",
            "Requirement already satisfied: pygtrie>=2.3.2 in /usr/local/lib/python3.11/dist-packages (from dvc[s3]) (2.5.0)\n",
            "Requirement already satisfied: pyparsing>=2.4.7 in /usr/local/lib/python3.11/dist-packages (from dvc[s3]) (3.2.3)\n",
            "Requirement already satisfied: requests>=2.22 in /usr/local/lib/python3.11/dist-packages (from dvc[s3]) (2.32.3)\n",
            "Requirement already satisfied: rich>=12 in /usr/local/lib/python3.11/dist-packages (from dvc[s3]) (13.9.4)\n",
            "Requirement already satisfied: ruamel.yaml>=0.17.11 in /usr/local/lib/python3.11/dist-packages (from dvc[s3]) (0.18.14)\n",
            "Requirement already satisfied: scmrepo<4,>=3.3.8 in /usr/local/lib/python3.11/dist-packages (from dvc[s3]) (3.3.11)\n",
            "Requirement already satisfied: shortuuid>=0.5 in /usr/local/lib/python3.11/dist-packages (from dvc[s3]) (1.0.13)\n",
            "Requirement already satisfied: shtab<2,>=1.3.4 in /usr/local/lib/python3.11/dist-packages (from dvc[s3]) (1.7.2)\n",
            "Requirement already satisfied: tabulate>=0.8.7 in /usr/local/lib/python3.11/dist-packages (from dvc[s3]) (0.9.0)\n",
            "Requirement already satisfied: tomlkit>=0.11.1 in /usr/local/lib/python3.11/dist-packages (from dvc[s3]) (0.13.3)\n",
            "Requirement already satisfied: tqdm<5,>=4.63.1 in /usr/local/lib/python3.11/dist-packages (from dvc[s3]) (4.67.1)\n",
            "Requirement already satisfied: voluptuous>=0.11.7 in /usr/local/lib/python3.11/dist-packages (from dvc[s3]) (0.15.2)\n",
            "Requirement already satisfied: zc.lockfile>=1.2.1 in /usr/local/lib/python3.11/dist-packages (from dvc[s3]) (3.0.post1)\n",
            "Requirement already satisfied: dvc-s3<4,>=3.2.1 in /usr/local/lib/python3.11/dist-packages (from dvc[s3]) (3.2.2)\n",
            "Requirement already satisfied: dictdiffer>=0.8.1 in /usr/local/lib/python3.11/dist-packages (from dvc-data<3.17,>=3.16.2->dvc[s3]) (0.9.0)\n",
            "Requirement already satisfied: diskcache>=5.2.1 in /usr/local/lib/python3.11/dist-packages (from dvc-data<3.17,>=3.16.2->dvc[s3]) (5.6.3)\n",
            "Requirement already satisfied: sqltrie<1,>=0.11.0 in /usr/local/lib/python3.11/dist-packages (from dvc-data<3.17,>=3.16.2->dvc[s3]) (0.11.2)\n",
            "Requirement already satisfied: orjson<4,>=3 in /usr/local/lib/python3.11/dist-packages (from dvc-data<3.17,>=3.16.2->dvc[s3]) (3.10.18)\n",
            "Requirement already satisfied: aiohttp-retry>=2.5.0 in /usr/local/lib/python3.11/dist-packages (from dvc-http>=2.29.0->dvc[s3]) (2.9.1)\n",
            "Requirement already satisfied: s3fs>=2024.12.0 in /usr/local/lib/python3.11/dist-packages (from dvc-s3<4,>=3.2.1->dvc[s3]) (2025.3.2)\n",
            "Requirement already satisfied: aiobotocore>=2.5.0 in /usr/local/lib/python3.11/dist-packages (from aiobotocore[boto3]>=2.5.0->dvc-s3<4,>=3.2.1->dvc[s3]) (2.23.0)\n",
            "Requirement already satisfied: billiard<5.0,>=4.2.1 in /usr/local/lib/python3.11/dist-packages (from celery->dvc[s3]) (4.2.1)\n",
            "Requirement already satisfied: vine<6.0,>=5.1.0 in /usr/local/lib/python3.11/dist-packages (from celery->dvc[s3]) (5.1.0)\n",
            "Requirement already satisfied: click<9.0,>=8.1.2 in /usr/local/lib/python3.11/dist-packages (from celery->dvc[s3]) (8.2.1)\n",
            "Requirement already satisfied: click-didyoumean>=0.3.0 in /usr/local/lib/python3.11/dist-packages (from celery->dvc[s3]) (0.3.1)\n",
            "Requirement already satisfied: click-repl>=0.2.0 in /usr/local/lib/python3.11/dist-packages (from celery->dvc[s3]) (0.3.0)\n",
            "Requirement already satisfied: click-plugins>=1.1.1 in /usr/local/lib/python3.11/dist-packages (from celery->dvc[s3]) (1.1.1.2)\n",
            "Requirement already satisfied: python-dateutil>=2.8.2 in /usr/local/lib/python3.11/dist-packages (from celery->dvc[s3]) (2.9.0.post0)\n",
            "Requirement already satisfied: six<2.0,>=1.12 in /usr/local/lib/python3.11/dist-packages (from flatten_dict<1,>=0.4.1->dvc[s3]) (1.17.0)\n",
            "Requirement already satisfied: atpublic in /usr/local/lib/python3.11/dist-packages (from flufl.lock<9,>=8.1.0->dvc[s3]) (5.1)\n",
            "Requirement already satisfied: entrypoints in /usr/local/lib/python3.11/dist-packages (from gto<2,>=1.6.0->dvc[s3]) (0.4)\n",
            "Requirement already satisfied: pydantic!=2.0.0,<3,>=1.9.0 in /usr/local/lib/python3.11/dist-packages (from gto<2,>=1.6.0->dvc[s3]) (2.11.7)\n",
            "Requirement already satisfied: semver>=2.13.0 in /usr/local/lib/python3.11/dist-packages (from gto<2,>=1.6.0->dvc[s3]) (3.0.4)\n",
            "Requirement already satisfied: typer>=0.4.1 in /usr/local/lib/python3.11/dist-packages (from gto<2,>=1.6.0->dvc[s3]) (0.16.0)\n",
            "Requirement already satisfied: antlr4-python3-runtime==4.9.* in /usr/local/lib/python3.11/dist-packages (from hydra-core>=1.1->dvc[s3]) (4.9.3)\n",
            "Requirement already satisfied: appdirs in /usr/local/lib/python3.11/dist-packages (from iterative-telemetry>=0.0.7->dvc[s3]) (1.4.4)\n",
            "Requirement already satisfied: filelock in /usr/local/lib/python3.11/dist-packages (from iterative-telemetry>=0.0.7->dvc[s3]) (3.18.0)\n",
            "Requirement already satisfied: amqp<6.0.0,>=5.1.1 in /usr/local/lib/python3.11/dist-packages (from kombu->dvc[s3]) (5.3.1)\n",
            "Requirement already satisfied: tzdata>=2025.2 in /usr/local/lib/python3.11/dist-packages (from kombu->dvc[s3]) (2025.2)\n",
            "Requirement already satisfied: PyYAML>=5.1.0 in /usr/local/lib/python3.11/dist-packages (from omegaconf->dvc[s3]) (6.0.2)\n",
            "Requirement already satisfied: charset-normalizer<4,>=2 in /usr/local/lib/python3.11/dist-packages (from requests>=2.22->dvc[s3]) (3.4.2)\n",
            "Requirement already satisfied: idna<4,>=2.5 in /usr/local/lib/python3.11/dist-packages (from requests>=2.22->dvc[s3]) (3.10)\n",
            "Requirement already satisfied: urllib3<3,>=1.21.1 in /usr/local/lib/python3.11/dist-packages (from requests>=2.22->dvc[s3]) (2.4.0)\n",
            "Requirement already satisfied: certifi>=2017.4.17 in /usr/local/lib/python3.11/dist-packages (from requests>=2.22->dvc[s3]) (2025.6.15)\n",
            "Requirement already satisfied: markdown-it-py>=2.2.0 in /usr/local/lib/python3.11/dist-packages (from rich>=12->dvc[s3]) (3.0.0)\n",
            "Requirement already satisfied: pygments<3.0.0,>=2.13.0 in /usr/local/lib/python3.11/dist-packages (from rich>=12->dvc[s3]) (2.19.2)\n",
            "Requirement already satisfied: ruamel.yaml.clib>=0.2.7 in /usr/local/lib/python3.11/dist-packages (from ruamel.yaml>=0.17.11->dvc[s3]) (0.2.12)\n",
            "Requirement already satisfied: gitpython>3 in /usr/local/lib/python3.11/dist-packages (from scmrepo<4,>=3.3.8->dvc[s3]) (3.1.44)\n",
            "Requirement already satisfied: pygit2>=1.14.0 in /usr/local/lib/python3.11/dist-packages (from scmrepo<4,>=3.3.8->dvc[s3]) (1.18.0)\n",
            "Requirement already satisfied: asyncssh<3,>=2.13.1 in /usr/local/lib/python3.11/dist-packages (from scmrepo<4,>=3.3.8->dvc[s3]) (2.21.0)\n",
            "Requirement already satisfied: setuptools in /usr/local/lib/python3.11/dist-packages (from zc.lockfile>=1.2.1->dvc[s3]) (75.2.0)\n",
            "Requirement already satisfied: aiohttp<4.0.0,>=3.9.2 in /usr/local/lib/python3.11/dist-packages (from aiobotocore>=2.5.0->aiobotocore[boto3]>=2.5.0->dvc-s3<4,>=3.2.1->dvc[s3]) (3.11.15)\n",
            "Requirement already satisfied: aioitertools<1.0.0,>=0.5.1 in /usr/local/lib/python3.11/dist-packages (from aiobotocore>=2.5.0->aiobotocore[boto3]>=2.5.0->dvc-s3<4,>=3.2.1->dvc[s3]) (0.12.0)\n",
            "Requirement already satisfied: botocore<1.38.28,>=1.38.23 in /usr/local/lib/python3.11/dist-packages (from aiobotocore>=2.5.0->aiobotocore[boto3]>=2.5.0->dvc-s3<4,>=3.2.1->dvc[s3]) (1.38.27)\n",
            "Requirement already satisfied: jmespath<2.0.0,>=0.7.1 in /usr/local/lib/python3.11/dist-packages (from aiobotocore>=2.5.0->aiobotocore[boto3]>=2.5.0->dvc-s3<4,>=3.2.1->dvc[s3]) (1.0.1)\n",
            "Requirement already satisfied: multidict<7.0.0,>=6.0.0 in /usr/local/lib/python3.11/dist-packages (from aiobotocore>=2.5.0->aiobotocore[boto3]>=2.5.0->dvc-s3<4,>=3.2.1->dvc[s3]) (6.6.3)\n",
            "Requirement already satisfied: wrapt<2.0.0,>=1.10.10 in /usr/local/lib/python3.11/dist-packages (from aiobotocore>=2.5.0->aiobotocore[boto3]>=2.5.0->dvc-s3<4,>=3.2.1->dvc[s3]) (1.17.2)\n",
            "Requirement already satisfied: boto3<1.38.28,>=1.38.23 in /usr/local/lib/python3.11/dist-packages (from aiobotocore[boto3]>=2.5.0->dvc-s3<4,>=3.2.1->dvc[s3]) (1.38.27)\n",
            "Requirement already satisfied: cryptography>=39.0 in /usr/local/lib/python3.11/dist-packages (from asyncssh<3,>=2.13.1->scmrepo<4,>=3.3.8->dvc[s3]) (43.0.3)\n",
            "Requirement already satisfied: typing_extensions>=4.0.0 in /usr/local/lib/python3.11/dist-packages (from asyncssh<3,>=2.13.1->scmrepo<4,>=3.3.8->dvc[s3]) (4.14.1)\n",
            "Requirement already satisfied: prompt-toolkit>=3.0.36 in /usr/local/lib/python3.11/dist-packages (from click-repl>=0.2.0->celery->dvc[s3]) (3.0.51)\n",
            "Requirement already satisfied: gitdb<5,>=4.0.1 in /usr/local/lib/python3.11/dist-packages (from gitpython>3->scmrepo<4,>=3.3.8->dvc[s3]) (4.0.12)\n",
            "Requirement already satisfied: mdurl~=0.1 in /usr/local/lib/python3.11/dist-packages (from markdown-it-py>=2.2.0->rich>=12->dvc[s3]) (0.1.2)\n",
            "Requirement already satisfied: annotated-types>=0.6.0 in /usr/local/lib/python3.11/dist-packages (from pydantic!=2.0.0,<3,>=1.9.0->gto<2,>=1.6.0->dvc[s3]) (0.7.0)\n",
            "Requirement already satisfied: pydantic-core==2.33.2 in /usr/local/lib/python3.11/dist-packages (from pydantic!=2.0.0,<3,>=1.9.0->gto<2,>=1.6.0->dvc[s3]) (2.33.2)\n",
            "Requirement already satisfied: typing-inspection>=0.4.0 in /usr/local/lib/python3.11/dist-packages (from pydantic!=2.0.0,<3,>=1.9.0->gto<2,>=1.6.0->dvc[s3]) (0.4.1)\n",
            "Requirement already satisfied: cffi>=1.17.0 in /usr/local/lib/python3.11/dist-packages (from pygit2>=1.14.0->scmrepo<4,>=3.3.8->dvc[s3]) (1.17.1)\n",
            "Requirement already satisfied: shellingham>=1.3.0 in /usr/local/lib/python3.11/dist-packages (from typer>=0.4.1->gto<2,>=1.6.0->dvc[s3]) (1.5.4)\n",
            "Requirement already satisfied: aiohappyeyeballs>=2.3.0 in /usr/local/lib/python3.11/dist-packages (from aiohttp<4.0.0,>=3.9.2->aiobotocore>=2.5.0->aiobotocore[boto3]>=2.5.0->dvc-s3<4,>=3.2.1->dvc[s3]) (2.6.1)\n",
            "Requirement already satisfied: aiosignal>=1.1.2 in /usr/local/lib/python3.11/dist-packages (from aiohttp<4.0.0,>=3.9.2->aiobotocore>=2.5.0->aiobotocore[boto3]>=2.5.0->dvc-s3<4,>=3.2.1->dvc[s3]) (1.4.0)\n",
            "Requirement already satisfied: frozenlist>=1.1.1 in /usr/local/lib/python3.11/dist-packages (from aiohttp<4.0.0,>=3.9.2->aiobotocore>=2.5.0->aiobotocore[boto3]>=2.5.0->dvc-s3<4,>=3.2.1->dvc[s3]) (1.7.0)\n",
            "Requirement already satisfied: propcache>=0.2.0 in /usr/local/lib/python3.11/dist-packages (from aiohttp<4.0.0,>=3.9.2->aiobotocore>=2.5.0->aiobotocore[boto3]>=2.5.0->dvc-s3<4,>=3.2.1->dvc[s3]) (0.3.2)\n",
            "Requirement already satisfied: yarl<2.0,>=1.17.0 in /usr/local/lib/python3.11/dist-packages (from aiohttp<4.0.0,>=3.9.2->aiobotocore>=2.5.0->aiobotocore[boto3]>=2.5.0->dvc-s3<4,>=3.2.1->dvc[s3]) (1.20.1)\n",
            "Requirement already satisfied: s3transfer<0.14.0,>=0.13.0 in /usr/local/lib/python3.11/dist-packages (from boto3<1.38.28,>=1.38.23->aiobotocore[boto3]>=2.5.0->dvc-s3<4,>=3.2.1->dvc[s3]) (0.13.0)\n",
            "Requirement already satisfied: pycparser in /usr/local/lib/python3.11/dist-packages (from cffi>=1.17.0->pygit2>=1.14.0->scmrepo<4,>=3.3.8->dvc[s3]) (2.22)\n",
            "Requirement already satisfied: smmap<6,>=3.0.1 in /usr/local/lib/python3.11/dist-packages (from gitdb<5,>=4.0.1->gitpython>3->scmrepo<4,>=3.3.8->dvc[s3]) (5.0.2)\n",
            "Requirement already satisfied: wcwidth in /usr/local/lib/python3.11/dist-packages (from prompt-toolkit>=3.0.36->click-repl>=0.2.0->celery->dvc[s3]) (0.2.13)\n",
            "Reading package lists... Done\n",
            "Building dependency tree... Done\n",
            "Reading state information... Done\n",
            "git is already the newest version (1:2.34.1-1ubuntu1.12).\n",
            "0 upgraded, 0 newly installed, 0 to remove and 35 not upgraded.\n",
            "  Preparing metadata (setup.py) ... \u001b[?25l\u001b[?25hdone\n"
          ]
        }
      ],
      "source": [
        "!pip install mlflow keras-tuner optuna dvc -q\n",
        "!pip install dvc[s3]\n",
        "!apt install git -y\n",
        "!pip install git+https://github.com/philipperemy/keras-tcn.git -q"
      ]
    },
    {
      "cell_type": "code",
      "execution_count": 10,
      "metadata": {
        "id": "lALWd4k34EPS"
      },
      "outputs": [],
      "source": [
        "import pandas as pd\n",
        "import numpy as np\n",
        "import mlflow\n",
        "import mlflow.keras\n",
        "import os\n",
        "import subprocess\n",
        "from tcn import TCN\n",
        "from tensorflow.keras.models import Sequential\n",
        "from tensorflow.keras.layers import Dense\n",
        "from tensorflow.keras.callbacks import EarlyStopping\n",
        "from sklearn.metrics import mean_squared_error, mean_absolute_error\n",
        "from math import sqrt\n",
        "from sklearn.model_selection import train_test_split\n",
        "import keras_tuner as kt\n",
        "from tensorflow.keras.optimizers import Adam"
      ]
    },
    {
      "cell_type": "code",
      "execution_count": null,
      "metadata": {
        "id": "vAGaX6bU4WV2"
      },
      "outputs": [],
      "source": [
        "MLFLOW_TRACKING_URI = \"\"\n",
        "EXPERIMENT_NAME = \"AQI hyperparameter & model testing (Manual)\"\n",
        "WINDOW_SIZE = 24\n",
        "PREDICT_HORIZON = 72  # Predict next 3 days = 72 hours"
      ]
    },
    {
      "cell_type": "code",
      "execution_count": 7,
      "metadata": {
        "colab": {
          "base_uri": "https://localhost:8080/"
        },
        "id": "uWIlP6vn4YGq",
        "outputId": "6f217ca5-f1f2-4606-fc21-f2d0410e14e0"
      },
      "outputs": [
        {
          "data": {
            "text/plain": [
              "<Experiment: artifact_location='/home/umair/mlruns/3', creation_time=1752022350617, experiment_id='3', last_update_time=1752022350617, lifecycle_stage='active', name='AQI hyperparameter & model testing (Manual)', tags={}>"
            ]
          },
          "execution_count": 7,
          "metadata": {},
          "output_type": "execute_result"
        }
      ],
      "source": [
        "mlflow.set_tracking_uri(MLFLOW_TRACKING_URI)\n",
        "mlflow.set_experiment(EXPERIMENT_NAME)"
      ]
    },
    {
      "cell_type": "code",
      "execution_count": 8,
      "metadata": {
        "colab": {
          "base_uri": "https://localhost:8080/"
        },
        "id": "TujHp3-I4aDL",
        "outputId": "307bc124-5bc2-4b61-c00a-1a07032de980"
      },
      "outputs": [
        {
          "name": "stdout",
          "output_type": "stream",
          "text": [
            "\u001b[33mhint: Using 'master' as the name for the initial branch. This default branch name\u001b[m\n",
            "\u001b[33mhint: is subject to change. To configure the initial branch name to use in all\u001b[m\n",
            "\u001b[33mhint: of your new repositories, which will suppress this warning, call:\u001b[m\n",
            "\u001b[33mhint: \u001b[m\n",
            "\u001b[33mhint: \tgit config --global init.defaultBranch <name>\u001b[m\n",
            "\u001b[33mhint: \u001b[m\n",
            "\u001b[33mhint: Names commonly chosen instead of 'master' are 'main', 'trunk' and\u001b[m\n",
            "\u001b[33mhint: 'development'. The just-created branch can be renamed via this command:\u001b[m\n",
            "\u001b[33mhint: \u001b[m\n",
            "\u001b[33mhint: \tgit branch -m <name>\u001b[m\n",
            "Initialized empty Git repository in /content/.git/\n",
            "Initialized DVC repository.\n",
            "\n",
            "You can now commit the changes to git.\n",
            "\n",
            "\u001b[31m+---------------------------------------------------------------------+\n",
            "\u001b[0m\u001b[31m|\u001b[0m                                                                     \u001b[31m|\u001b[0m\n",
            "\u001b[31m|\u001b[0m        DVC has enabled anonymous aggregate usage analytics.         \u001b[31m|\u001b[0m\n",
            "\u001b[31m|\u001b[0m     Read the analytics documentation (and how to opt-out) here:     \u001b[31m|\u001b[0m\n",
            "\u001b[31m|\u001b[0m             <\u001b[36mhttps://dvc.org/doc/user-guide/analytics\u001b[39m>              \u001b[31m|\u001b[0m\n",
            "\u001b[31m|\u001b[0m                                                                     \u001b[31m|\u001b[0m\n",
            "\u001b[31m+---------------------------------------------------------------------+\n",
            "\u001b[0m\n",
            "\u001b[33mWhat's next?\u001b[39m\n",
            "\u001b[33m------------\u001b[39m\n",
            "- Check out the documentation: <\u001b[36mhttps://dvc.org/doc\u001b[39m>\n",
            "- Get help and share ideas: <\u001b[36mhttps://dvc.org/chat\u001b[39m>\n",
            "- Star us on GitHub: <\u001b[36mhttps://github.com/iterative/dvc\u001b[39m>\n",
            "\u001b[0mSetting 'myremote' as a default remote.\n",
            "\u001b[0m"
          ]
        }
      ],
      "source": [
        "!git init\n",
        "!dvc init\n",
        "!dvc remote add -d myremote s3://s3-bucket-umairrr"
      ]
    },
    {
      "cell_type": "code",
      "execution_count": 9,
      "metadata": {
        "colab": {
          "base_uri": "https://localhost:8080/"
        },
        "id": "G76KsStw4cGf",
        "outputId": "b30784b1-84f3-43e4-85fd-0964a17a04ff"
      },
      "outputs": [
        {
          "name": "stdout",
          "output_type": "stream",
          "text": [
            "Cloning into '10pearls-AQI-Project-'...\n",
            "remote: Enumerating objects: 410, done.\u001b[K\n",
            "remote: Counting objects: 100% (186/186), done.\u001b[K\n",
            "remote: Compressing objects: 100% (119/119), done.\u001b[K\n",
            "remote: Total 410 (delta 84), reused 148 (delta 50), pack-reused 224 (from 1)\u001b[K\n",
            "Receiving objects: 100% (410/410), 5.60 MiB | 22.50 MiB/s, done.\n",
            "Resolving deltas: 100% (192/192), done.\n",
            "/content/10pearls-AQI-Project-\n"
          ]
        }
      ],
      "source": [
        "!git clone https://github.com/uma1r111/10pearls-AQI-Project-\n",
        "%cd 10pearls-AQI-Project-"
      ]
    },
    {
      "cell_type": "code",
      "execution_count": null,
      "metadata": {
        "colab": {
          "base_uri": "https://localhost:8080/"
        },
        "id": "fk1HKUz34d4k",
        "outputId": "1e9e80fd-b560-45e8-b77a-ac55dad95e10"
      },
      "outputs": [
        {
          "name": "stdout",
          "output_type": "stream",
          "text": [
            "\n",
            "Pulling latest feature_selection.csv from DVC remote (S3)...\n"
          ]
        },
        {
          "data": {
            "text/plain": [
              "CompletedProcess(args=['dvc', 'pull'], returncode=0)"
            ]
          },
          "execution_count": 11,
          "metadata": {},
          "output_type": "execute_result"
        }
      ],
      "source": [
        "# Load and preprocess data\n",
        "print(\"\\nPulling latest feature_selection.csv from DVC remote (S3)...\")\n",
        "os.environ[\"AWS_ACCESS_KEY_ID\"] = \"\"\n",
        "os.environ[\"AWS_SECRET_ACCESS_KEY\"] = \"\"\n",
        "os.environ[\"AWS_DEFAULT_REGION\"] = \"\"\n",
        "subprocess.run([\"dvc\", \"pull\"], check=True)"
      ]
    },
    {
      "cell_type": "code",
      "execution_count": 12,
      "metadata": {
        "colab": {
          "base_uri": "https://localhost:8080/"
        },
        "id": "FpEhHO-f4f14",
        "outputId": "e5f1c875-961c-44ff-f0de-ecce61d7505b"
      },
      "outputs": [
        {
          "name": "stdout",
          "output_type": "stream",
          "text": [
            "./README.md\n",
            "./.dvcignore\n",
            "./requirements.txt\n",
            "./.gitignore\n",
            "./full_preprocessed_aqi_weather_data_with_all_features.csv\n",
            "./karachi_weather_apr1_to_current.csv\n",
            "./fetch_daily_data.py\n",
            "./feature_selection.csv.dvc\n",
            "./feature_selection.csv\n",
            "./Exploratory Visualization Analysis/Exploratory Visualization Analysis.ipynb\n",
            "./Exploratory Visualization Analysis/Exploratory Visualization Analysis.txt\n",
            "./.dvc/config\n",
            "./.dvc/.gitignore\n",
            "./.dvc/cache/files/md5/a3/42be088d6bbebcb8002a166df6f909\n",
            "./.dvc/tmp/btime\n",
            "./.dvc/tmp/lock\n",
            "./Data Preprocessing/Data_PreProcessing.ipynb\n",
            "./Data Preprocessing/data_quality_check.py\n",
            "./Data Preprocessing/run_preprocessing.py\n",
            "./Data Collection/karachi_weather_jun2025.ipynb\n",
            "./Data Collection/pollutants info Apr - Jun.ipynb\n",
            "./Data Collection/karachi_weather_apr1_jun14.ipynb\n",
            "./.github/workflows/feature_engineering.yml\n",
            "./.github/workflows/feature_selection.yml\n",
            "./.github/workflows/update_data.yml\n",
            "./Feature Selection/initial_feature_extraction.ipynb\n",
            "./Feature Selection/feature_selection.py\n",
            "./Feature Selection/Feature_Selection.ipynb\n",
            "./.git/description\n",
            "./.git/config\n",
            "./.git/packed-refs\n",
            "./.git/index\n",
            "./.git/HEAD\n",
            "./.git/info/exclude\n",
            "./.git/objects/pack/pack-58bfe9bd99ad42f35158748c68bf2300eab7a844.idx\n",
            "./.git/objects/pack/pack-58bfe9bd99ad42f35158748c68bf2300eab7a844.pack\n",
            "./.git/refs/remotes/origin/HEAD\n",
            "./.git/refs/heads/main\n",
            "./.git/logs/HEAD\n",
            "./.git/logs/refs/remotes/origin/HEAD\n",
            "./.git/logs/refs/heads/main\n",
            "./.git/hooks/pre-receive.sample\n",
            "./.git/hooks/applypatch-msg.sample\n",
            "./.git/hooks/post-update.sample\n",
            "./.git/hooks/pre-push.sample\n",
            "./.git/hooks/pre-merge-commit.sample\n",
            "./.git/hooks/push-to-checkout.sample\n",
            "./.git/hooks/update.sample\n",
            "./.git/hooks/pre-rebase.sample\n",
            "./.git/hooks/pre-applypatch.sample\n",
            "./.git/hooks/commit-msg.sample\n",
            "./.git/hooks/fsmonitor-watchman.sample\n",
            "./.git/hooks/pre-commit.sample\n",
            "./.git/hooks/prepare-commit-msg.sample\n",
            "./Data/karachi_weather_jun2025.csv\n",
            "./Data/pollutants info Mar - jul.csv\n",
            "./Data/karachi_weather_apr1_jun14.csv\n"
          ]
        }
      ],
      "source": [
        "for root, dirs, files in os.walk(\".\", topdown=True):\n",
        "    for name in files:\n",
        "        print(os.path.join(root, name))"
      ]
    },
    {
      "cell_type": "code",
      "execution_count": 13,
      "metadata": {
        "id": "Bn-T-OQc4h-Z"
      },
      "outputs": [],
      "source": [
        "df = pd.read_csv(\"feature_selection.csv\")"
      ]
    },
    {
      "cell_type": "code",
      "execution_count": 14,
      "metadata": {
        "id": "VK-grguM6Lj8"
      },
      "outputs": [],
      "source": [
        "df['datetime'] = pd.to_datetime(df['datetime'])\n",
        "df = df[(df[\"datetime\"] >= \"2025-04-01\") & (df[\"datetime\"] <= \"2025-07-07\")]\n",
        "df = df.sort_values(\"datetime\")\n",
        "\n",
        "features = df.drop(columns=[\"datetime\"])\n",
        "num_features = features.shape[1]  # total features including AQI"
      ]
    },
    {
      "cell_type": "code",
      "execution_count": 15,
      "metadata": {
        "colab": {
          "base_uri": "https://localhost:8080/"
        },
        "id": "tuHJML9m6O_k",
        "outputId": "b6936042-63b4-404e-b1b4-9960bfa00a59"
      },
      "outputs": [
        {
          "name": "stdout",
          "output_type": "stream",
          "text": [
            "0   2025-04-01 00:00:00\n",
            "1   2025-04-01 01:00:00\n",
            "2   2025-04-01 02:00:00\n",
            "3   2025-04-01 03:00:00\n",
            "4   2025-04-01 04:00:00\n",
            "Name: datetime, dtype: datetime64[ns]\n",
            "Filtered Rows: 2329\n"
          ]
        }
      ],
      "source": [
        "print(df[\"datetime\"].head())\n",
        "print(\"Filtered Rows:\", len(df))"
      ]
    },
    {
      "cell_type": "markdown",
      "metadata": {
        "id": "1F7l04jq6Sel"
      },
      "source": [
        "# **Sequence Building for Walk forward Validation**"
      ]
    },
    {
      "cell_type": "code",
      "execution_count": 16,
      "metadata": {
        "id": "urk4aXKG6UHS"
      },
      "outputs": [],
      "source": [
        "def create_sequences(X, window_size, horizon):\n",
        "    Xs, ys = [], []\n",
        "    for i in range(len(X) - window_size - horizon):\n",
        "        Xs.append(X[i:(i + window_size)].values)\n",
        "        ys.append(X[(i + window_size):(i + window_size + horizon)].values)\n",
        "    return np.array(Xs), np.array(ys)\n",
        "\n",
        "X_seq, y_seq = create_sequences(features, WINDOW_SIZE, PREDICT_HORIZON)\n",
        "X_train, X_val, y_train, y_val = train_test_split(X_seq, y_seq, test_size=0.2, shuffle=False)"
      ]
    },
    {
      "cell_type": "code",
      "execution_count": 17,
      "metadata": {
        "colab": {
          "base_uri": "https://localhost:8080/"
        },
        "id": "6XGVP1fN6Y2A",
        "outputId": "5cf133cb-7abc-4096-9d64-8e8f9ff9fc7d"
      },
      "outputs": [
        {
          "name": "stdout",
          "output_type": "stream",
          "text": [
            "Total Samples: 2329\n",
            "X_seq shape: (2233, 24, 13)\n",
            "y_seq shape: (2233, 72, 13)\n"
          ]
        }
      ],
      "source": [
        "print(\"Total Samples:\", len(features))\n",
        "print(\"X_seq shape:\", X_seq.shape)\n",
        "print(\"y_seq shape:\", y_seq.shape)"
      ]
    },
    {
      "cell_type": "markdown",
      "metadata": {
        "id": "8a6taWxv6eIs"
      },
      "source": [
        "# **Keras Hyperparameter Tuning**"
      ]
    },
    {
      "cell_type": "code",
      "execution_count": 18,
      "metadata": {
        "colab": {
          "base_uri": "https://localhost:8080/"
        },
        "id": "KQgPhoHU6hMm",
        "outputId": "bf2069c1-30cd-45d6-d05f-37653a366229"
      },
      "outputs": [
        {
          "name": "stderr",
          "output_type": "stream",
          "text": [
            "/usr/local/lib/python3.11/dist-packages/tcn/tcn.py:268: UserWarning: Do not pass an `input_shape`/`input_dim` argument to a layer. When using Sequential models, prefer using an `Input(shape)` object as the first layer in the model instead.\n",
            "  super(TCN, self).__init__(**kwargs)\n",
            "/usr/local/lib/python3.11/dist-packages/tcn/tcn.py:268: UserWarning: Do not pass an `input_shape`/`input_dim` argument to a layer. When using Sequential models, prefer using an `Input(shape)` object as the first layer in the model instead.\n",
            "  super(TCN, self).__init__(**kwargs)\n",
            "/usr/local/lib/python3.11/dist-packages/keras/src/saving/saving_lib.py:757: UserWarning: Skipping variable loading for optimizer 'adam', because it has 2 variables whereas the saved optimizer has 42 variables. \n",
            "  saveable.load_own_variables(weights_store.get(inner_path))\n"
          ]
        },
        {
          "name": "stdout",
          "output_type": "stream",
          "text": [
            "\u001b[1m14/14\u001b[0m \u001b[32m━━━━━━━━━━━━━━━━━━━━\u001b[0m\u001b[37m\u001b[0m \u001b[1m1s\u001b[0m 42ms/step\n",
            "Best TCN RMSE: 6.08134501169222\n",
            "Best hyperparameters: {'nb_filters': 128, 'kernel_size': 4, 'nb_stacks': 1, 'activation': 'relu', 'dropout_rate': 0.30000000000000004, 'learning_rate': 0.0009243894680341854}\n",
            "🏃 View run Best_TCN_Keras_Hyperparams at: http://172.174.154.85:8000/#/experiments/3/runs/5d8f7024a81a43068387921c951472f3\n",
            "🧪 View experiment at: http://172.174.154.85:8000/#/experiments/3\n"
          ]
        }
      ],
      "source": [
        "def build_tcn_model(hp):\n",
        "    model = Sequential()\n",
        "    model.add(TCN(\n",
        "        input_shape=(X_train.shape[1], X_train.shape[2]),\n",
        "        nb_filters=hp.Int('nb_filters', 32, 128, step=32),\n",
        "        kernel_size=hp.Choice('kernel_size', [2, 3, 4]),\n",
        "        nb_stacks=hp.Int('nb_stacks', 1, 3),\n",
        "        dilations=[1, 2, 4, 8],\n",
        "        activation=hp.Choice(\"activation\", [\"relu\", \"tanh\"]),\n",
        "        dropout_rate=hp.Float(\"dropout_rate\", 0.1, 0.4, step=0.1),\n",
        "        use_skip_connections=True\n",
        "    ))\n",
        "    model.add(Dense(PREDICT_HORIZON * num_features))\n",
        "    model.compile(\n",
        "        optimizer=Adam(learning_rate=hp.Float('learning_rate', 1e-5, 1e-2, sampling='log')),\n",
        "        loss='mse'\n",
        "    )\n",
        "    return model\n",
        "\n",
        "tuner = kt.RandomSearch(\n",
        "    build_tcn_model,\n",
        "    objective=\"val_loss\",\n",
        "    max_trials=20,\n",
        "    executions_per_trial=1,\n",
        "    directory=\"tcn_tuner\",\n",
        "    project_name=\"aqi_tcn_tuning\"\n",
        ")\n",
        "\n",
        "with mlflow.start_run(run_name=\"Best_TCN_Keras_Hyperparams\"):\n",
        "    tuner.search(\n",
        "        X_train, y_train.reshape(y_train.shape[0], -1),\n",
        "        validation_data=(X_val, y_val.reshape(y_val.shape[0], -1)),\n",
        "        epochs=50,\n",
        "        batch_size=32,\n",
        "        callbacks=[EarlyStopping(patience=5)],\n",
        "        verbose=0\n",
        "    )\n",
        "    best_hps = tuner.get_best_hyperparameters(1)[0]\n",
        "    mlflow.log_params(best_hps.values)\n",
        "    best_model = tuner.get_best_models(1)[0]\n",
        "    preds = best_model.predict(X_val).reshape(y_val.shape)\n",
        "    rmse = sqrt(mean_squared_error(y_val.flatten(), preds.flatten()))\n",
        "    mlflow.log_metric(\"val_rmse\", rmse)\n",
        "    print(\"Best TCN RMSE:\", rmse)\n",
        "\n",
        "    print(\"Best hyperparameters:\", best_hps.values)\n",
        "    mlflow.log_metric(\"best_rmse\", rmse)\n"
      ]
    },
    {
      "cell_type": "markdown",
      "metadata": {
        "id": "kpI51xob9VpV"
      },
      "source": [
        "# **TCN Model Fit**"
      ]
    },
    {
      "cell_type": "code",
      "execution_count": 19,
      "metadata": {
        "colab": {
          "base_uri": "https://localhost:8080/"
        },
        "id": "FP6BwkdI8ghj",
        "outputId": "7ec5c79b-9090-4ea8-ad6b-5a6ea3b54633"
      },
      "outputs": [
        {
          "name": "stdout",
          "output_type": "stream",
          "text": [
            "Epoch 1/50\n"
          ]
        },
        {
          "name": "stderr",
          "output_type": "stream",
          "text": [
            "/usr/local/lib/python3.11/dist-packages/tcn/tcn.py:268: UserWarning: Do not pass an `input_shape`/`input_dim` argument to a layer. When using Sequential models, prefer using an `Input(shape)` object as the first layer in the model instead.\n",
            "  super(TCN, self).__init__(**kwargs)\n"
          ]
        },
        {
          "name": "stdout",
          "output_type": "stream",
          "text": [
            "\u001b[1m56/56\u001b[0m \u001b[32m━━━━━━━━━━━━━━━━━━━━\u001b[0m\u001b[37m\u001b[0m \u001b[1m10s\u001b[0m 87ms/step - loss: 4962.4985 - val_loss: 158.2843\n",
            "Epoch 2/50\n",
            "\u001b[1m56/56\u001b[0m \u001b[32m━━━━━━━━━━━━━━━━━━━━\u001b[0m\u001b[37m\u001b[0m \u001b[1m5s\u001b[0m 93ms/step - loss: 310.7373 - val_loss: 104.7337\n",
            "Epoch 3/50\n",
            "\u001b[1m56/56\u001b[0m \u001b[32m━━━━━━━━━━━━━━━━━━━━\u001b[0m\u001b[37m\u001b[0m \u001b[1m10s\u001b[0m 80ms/step - loss: 209.1150 - val_loss: 59.0348\n",
            "Epoch 4/50\n",
            "\u001b[1m56/56\u001b[0m \u001b[32m━━━━━━━━━━━━━━━━━━━━\u001b[0m\u001b[37m\u001b[0m \u001b[1m6s\u001b[0m 102ms/step - loss: 161.9523 - val_loss: 53.2892\n",
            "Epoch 5/50\n",
            "\u001b[1m56/56\u001b[0m \u001b[32m━━━━━━━━━━━━━━━━━━━━\u001b[0m\u001b[37m\u001b[0m \u001b[1m4s\u001b[0m 80ms/step - loss: 141.0963 - val_loss: 79.3271\n",
            "Epoch 6/50\n",
            "\u001b[1m56/56\u001b[0m \u001b[32m━━━━━━━━━━━━━━━━━━━━\u001b[0m\u001b[37m\u001b[0m \u001b[1m6s\u001b[0m 94ms/step - loss: 132.1711 - val_loss: 49.1738\n",
            "Epoch 7/50\n",
            "\u001b[1m56/56\u001b[0m \u001b[32m━━━━━━━━━━━━━━━━━━━━\u001b[0m\u001b[37m\u001b[0m \u001b[1m5s\u001b[0m 87ms/step - loss: 133.4793 - val_loss: 53.3091\n",
            "Epoch 8/50\n",
            "\u001b[1m56/56\u001b[0m \u001b[32m━━━━━━━━━━━━━━━━━━━━\u001b[0m\u001b[37m\u001b[0m \u001b[1m5s\u001b[0m 79ms/step - loss: 112.6213 - val_loss: 45.9514\n",
            "Epoch 9/50\n",
            "\u001b[1m56/56\u001b[0m \u001b[32m━━━━━━━━━━━━━━━━━━━━\u001b[0m\u001b[37m\u001b[0m \u001b[1m6s\u001b[0m 102ms/step - loss: 101.5414 - val_loss: 45.9160\n",
            "Epoch 10/50\n",
            "\u001b[1m56/56\u001b[0m \u001b[32m━━━━━━━━━━━━━━━━━━━━\u001b[0m\u001b[37m\u001b[0m \u001b[1m4s\u001b[0m 79ms/step - loss: 103.0642 - val_loss: 46.6122\n",
            "Epoch 11/50\n",
            "\u001b[1m56/56\u001b[0m \u001b[32m━━━━━━━━━━━━━━━━━━━━\u001b[0m\u001b[37m\u001b[0m \u001b[1m5s\u001b[0m 80ms/step - loss: 101.9168 - val_loss: 45.8105\n",
            "Epoch 12/50\n",
            "\u001b[1m56/56\u001b[0m \u001b[32m━━━━━━━━━━━━━━━━━━━━\u001b[0m\u001b[37m\u001b[0m \u001b[1m6s\u001b[0m 99ms/step - loss: 101.0226 - val_loss: 49.2818\n",
            "Epoch 13/50\n",
            "\u001b[1m56/56\u001b[0m \u001b[32m━━━━━━━━━━━━━━━━━━━━\u001b[0m\u001b[37m\u001b[0m \u001b[1m4s\u001b[0m 80ms/step - loss: 108.7195 - val_loss: 42.9712\n",
            "Epoch 14/50\n",
            "\u001b[1m56/56\u001b[0m \u001b[32m━━━━━━━━━━━━━━━━━━━━\u001b[0m\u001b[37m\u001b[0m \u001b[1m6s\u001b[0m 101ms/step - loss: 102.7243 - val_loss: 44.4707\n",
            "Epoch 15/50\n",
            "\u001b[1m56/56\u001b[0m \u001b[32m━━━━━━━━━━━━━━━━━━━━\u001b[0m\u001b[37m\u001b[0m \u001b[1m4s\u001b[0m 79ms/step - loss: 97.4759 - val_loss: 43.4002\n",
            "Epoch 16/50\n",
            "\u001b[1m56/56\u001b[0m \u001b[32m━━━━━━━━━━━━━━━━━━━━\u001b[0m\u001b[37m\u001b[0m \u001b[1m4s\u001b[0m 79ms/step - loss: 96.5123 - val_loss: 46.2114\n",
            "Epoch 17/50\n",
            "\u001b[1m56/56\u001b[0m \u001b[32m━━━━━━━━━━━━━━━━━━━━\u001b[0m\u001b[37m\u001b[0m \u001b[1m6s\u001b[0m 101ms/step - loss: 99.5375 - val_loss: 45.2684\n",
            "Epoch 18/50\n",
            "\u001b[1m56/56\u001b[0m \u001b[32m━━━━━━━━━━━━━━━━━━━━\u001b[0m\u001b[37m\u001b[0m \u001b[1m4s\u001b[0m 80ms/step - loss: 105.6193 - val_loss: 44.4487\n",
            "\u001b[1m14/14\u001b[0m \u001b[32m━━━━━━━━━━━━━━━━━━━━\u001b[0m\u001b[37m\u001b[0m \u001b[1m1s\u001b[0m 43ms/step\n"
          ]
        },
        {
          "name": "stderr",
          "output_type": "stream",
          "text": [
            "2025/07/10 11:44:47 WARNING mlflow.models.model: `artifact_path` is deprecated. Please use `name` instead.\n",
            "2025/07/10 11:44:47 WARNING mlflow.keras.save: You are saving a Keras model without specifying model signature.\n",
            "\u001b[31m2025/07/10 11:44:58 WARNING mlflow.models.model: Model logged without a signature and input example. Please set `input_example` parameter when logging the model to auto infer the model signature.\u001b[0m\n"
          ]
        },
        {
          "name": "stdout",
          "output_type": "stream",
          "text": [
            "🏃 View run Final_TCN_Model_Keras at: http://172.174.154.85:8000/#/experiments/3/runs/64150fd605134870a10295465f398445\n",
            "🧪 View experiment at: http://172.174.154.85:8000/#/experiments/3\n"
          ]
        }
      ],
      "source": [
        "with mlflow.start_run(run_name=\"Final_TCN_Model_Keras\"):\n",
        "    model = build_tcn_model(best_hps)\n",
        "    model.fit(\n",
        "        X_train, y_train.reshape(y_train.shape[0], -1),\n",
        "        validation_data=(X_val, y_val.reshape(y_val.shape[0], -1)),\n",
        "        epochs=best_hps[\"epochs\"] if \"epochs\" in best_hps.values else 50,\n",
        "        batch_size=32,\n",
        "        callbacks=[EarlyStopping(patience=5, restore_best_weights=True)],\n",
        "        verbose=1\n",
        "    )\n",
        "\n",
        "    # Evaluation\n",
        "    preds = model.predict(X_val).reshape(y_val.shape)\n",
        "    rmse = sqrt(mean_squared_error(y_val.flatten(), preds.flatten()))\n",
        "    mae = mean_absolute_error(y_val.flatten(), preds.flatten())\n",
        "\n",
        "    mlflow.log_params(best_hps.values)\n",
        "    mlflow.log_metric(\"final_rmse\", rmse)\n",
        "    mlflow.log_metric(\"final_mae\", mae)\n",
        "    mlflow.set_tag(\"model_type\", \"TCN_MultiOutput\")\n",
        "    mlflow.set_tag(\"tuner\", \"Keras_Tuner\")\n",
        "    mlflow.set_tag(\"train_start\", \"2025-04-01\")\n",
        "    mlflow.set_tag(\"train_end\", \"2025-07-07\")\n",
        "    mlflow.keras.log_model(model, artifact_path=\"model\")\n"
      ]
    },
    {
      "cell_type": "markdown",
      "metadata": {
        "id": "g2k8qolo9aym"
      },
      "source": [
        "# **Predictions**"
      ]
    },
    {
      "cell_type": "code",
      "execution_count": 20,
      "metadata": {
        "colab": {
          "base_uri": "https://localhost:8080/"
        },
        "id": "H17IiNhW9c-_",
        "outputId": "1d1d421e-4fce-4a7e-8f4f-0b89352a724d"
      },
      "outputs": [
        {
          "name": "stdout",
          "output_type": "stream",
          "text": [
            "\u001b[1m1/1\u001b[0m \u001b[32m━━━━━━━━━━━━━━━━━━━━\u001b[0m\u001b[37m\u001b[0m \u001b[1m0s\u001b[0m 49ms/step\n",
            "✅ TCN model training complete. Predictions logged to MLflow.\n",
            "   aqi_us_lag1  aqi_us_lag12  aqi_us_lag24      pm2_5  log_pm10  \\\n",
            "0    87.116890     88.207314     89.619804  29.181417  4.123623   \n",
            "1    89.522728     88.895256     89.223045  28.299263  3.566315   \n",
            "2    88.369255     86.463753     89.427956  29.306366  4.861019   \n",
            "3    88.795662     88.871552     88.662865  29.159832  4.854623   \n",
            "4    89.121201     88.895714     88.507774  29.235826  4.331135   \n",
            "\n",
            "   scaled_humidity_%  scaled_temp_C_scaled_log_windspeed_kph   log_so2  \\\n",
            "0          -0.063496                                1.014492  2.422512   \n",
            "1          -0.030410                                1.046001  1.975366   \n",
            "2           0.175540                                0.491965  3.089325   \n",
            "3           0.517245                                0.898655  3.132502   \n",
            "4          -1.180160                                0.848134  2.732738   \n",
            "\n",
            "   day_of_week  scaled_temp_C  scaled_temp_C_scaled_o3   log_no2     aqi_us  \\\n",
            "0     2.837407       0.021779                -0.853971  2.751988  88.394112   \n",
            "1     3.233210       0.336905                -0.374082  2.655457  88.709877   \n",
            "2     3.610810       0.393948                -0.300245  3.197614  87.726654   \n",
            "3     3.017961       1.134894                -0.943434  1.064021  88.801239   \n",
            "4     2.360208       0.102808                -0.520789  3.493998  87.786629   \n",
            "\n",
            "             datetime  \n",
            "0 2025-07-07 01:00:00  \n",
            "1 2025-07-07 02:00:00  \n",
            "2 2025-07-07 03:00:00  \n",
            "3 2025-07-07 04:00:00  \n",
            "4 2025-07-07 05:00:00  \n"
          ]
        },
        {
          "name": "stderr",
          "output_type": "stream",
          "text": [
            "/tmp/ipython-input-20-2781697301.py:4: FutureWarning: 'H' is deprecated and will be removed in a future version, please use 'h' instead.\n",
            "  future_dates = pd.date_range(start=df['datetime'].iloc[-1] + pd.Timedelta(hours=1),\n"
          ]
        }
      ],
      "source": [
        "last_sequence = features.values[-WINDOW_SIZE:].reshape(1, WINDOW_SIZE, num_features)\n",
        "future_preds = model.predict(last_sequence).reshape(PREDICT_HORIZON, num_features)\n",
        "\n",
        "future_dates = pd.date_range(start=df['datetime'].iloc[-1] + pd.Timedelta(hours=1),\n",
        "                              periods=PREDICT_HORIZON, freq='H')\n",
        "\n",
        "future_df = pd.DataFrame(future_preds, columns=features.columns)\n",
        "future_df[\"datetime\"] = future_dates\n",
        "future_df.to_csv(\"future_predictions_tcn_keras.csv\", index=False)\n",
        "mlflow.log_artifact(\"future_predictions_tcn_keras.csv\")\n",
        "\n",
        "print(\"✅ TCN model training complete. Predictions logged to MLflow.\")\n",
        "print(future_df.head())"
      ]
    }
  ],
  "metadata": {
    "colab": {
      "provenance": []
    },
    "kernelspec": {
      "display_name": "Python 3",
      "name": "python3"
    },
    "language_info": {
      "name": "python"
    }
  },
  "nbformat": 4,
  "nbformat_minor": 0
}
