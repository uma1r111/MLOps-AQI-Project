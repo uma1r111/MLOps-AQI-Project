{
  "cells": [
    {
      "cell_type": "code",
      "execution_count": 5,
      "metadata": {
        "colab": {
          "base_uri": "https://localhost:8080/"
        },
        "id": "wDecdNZYRVjD",
        "outputId": "227cd45c-cd8e-43b0-cc3c-2520d013dba4"
      },
      "outputs": [
        {
          "name": "stdout",
          "output_type": "stream",
          "text": [
            "\u001b[?25l   \u001b[90m━━━━━━━━━━━━━━━━━━━━━━━━━━━━━━━━━━━━━━━━\u001b[0m \u001b[32m0.0/129.1 kB\u001b[0m \u001b[31m?\u001b[0m eta \u001b[36m-:--:--\u001b[0m\r\u001b[2K   \u001b[90m━━━━━━━━━━━━━━━━━━━━━━━━━━━━━━━━━━━━━━━━\u001b[0m \u001b[32m129.1/129.1 kB\u001b[0m \u001b[31m4.8 MB/s\u001b[0m eta \u001b[36m0:00:00\u001b[0m\n",
            "\u001b[?25hRequirement already satisfied: dvc[s3] in /usr/local/lib/python3.11/dist-packages (3.61.0)\n",
            "Requirement already satisfied: attrs>=22.2.0 in /usr/local/lib/python3.11/dist-packages (from dvc[s3]) (25.3.0)\n",
            "Requirement already satisfied: celery in /usr/local/lib/python3.11/dist-packages (from dvc[s3]) (5.5.3)\n",
            "Requirement already satisfied: colorama>=0.3.9 in /usr/local/lib/python3.11/dist-packages (from dvc[s3]) (0.4.6)\n",
            "Requirement already satisfied: configobj>=5.0.9 in /usr/local/lib/python3.11/dist-packages (from dvc[s3]) (5.0.9)\n",
            "Requirement already satisfied: distro>=1.3 in /usr/local/lib/python3.11/dist-packages (from dvc[s3]) (1.9.0)\n",
            "Requirement already satisfied: dpath<3,>=2.1.0 in /usr/local/lib/python3.11/dist-packages (from dvc[s3]) (2.2.0)\n",
            "Requirement already satisfied: dulwich in /usr/local/lib/python3.11/dist-packages (from dvc[s3]) (0.23.2)\n",
            "Requirement already satisfied: dvc-data<3.17,>=3.16.2 in /usr/local/lib/python3.11/dist-packages (from dvc[s3]) (3.16.10)\n",
            "Requirement already satisfied: dvc-http>=2.29.0 in /usr/local/lib/python3.11/dist-packages (from dvc[s3]) (2.32.0)\n",
            "Requirement already satisfied: dvc-objects in /usr/local/lib/python3.11/dist-packages (from dvc[s3]) (5.1.1)\n",
            "Requirement already satisfied: dvc-render<2,>=1.0.1 in /usr/local/lib/python3.11/dist-packages (from dvc[s3]) (1.0.2)\n",
            "Requirement already satisfied: dvc-studio-client<1,>=0.21 in /usr/local/lib/python3.11/dist-packages (from dvc[s3]) (0.21.0)\n",
            "Requirement already satisfied: dvc-task<1,>=0.3.0 in /usr/local/lib/python3.11/dist-packages (from dvc[s3]) (0.40.2)\n",
            "Requirement already satisfied: flatten_dict<1,>=0.4.1 in /usr/local/lib/python3.11/dist-packages (from dvc[s3]) (0.4.2)\n",
            "Requirement already satisfied: flufl.lock<9,>=8.1.0 in /usr/local/lib/python3.11/dist-packages (from dvc[s3]) (8.2.0)\n",
            "Requirement already satisfied: fsspec>=2024.2.0 in /usr/local/lib/python3.11/dist-packages (from dvc[s3]) (2025.3.2)\n",
            "Requirement already satisfied: funcy>=1.14 in /usr/local/lib/python3.11/dist-packages (from dvc[s3]) (2.0)\n",
            "Requirement already satisfied: grandalf<1,>=0.7 in /usr/local/lib/python3.11/dist-packages (from dvc[s3]) (0.8)\n",
            "Requirement already satisfied: gto<2,>=1.6.0 in /usr/local/lib/python3.11/dist-packages (from dvc[s3]) (1.7.2)\n",
            "Requirement already satisfied: hydra-core>=1.1 in /usr/local/lib/python3.11/dist-packages (from dvc[s3]) (1.3.2)\n",
            "Requirement already satisfied: iterative-telemetry>=0.0.7 in /usr/local/lib/python3.11/dist-packages (from dvc[s3]) (0.0.10)\n",
            "Requirement already satisfied: kombu in /usr/local/lib/python3.11/dist-packages (from dvc[s3]) (5.5.4)\n",
            "Requirement already satisfied: networkx>=2.5 in /usr/local/lib/python3.11/dist-packages (from dvc[s3]) (3.5)\n",
            "Requirement already satisfied: omegaconf in /usr/local/lib/python3.11/dist-packages (from dvc[s3]) (2.3.0)\n",
            "Requirement already satisfied: packaging>=19 in /usr/local/lib/python3.11/dist-packages (from dvc[s3]) (24.2)\n",
            "Requirement already satisfied: pathspec>=0.10.3 in /usr/local/lib/python3.11/dist-packages (from dvc[s3]) (0.12.1)\n",
            "Requirement already satisfied: platformdirs<5,>=3.1.1 in /usr/local/lib/python3.11/dist-packages (from dvc[s3]) (4.3.8)\n",
            "Requirement already satisfied: psutil>=5.8 in /usr/local/lib/python3.11/dist-packages (from dvc[s3]) (5.9.5)\n",
            "Requirement already satisfied: pydot>=1.2.4 in /usr/local/lib/python3.11/dist-packages (from dvc[s3]) (3.0.4)\n",
            "Requirement already satisfied: pygtrie>=2.3.2 in /usr/local/lib/python3.11/dist-packages (from dvc[s3]) (2.5.0)\n",
            "Requirement already satisfied: pyparsing>=2.4.7 in /usr/local/lib/python3.11/dist-packages (from dvc[s3]) (3.2.3)\n",
            "Requirement already satisfied: requests>=2.22 in /usr/local/lib/python3.11/dist-packages (from dvc[s3]) (2.32.3)\n",
            "Requirement already satisfied: rich>=12 in /usr/local/lib/python3.11/dist-packages (from dvc[s3]) (13.9.4)\n",
            "Requirement already satisfied: ruamel.yaml>=0.17.11 in /usr/local/lib/python3.11/dist-packages (from dvc[s3]) (0.18.14)\n",
            "Requirement already satisfied: scmrepo<4,>=3.3.8 in /usr/local/lib/python3.11/dist-packages (from dvc[s3]) (3.3.11)\n",
            "Requirement already satisfied: shortuuid>=0.5 in /usr/local/lib/python3.11/dist-packages (from dvc[s3]) (1.0.13)\n",
            "Requirement already satisfied: shtab<2,>=1.3.4 in /usr/local/lib/python3.11/dist-packages (from dvc[s3]) (1.7.2)\n",
            "Requirement already satisfied: tabulate>=0.8.7 in /usr/local/lib/python3.11/dist-packages (from dvc[s3]) (0.9.0)\n",
            "Requirement already satisfied: tomlkit>=0.11.1 in /usr/local/lib/python3.11/dist-packages (from dvc[s3]) (0.13.3)\n",
            "Requirement already satisfied: tqdm<5,>=4.63.1 in /usr/local/lib/python3.11/dist-packages (from dvc[s3]) (4.67.1)\n",
            "Requirement already satisfied: voluptuous>=0.11.7 in /usr/local/lib/python3.11/dist-packages (from dvc[s3]) (0.15.2)\n",
            "Requirement already satisfied: zc.lockfile>=1.2.1 in /usr/local/lib/python3.11/dist-packages (from dvc[s3]) (3.0.post1)\n",
            "Requirement already satisfied: dvc-s3<4,>=3.2.1 in /usr/local/lib/python3.11/dist-packages (from dvc[s3]) (3.2.2)\n",
            "Requirement already satisfied: dictdiffer>=0.8.1 in /usr/local/lib/python3.11/dist-packages (from dvc-data<3.17,>=3.16.2->dvc[s3]) (0.9.0)\n",
            "Requirement already satisfied: diskcache>=5.2.1 in /usr/local/lib/python3.11/dist-packages (from dvc-data<3.17,>=3.16.2->dvc[s3]) (5.6.3)\n",
            "Requirement already satisfied: sqltrie<1,>=0.11.0 in /usr/local/lib/python3.11/dist-packages (from dvc-data<3.17,>=3.16.2->dvc[s3]) (0.11.2)\n",
            "Requirement already satisfied: orjson<4,>=3 in /usr/local/lib/python3.11/dist-packages (from dvc-data<3.17,>=3.16.2->dvc[s3]) (3.10.18)\n",
            "Requirement already satisfied: aiohttp-retry>=2.5.0 in /usr/local/lib/python3.11/dist-packages (from dvc-http>=2.29.0->dvc[s3]) (2.9.1)\n",
            "Requirement already satisfied: s3fs>=2024.12.0 in /usr/local/lib/python3.11/dist-packages (from dvc-s3<4,>=3.2.1->dvc[s3]) (2025.3.2)\n",
            "Requirement already satisfied: aiobotocore>=2.5.0 in /usr/local/lib/python3.11/dist-packages (from aiobotocore[boto3]>=2.5.0->dvc-s3<4,>=3.2.1->dvc[s3]) (2.23.0)\n",
            "Requirement already satisfied: billiard<5.0,>=4.2.1 in /usr/local/lib/python3.11/dist-packages (from celery->dvc[s3]) (4.2.1)\n",
            "Requirement already satisfied: vine<6.0,>=5.1.0 in /usr/local/lib/python3.11/dist-packages (from celery->dvc[s3]) (5.1.0)\n",
            "Requirement already satisfied: click<9.0,>=8.1.2 in /usr/local/lib/python3.11/dist-packages (from celery->dvc[s3]) (8.2.1)\n",
            "Requirement already satisfied: click-didyoumean>=0.3.0 in /usr/local/lib/python3.11/dist-packages (from celery->dvc[s3]) (0.3.1)\n",
            "Requirement already satisfied: click-repl>=0.2.0 in /usr/local/lib/python3.11/dist-packages (from celery->dvc[s3]) (0.3.0)\n",
            "Requirement already satisfied: click-plugins>=1.1.1 in /usr/local/lib/python3.11/dist-packages (from celery->dvc[s3]) (1.1.1.2)\n",
            "Requirement already satisfied: python-dateutil>=2.8.2 in /usr/local/lib/python3.11/dist-packages (from celery->dvc[s3]) (2.9.0.post0)\n",
            "Requirement already satisfied: six<2.0,>=1.12 in /usr/local/lib/python3.11/dist-packages (from flatten_dict<1,>=0.4.1->dvc[s3]) (1.17.0)\n",
            "Requirement already satisfied: atpublic in /usr/local/lib/python3.11/dist-packages (from flufl.lock<9,>=8.1.0->dvc[s3]) (5.1)\n",
            "Requirement already satisfied: entrypoints in /usr/local/lib/python3.11/dist-packages (from gto<2,>=1.6.0->dvc[s3]) (0.4)\n",
            "Requirement already satisfied: pydantic!=2.0.0,<3,>=1.9.0 in /usr/local/lib/python3.11/dist-packages (from gto<2,>=1.6.0->dvc[s3]) (2.11.7)\n",
            "Requirement already satisfied: semver>=2.13.0 in /usr/local/lib/python3.11/dist-packages (from gto<2,>=1.6.0->dvc[s3]) (3.0.4)\n",
            "Requirement already satisfied: typer>=0.4.1 in /usr/local/lib/python3.11/dist-packages (from gto<2,>=1.6.0->dvc[s3]) (0.16.0)\n",
            "Requirement already satisfied: antlr4-python3-runtime==4.9.* in /usr/local/lib/python3.11/dist-packages (from hydra-core>=1.1->dvc[s3]) (4.9.3)\n",
            "Requirement already satisfied: appdirs in /usr/local/lib/python3.11/dist-packages (from iterative-telemetry>=0.0.7->dvc[s3]) (1.4.4)\n",
            "Requirement already satisfied: filelock in /usr/local/lib/python3.11/dist-packages (from iterative-telemetry>=0.0.7->dvc[s3]) (3.18.0)\n",
            "Requirement already satisfied: amqp<6.0.0,>=5.1.1 in /usr/local/lib/python3.11/dist-packages (from kombu->dvc[s3]) (5.3.1)\n",
            "Requirement already satisfied: tzdata>=2025.2 in /usr/local/lib/python3.11/dist-packages (from kombu->dvc[s3]) (2025.2)\n",
            "Requirement already satisfied: PyYAML>=5.1.0 in /usr/local/lib/python3.11/dist-packages (from omegaconf->dvc[s3]) (6.0.2)\n",
            "Requirement already satisfied: charset-normalizer<4,>=2 in /usr/local/lib/python3.11/dist-packages (from requests>=2.22->dvc[s3]) (3.4.2)\n",
            "Requirement already satisfied: idna<4,>=2.5 in /usr/local/lib/python3.11/dist-packages (from requests>=2.22->dvc[s3]) (3.10)\n",
            "Requirement already satisfied: urllib3<3,>=1.21.1 in /usr/local/lib/python3.11/dist-packages (from requests>=2.22->dvc[s3]) (2.4.0)\n",
            "Requirement already satisfied: certifi>=2017.4.17 in /usr/local/lib/python3.11/dist-packages (from requests>=2.22->dvc[s3]) (2025.6.15)\n",
            "Requirement already satisfied: markdown-it-py>=2.2.0 in /usr/local/lib/python3.11/dist-packages (from rich>=12->dvc[s3]) (3.0.0)\n",
            "Requirement already satisfied: pygments<3.0.0,>=2.13.0 in /usr/local/lib/python3.11/dist-packages (from rich>=12->dvc[s3]) (2.19.2)\n",
            "Requirement already satisfied: ruamel.yaml.clib>=0.2.7 in /usr/local/lib/python3.11/dist-packages (from ruamel.yaml>=0.17.11->dvc[s3]) (0.2.12)\n",
            "Requirement already satisfied: gitpython>3 in /usr/local/lib/python3.11/dist-packages (from scmrepo<4,>=3.3.8->dvc[s3]) (3.1.44)\n",
            "Requirement already satisfied: pygit2>=1.14.0 in /usr/local/lib/python3.11/dist-packages (from scmrepo<4,>=3.3.8->dvc[s3]) (1.18.0)\n",
            "Requirement already satisfied: asyncssh<3,>=2.13.1 in /usr/local/lib/python3.11/dist-packages (from scmrepo<4,>=3.3.8->dvc[s3]) (2.21.0)\n",
            "Requirement already satisfied: setuptools in /usr/local/lib/python3.11/dist-packages (from zc.lockfile>=1.2.1->dvc[s3]) (75.2.0)\n",
            "Requirement already satisfied: aiohttp<4.0.0,>=3.9.2 in /usr/local/lib/python3.11/dist-packages (from aiobotocore>=2.5.0->aiobotocore[boto3]>=2.5.0->dvc-s3<4,>=3.2.1->dvc[s3]) (3.11.15)\n",
            "Requirement already satisfied: aioitertools<1.0.0,>=0.5.1 in /usr/local/lib/python3.11/dist-packages (from aiobotocore>=2.5.0->aiobotocore[boto3]>=2.5.0->dvc-s3<4,>=3.2.1->dvc[s3]) (0.12.0)\n",
            "Requirement already satisfied: botocore<1.38.28,>=1.38.23 in /usr/local/lib/python3.11/dist-packages (from aiobotocore>=2.5.0->aiobotocore[boto3]>=2.5.0->dvc-s3<4,>=3.2.1->dvc[s3]) (1.38.27)\n",
            "Requirement already satisfied: jmespath<2.0.0,>=0.7.1 in /usr/local/lib/python3.11/dist-packages (from aiobotocore>=2.5.0->aiobotocore[boto3]>=2.5.0->dvc-s3<4,>=3.2.1->dvc[s3]) (1.0.1)\n",
            "Requirement already satisfied: multidict<7.0.0,>=6.0.0 in /usr/local/lib/python3.11/dist-packages (from aiobotocore>=2.5.0->aiobotocore[boto3]>=2.5.0->dvc-s3<4,>=3.2.1->dvc[s3]) (6.6.3)\n",
            "Requirement already satisfied: wrapt<2.0.0,>=1.10.10 in /usr/local/lib/python3.11/dist-packages (from aiobotocore>=2.5.0->aiobotocore[boto3]>=2.5.0->dvc-s3<4,>=3.2.1->dvc[s3]) (1.17.2)\n",
            "Requirement already satisfied: boto3<1.38.28,>=1.38.23 in /usr/local/lib/python3.11/dist-packages (from aiobotocore[boto3]>=2.5.0->dvc-s3<4,>=3.2.1->dvc[s3]) (1.38.27)\n",
            "Requirement already satisfied: cryptography>=39.0 in /usr/local/lib/python3.11/dist-packages (from asyncssh<3,>=2.13.1->scmrepo<4,>=3.3.8->dvc[s3]) (43.0.3)\n",
            "Requirement already satisfied: typing_extensions>=4.0.0 in /usr/local/lib/python3.11/dist-packages (from asyncssh<3,>=2.13.1->scmrepo<4,>=3.3.8->dvc[s3]) (4.14.1)\n",
            "Requirement already satisfied: prompt-toolkit>=3.0.36 in /usr/local/lib/python3.11/dist-packages (from click-repl>=0.2.0->celery->dvc[s3]) (3.0.51)\n",
            "Requirement already satisfied: gitdb<5,>=4.0.1 in /usr/local/lib/python3.11/dist-packages (from gitpython>3->scmrepo<4,>=3.3.8->dvc[s3]) (4.0.12)\n",
            "Requirement already satisfied: mdurl~=0.1 in /usr/local/lib/python3.11/dist-packages (from markdown-it-py>=2.2.0->rich>=12->dvc[s3]) (0.1.2)\n",
            "Requirement already satisfied: annotated-types>=0.6.0 in /usr/local/lib/python3.11/dist-packages (from pydantic!=2.0.0,<3,>=1.9.0->gto<2,>=1.6.0->dvc[s3]) (0.7.0)\n",
            "Requirement already satisfied: pydantic-core==2.33.2 in /usr/local/lib/python3.11/dist-packages (from pydantic!=2.0.0,<3,>=1.9.0->gto<2,>=1.6.0->dvc[s3]) (2.33.2)\n",
            "Requirement already satisfied: typing-inspection>=0.4.0 in /usr/local/lib/python3.11/dist-packages (from pydantic!=2.0.0,<3,>=1.9.0->gto<2,>=1.6.0->dvc[s3]) (0.4.1)\n",
            "Requirement already satisfied: cffi>=1.17.0 in /usr/local/lib/python3.11/dist-packages (from pygit2>=1.14.0->scmrepo<4,>=3.3.8->dvc[s3]) (1.17.1)\n",
            "Requirement already satisfied: shellingham>=1.3.0 in /usr/local/lib/python3.11/dist-packages (from typer>=0.4.1->gto<2,>=1.6.0->dvc[s3]) (1.5.4)\n",
            "Requirement already satisfied: aiohappyeyeballs>=2.3.0 in /usr/local/lib/python3.11/dist-packages (from aiohttp<4.0.0,>=3.9.2->aiobotocore>=2.5.0->aiobotocore[boto3]>=2.5.0->dvc-s3<4,>=3.2.1->dvc[s3]) (2.6.1)\n",
            "Requirement already satisfied: aiosignal>=1.1.2 in /usr/local/lib/python3.11/dist-packages (from aiohttp<4.0.0,>=3.9.2->aiobotocore>=2.5.0->aiobotocore[boto3]>=2.5.0->dvc-s3<4,>=3.2.1->dvc[s3]) (1.4.0)\n",
            "Requirement already satisfied: frozenlist>=1.1.1 in /usr/local/lib/python3.11/dist-packages (from aiohttp<4.0.0,>=3.9.2->aiobotocore>=2.5.0->aiobotocore[boto3]>=2.5.0->dvc-s3<4,>=3.2.1->dvc[s3]) (1.7.0)\n",
            "Requirement already satisfied: propcache>=0.2.0 in /usr/local/lib/python3.11/dist-packages (from aiohttp<4.0.0,>=3.9.2->aiobotocore>=2.5.0->aiobotocore[boto3]>=2.5.0->dvc-s3<4,>=3.2.1->dvc[s3]) (0.3.2)\n",
            "Requirement already satisfied: yarl<2.0,>=1.17.0 in /usr/local/lib/python3.11/dist-packages (from aiohttp<4.0.0,>=3.9.2->aiobotocore>=2.5.0->aiobotocore[boto3]>=2.5.0->dvc-s3<4,>=3.2.1->dvc[s3]) (1.20.1)\n",
            "Requirement already satisfied: s3transfer<0.14.0,>=0.13.0 in /usr/local/lib/python3.11/dist-packages (from boto3<1.38.28,>=1.38.23->aiobotocore[boto3]>=2.5.0->dvc-s3<4,>=3.2.1->dvc[s3]) (0.13.0)\n",
            "Requirement already satisfied: pycparser in /usr/local/lib/python3.11/dist-packages (from cffi>=1.17.0->pygit2>=1.14.0->scmrepo<4,>=3.3.8->dvc[s3]) (2.22)\n",
            "Requirement already satisfied: smmap<6,>=3.0.1 in /usr/local/lib/python3.11/dist-packages (from gitdb<5,>=4.0.1->gitpython>3->scmrepo<4,>=3.3.8->dvc[s3]) (5.0.2)\n",
            "Requirement already satisfied: wcwidth in /usr/local/lib/python3.11/dist-packages (from prompt-toolkit>=3.0.36->click-repl>=0.2.0->celery->dvc[s3]) (0.2.13)\n",
            "Reading package lists... Done\n",
            "Building dependency tree... Done\n",
            "Reading state information... Done\n",
            "git is already the newest version (1:2.34.1-1ubuntu1.12).\n",
            "0 upgraded, 0 newly installed, 0 to remove and 35 not upgraded.\n"
          ]
        }
      ],
      "source": [
        "!pip install mlflow keras-tuner optuna dvc -q\n",
        "!pip install dvc[s3]\n",
        "!apt install git -y"
      ]
    },
    {
      "cell_type": "code",
      "execution_count": 19,
      "metadata": {
        "id": "mq-eb_OWReQC"
      },
      "outputs": [],
      "source": [
        "import pandas as pd\n",
        "import numpy as np\n",
        "import mlflow\n",
        "import mlflow.keras\n",
        "import os\n",
        "import subprocess\n",
        "import optuna\n",
        "from keras.models import Sequential\n",
        "from keras.layers import LSTM, Dense, GRU\n",
        "from keras.callbacks import EarlyStopping\n",
        "from sklearn.metrics import mean_squared_error, mean_absolute_error\n",
        "from math import sqrt\n",
        "from sklearn.model_selection import train_test_split\n",
        "import keras_tuner as kt\n",
        "from tensorflow.keras.optimizers import Adam"
      ]
    },
    {
      "cell_type": "code",
      "execution_count": null,
      "metadata": {
        "id": "3HkcX2R0RgHP"
      },
      "outputs": [],
      "source": [
        "MLFLOW_TRACKING_URI = \"\"\n",
        "EXPERIMENT_NAME = \"AQI hyperparameter & model testing (Manual)\"\n",
        "WINDOW_SIZE = 24\n",
        "PREDICT_HORIZON = 72  # Predict next 3 days = 72 hours"
      ]
    },
    {
      "cell_type": "code",
      "execution_count": 8,
      "metadata": {
        "colab": {
          "base_uri": "https://localhost:8080/"
        },
        "id": "77hFcdXkRgfp",
        "outputId": "ea096979-d1a8-4122-a039-4640bd3c9f98"
      },
      "outputs": [
        {
          "data": {
            "text/plain": [
              "<Experiment: artifact_location='/home/umair/mlruns/3', creation_time=1752022350617, experiment_id='3', last_update_time=1752022350617, lifecycle_stage='active', name='AQI hyperparameter & model testing (Manual)', tags={}>"
            ]
          },
          "execution_count": 8,
          "metadata": {},
          "output_type": "execute_result"
        }
      ],
      "source": [
        "mlflow.set_tracking_uri(MLFLOW_TRACKING_URI)\n",
        "mlflow.set_experiment(EXPERIMENT_NAME)"
      ]
    },
    {
      "cell_type": "code",
      "execution_count": 9,
      "metadata": {
        "colab": {
          "base_uri": "https://localhost:8080/"
        },
        "id": "AThdnaRrRktR",
        "outputId": "f8289f25-c6ce-426b-c47c-483374d402f4"
      },
      "outputs": [
        {
          "name": "stdout",
          "output_type": "stream",
          "text": [
            "\u001b[33mhint: Using 'master' as the name for the initial branch. This default branch name\u001b[m\n",
            "\u001b[33mhint: is subject to change. To configure the initial branch name to use in all\u001b[m\n",
            "\u001b[33mhint: of your new repositories, which will suppress this warning, call:\u001b[m\n",
            "\u001b[33mhint: \u001b[m\n",
            "\u001b[33mhint: \tgit config --global init.defaultBranch <name>\u001b[m\n",
            "\u001b[33mhint: \u001b[m\n",
            "\u001b[33mhint: Names commonly chosen instead of 'master' are 'main', 'trunk' and\u001b[m\n",
            "\u001b[33mhint: 'development'. The just-created branch can be renamed via this command:\u001b[m\n",
            "\u001b[33mhint: \u001b[m\n",
            "\u001b[33mhint: \tgit branch -m <name>\u001b[m\n",
            "Initialized empty Git repository in /content/.git/\n",
            "Initialized DVC repository.\n",
            "\n",
            "You can now commit the changes to git.\n",
            "\n",
            "\u001b[31m+---------------------------------------------------------------------+\n",
            "\u001b[0m\u001b[31m|\u001b[0m                                                                     \u001b[31m|\u001b[0m\n",
            "\u001b[31m|\u001b[0m        DVC has enabled anonymous aggregate usage analytics.         \u001b[31m|\u001b[0m\n",
            "\u001b[31m|\u001b[0m     Read the analytics documentation (and how to opt-out) here:     \u001b[31m|\u001b[0m\n",
            "\u001b[31m|\u001b[0m             <\u001b[36mhttps://dvc.org/doc/user-guide/analytics\u001b[39m>              \u001b[31m|\u001b[0m\n",
            "\u001b[31m|\u001b[0m                                                                     \u001b[31m|\u001b[0m\n",
            "\u001b[31m+---------------------------------------------------------------------+\n",
            "\u001b[0m\n",
            "\u001b[33mWhat's next?\u001b[39m\n",
            "\u001b[33m------------\u001b[39m\n",
            "- Check out the documentation: <\u001b[36mhttps://dvc.org/doc\u001b[39m>\n",
            "- Get help and share ideas: <\u001b[36mhttps://dvc.org/chat\u001b[39m>\n",
            "- Star us on GitHub: <\u001b[36mhttps://github.com/iterative/dvc\u001b[39m>\n",
            "\u001b[0mSetting 'myremote' as a default remote.\n",
            "\u001b[0m"
          ]
        }
      ],
      "source": [
        "!git init\n",
        "!dvc init\n",
        "!dvc remote add -d myremote s3://s3-bucket-umairrr"
      ]
    },
    {
      "cell_type": "code",
      "execution_count": 10,
      "metadata": {
        "colab": {
          "base_uri": "https://localhost:8080/"
        },
        "id": "eUrURsAoRnkq",
        "outputId": "362510a8-dd2e-42bd-e384-ae28e88ac581"
      },
      "outputs": [
        {
          "name": "stdout",
          "output_type": "stream",
          "text": [
            "Cloning into '10pearls-AQI-Project-'...\n",
            "remote: Enumerating objects: 404, done.\u001b[K\n",
            "remote: Counting objects: 100% (180/180), done.\u001b[K\n",
            "remote: Compressing objects: 100% (114/114), done.\u001b[K\n",
            "remote: Total 404 (delta 80), reused 145 (delta 49), pack-reused 224 (from 1)\u001b[K\n",
            "Receiving objects: 100% (404/404), 5.68 MiB | 26.81 MiB/s, done.\n",
            "Resolving deltas: 100% (188/188), done.\n",
            "/content/10pearls-AQI-Project-\n"
          ]
        }
      ],
      "source": [
        "!git clone https://github.com/uma1r111/10pearls-AQI-Project-\n",
        "%cd 10pearls-AQI-Project-"
      ]
    },
    {
      "cell_type": "code",
      "execution_count": null,
      "metadata": {
        "colab": {
          "base_uri": "https://localhost:8080/"
        },
        "id": "6mVjQNcLRpOP",
        "outputId": "83297d48-296a-4522-c259-a6e2f49a9876"
      },
      "outputs": [
        {
          "name": "stdout",
          "output_type": "stream",
          "text": [
            "\n",
            "Pulling latest feature_selection.csv from DVC remote (S3)...\n"
          ]
        },
        {
          "data": {
            "text/plain": [
              "CompletedProcess(args=['dvc', 'pull'], returncode=0)"
            ]
          },
          "execution_count": 11,
          "metadata": {},
          "output_type": "execute_result"
        }
      ],
      "source": [
        "# Load and preprocess data\n",
        "print(\"\\nPulling latest feature_selection.csv from DVC remote (S3)...\")\n",
        "os.environ[\"AWS_ACCESS_KEY_ID\"] = \"\"\n",
        "os.environ[\"AWS_SECRET_ACCESS_KEY\"] = \"\"\n",
        "os.environ[\"AWS_DEFAULT_REGION\"] = \"\"\n",
        "subprocess.run([\"dvc\", \"pull\"], check=True)"
      ]
    },
    {
      "cell_type": "code",
      "execution_count": 12,
      "metadata": {
        "colab": {
          "base_uri": "https://localhost:8080/"
        },
        "id": "CYRUnLd3SDfe",
        "outputId": "f691d27c-64a9-4750-b271-ebb75cefed40"
      },
      "outputs": [
        {
          "name": "stdout",
          "output_type": "stream",
          "text": [
            "./README.md\n",
            "./.dvcignore\n",
            "./requirements.txt\n",
            "./.gitignore\n",
            "./full_preprocessed_aqi_weather_data_with_all_features.csv\n",
            "./karachi_weather_apr1_to_current.csv\n",
            "./fetch_daily_data.py\n",
            "./feature_selection.csv.dvc\n",
            "./feature_selection.csv\n",
            "./Exploratory Visualization Analysis/Exploratory Visualization Analysis.ipynb\n",
            "./Exploratory Visualization Analysis/Exploratory Visualization Analysis.txt\n",
            "./.dvc/config\n",
            "./.dvc/.gitignore\n",
            "./.dvc/cache/files/md5/a3/42be088d6bbebcb8002a166df6f909\n",
            "./.dvc/tmp/btime\n",
            "./.dvc/tmp/lock\n",
            "./Data Preprocessing/Data_PreProcessing.ipynb\n",
            "./Data Preprocessing/data_quality_check.py\n",
            "./Data Preprocessing/run_preprocessing.py\n",
            "./Data Collection/karachi_weather_jun2025.ipynb\n",
            "./Data Collection/pollutants info Apr - Jun.ipynb\n",
            "./Data Collection/karachi_weather_apr1_jun14.ipynb\n",
            "./.github/workflows/feature_engineering.yml\n",
            "./.github/workflows/feature_selection.yml\n",
            "./.github/workflows/update_data.yml\n",
            "./Feature Selection/initial_feature_extraction.ipynb\n",
            "./Feature Selection/feature_selection.py\n",
            "./Feature Selection/Feature_Selection.ipynb\n",
            "./.git/description\n",
            "./.git/config\n",
            "./.git/packed-refs\n",
            "./.git/index\n",
            "./.git/HEAD\n",
            "./.git/info/exclude\n",
            "./.git/objects/pack/pack-d6a55d550e60604eba636f007773e6f7887656f7.idx\n",
            "./.git/objects/pack/pack-d6a55d550e60604eba636f007773e6f7887656f7.pack\n",
            "./.git/refs/remotes/origin/HEAD\n",
            "./.git/refs/heads/main\n",
            "./.git/logs/HEAD\n",
            "./.git/logs/refs/remotes/origin/HEAD\n",
            "./.git/logs/refs/heads/main\n",
            "./.git/hooks/pre-receive.sample\n",
            "./.git/hooks/applypatch-msg.sample\n",
            "./.git/hooks/post-update.sample\n",
            "./.git/hooks/pre-push.sample\n",
            "./.git/hooks/pre-merge-commit.sample\n",
            "./.git/hooks/push-to-checkout.sample\n",
            "./.git/hooks/update.sample\n",
            "./.git/hooks/pre-rebase.sample\n",
            "./.git/hooks/pre-applypatch.sample\n",
            "./.git/hooks/commit-msg.sample\n",
            "./.git/hooks/fsmonitor-watchman.sample\n",
            "./.git/hooks/pre-commit.sample\n",
            "./.git/hooks/prepare-commit-msg.sample\n",
            "./Data/karachi_weather_jun2025.csv\n",
            "./Data/pollutants info Mar - jul.csv\n",
            "./Data/karachi_weather_apr1_jun14.csv\n"
          ]
        }
      ],
      "source": [
        "for root, dirs, files in os.walk(\".\", topdown=True):\n",
        "    for name in files:\n",
        "        print(os.path.join(root, name))"
      ]
    },
    {
      "cell_type": "code",
      "execution_count": 13,
      "metadata": {
        "id": "dwaNJllTSD4a"
      },
      "outputs": [],
      "source": [
        "df = pd.read_csv(\"feature_selection.csv\")"
      ]
    },
    {
      "cell_type": "code",
      "execution_count": 14,
      "metadata": {
        "id": "5gr0Q_5ITUsb"
      },
      "outputs": [],
      "source": [
        "df['datetime'] = pd.to_datetime(df['datetime'])\n",
        "df = df[(df[\"datetime\"] >= \"2025-04-01\") & (df[\"datetime\"] <= \"2025-07-07\")]\n",
        "df = df.sort_values(\"datetime\")\n",
        "\n",
        "features = df.drop(columns=[\"datetime\"])\n",
        "num_features = features.shape[1]  # total features including AQI"
      ]
    },
    {
      "cell_type": "code",
      "execution_count": 15,
      "metadata": {
        "colab": {
          "base_uri": "https://localhost:8080/"
        },
        "id": "12AX7JsYTWmT",
        "outputId": "4153df4d-087c-41f9-ba5d-34aad89210ab"
      },
      "outputs": [
        {
          "name": "stdout",
          "output_type": "stream",
          "text": [
            "0   2025-04-01 00:00:00\n",
            "1   2025-04-01 01:00:00\n",
            "2   2025-04-01 02:00:00\n",
            "3   2025-04-01 03:00:00\n",
            "4   2025-04-01 04:00:00\n",
            "Name: datetime, dtype: datetime64[ns]\n",
            "Filtered Rows: 2329\n"
          ]
        }
      ],
      "source": [
        "print(df[\"datetime\"].head())\n",
        "print(\"Filtered Rows:\", len(df))"
      ]
    },
    {
      "cell_type": "markdown",
      "metadata": {
        "id": "fspf8CN4Tbth"
      },
      "source": [
        "# **Sequence Building for Walk forward Validation**"
      ]
    },
    {
      "cell_type": "code",
      "execution_count": 16,
      "metadata": {
        "id": "N_jJ2Ai1SHTB"
      },
      "outputs": [],
      "source": [
        "def create_sequences(X, window_size, horizon):\n",
        "    Xs, ys = [], []\n",
        "    for i in range(len(X) - window_size - horizon):\n",
        "        Xs.append(X[i:(i + window_size)].values)\n",
        "        ys.append(X[(i + window_size):(i + window_size + horizon)].values)\n",
        "    return np.array(Xs), np.array(ys)\n",
        "\n",
        "X_seq, y_seq = create_sequences(features, WINDOW_SIZE, PREDICT_HORIZON)\n",
        "X_train, X_val, y_train, y_val = train_test_split(X_seq, y_seq, test_size=0.2, shuffle=False)"
      ]
    },
    {
      "cell_type": "code",
      "execution_count": 17,
      "metadata": {
        "colab": {
          "base_uri": "https://localhost:8080/"
        },
        "id": "RCmQbVbpTe9P",
        "outputId": "b7ce7e0a-80de-497a-aa9a-166846801d82"
      },
      "outputs": [
        {
          "name": "stdout",
          "output_type": "stream",
          "text": [
            "Total Samples: 2329\n",
            "X_seq shape: (2233, 24, 13)\n",
            "y_seq shape: (2233, 72, 13)\n"
          ]
        }
      ],
      "source": [
        "print(\"Total Samples:\", len(features))\n",
        "print(\"X_seq shape:\", X_seq.shape)\n",
        "print(\"y_seq shape:\", y_seq.shape)"
      ]
    },
    {
      "cell_type": "code",
      "execution_count": 18,
      "metadata": {
        "id": "mvio2oB_U4Gd"
      },
      "outputs": [],
      "source": [
        "y_train_flat = y_train.reshape(y_train.shape[0], -1)\n",
        "y_val_flat = y_val.reshape(y_val.shape[0], -1)"
      ]
    },
    {
      "cell_type": "markdown",
      "metadata": {
        "id": "hbfDwVQAUnuZ"
      },
      "source": [
        "# **Optuna** Hyperparameter Tuning"
      ]
    },
    {
      "cell_type": "code",
      "execution_count": 20,
      "metadata": {
        "colab": {
          "base_uri": "https://localhost:8080/"
        },
        "id": "SHL51PxrUqwy",
        "outputId": "941c1a33-abfe-4d2a-baa8-1c6f2b28f10d"
      },
      "outputs": [
        {
          "name": "stderr",
          "output_type": "stream",
          "text": [
            "[I 2025-07-09 23:45:30,517] A new study created in memory with name: no-name-5f72c3fe-6c08-4d2e-9244-e9c5fe0d5f15\n",
            "/usr/local/lib/python3.11/dist-packages/keras/src/layers/rnn/rnn.py:200: UserWarning: Do not pass an `input_shape`/`input_dim` argument to a layer. When using Sequential models, prefer using an `Input(shape)` object as the first layer in the model instead.\n",
            "  super().__init__(**kwargs)\n"
          ]
        },
        {
          "name": "stdout",
          "output_type": "stream",
          "text": [
            "\u001b[1m14/14\u001b[0m \u001b[32m━━━━━━━━━━━━━━━━━━━━\u001b[0m\u001b[37m\u001b[0m \u001b[1m1s\u001b[0m 41ms/step\n"
          ]
        },
        {
          "name": "stderr",
          "output_type": "stream",
          "text": [
            "[I 2025-07-09 23:46:04,563] Trial 0 finished with value: 45.0917480796965 and parameters: {'n_units': 72, 'n_dense_units': 111, 'dropout': 0.38943939596685484, 'recurrent_dropout': 0.21412810610781427, 'learning_rate': 1.8318479020012675e-05, 'batch_size': 128, 'activation': 'tanh', 'epochs': 30, 'n_gru_layers': 1}. Best is trial 0 with value: 45.0917480796965.\n",
            "/usr/local/lib/python3.11/dist-packages/keras/src/layers/rnn/rnn.py:200: UserWarning: Do not pass an `input_shape`/`input_dim` argument to a layer. When using Sequential models, prefer using an `Input(shape)` object as the first layer in the model instead.\n",
            "  super().__init__(**kwargs)\n"
          ]
        },
        {
          "name": "stdout",
          "output_type": "stream",
          "text": [
            "\u001b[1m14/14\u001b[0m \u001b[32m━━━━━━━━━━━━━━━━━━━━\u001b[0m\u001b[37m\u001b[0m \u001b[1m2s\u001b[0m 76ms/step\n"
          ]
        },
        {
          "name": "stderr",
          "output_type": "stream",
          "text": [
            "[I 2025-07-09 23:48:39,683] Trial 1 finished with value: 26.45077332005498 and parameters: {'n_units': 64, 'n_dense_units': 107, 'dropout': 0.4893751927587222, 'recurrent_dropout': 0.20537688259905484, 'learning_rate': 0.00016889937197794456, 'batch_size': 32, 'activation': 'tanh', 'epochs': 34, 'n_gru_layers': 2}. Best is trial 1 with value: 26.45077332005498.\n",
            "/usr/local/lib/python3.11/dist-packages/keras/src/layers/rnn/rnn.py:200: UserWarning: Do not pass an `input_shape`/`input_dim` argument to a layer. When using Sequential models, prefer using an `Input(shape)` object as the first layer in the model instead.\n",
            "  super().__init__(**kwargs)\n"
          ]
        },
        {
          "name": "stdout",
          "output_type": "stream",
          "text": [
            "\u001b[1m14/14\u001b[0m \u001b[32m━━━━━━━━━━━━━━━━━━━━\u001b[0m\u001b[37m\u001b[0m \u001b[1m1s\u001b[0m 39ms/step\n"
          ]
        },
        {
          "name": "stderr",
          "output_type": "stream",
          "text": [
            "[I 2025-07-09 23:49:34,060] Trial 2 finished with value: 22.800013531950288 and parameters: {'n_units': 49, 'n_dense_units': 72, 'dropout': 0.15833610830316283, 'recurrent_dropout': 0.08651108236185596, 'learning_rate': 0.0005014008548588546, 'batch_size': 64, 'activation': 'tanh', 'epochs': 44, 'n_gru_layers': 1}. Best is trial 2 with value: 22.800013531950288.\n",
            "/usr/local/lib/python3.11/dist-packages/keras/src/layers/rnn/rnn.py:200: UserWarning: Do not pass an `input_shape`/`input_dim` argument to a layer. When using Sequential models, prefer using an `Input(shape)` object as the first layer in the model instead.\n",
            "  super().__init__(**kwargs)\n"
          ]
        },
        {
          "name": "stdout",
          "output_type": "stream",
          "text": [
            "\u001b[1m14/14\u001b[0m \u001b[32m━━━━━━━━━━━━━━━━━━━━\u001b[0m\u001b[37m\u001b[0m \u001b[1m1s\u001b[0m 43ms/step\n"
          ]
        },
        {
          "name": "stderr",
          "output_type": "stream",
          "text": [
            "[I 2025-07-09 23:51:02,807] Trial 3 finished with value: 43.436427283247916 and parameters: {'n_units': 58, 'n_dense_units': 107, 'dropout': 0.3091694241232811, 'recurrent_dropout': 0.2935531445455542, 'learning_rate': 1.234060792118495e-05, 'batch_size': 32, 'activation': 'tanh', 'epochs': 41, 'n_gru_layers': 1}. Best is trial 2 with value: 22.800013531950288.\n",
            "/usr/local/lib/python3.11/dist-packages/keras/src/layers/rnn/rnn.py:200: UserWarning: Do not pass an `input_shape`/`input_dim` argument to a layer. When using Sequential models, prefer using an `Input(shape)` object as the first layer in the model instead.\n",
            "  super().__init__(**kwargs)\n"
          ]
        },
        {
          "name": "stdout",
          "output_type": "stream",
          "text": [
            "\u001b[1m14/14\u001b[0m \u001b[32m━━━━━━━━━━━━━━━━━━━━\u001b[0m\u001b[37m\u001b[0m \u001b[1m1s\u001b[0m 41ms/step\n"
          ]
        },
        {
          "name": "stderr",
          "output_type": "stream",
          "text": [
            "[I 2025-07-09 23:51:38,618] Trial 4 finished with value: 7.569509542494234 and parameters: {'n_units': 55, 'n_dense_units': 64, 'dropout': 0.42698347793397484, 'recurrent_dropout': 0.21785914067184642, 'learning_rate': 0.0033340382478397805, 'batch_size': 128, 'activation': 'tanh', 'epochs': 46, 'n_gru_layers': 1}. Best is trial 4 with value: 7.569509542494234.\n",
            "/usr/local/lib/python3.11/dist-packages/keras/src/layers/rnn/rnn.py:200: UserWarning: Do not pass an `input_shape`/`input_dim` argument to a layer. When using Sequential models, prefer using an `Input(shape)` object as the first layer in the model instead.\n",
            "  super().__init__(**kwargs)\n"
          ]
        },
        {
          "name": "stdout",
          "output_type": "stream",
          "text": [
            "\u001b[1m14/14\u001b[0m \u001b[32m━━━━━━━━━━━━━━━━━━━━\u001b[0m\u001b[37m\u001b[0m \u001b[1m2s\u001b[0m 80ms/step\n"
          ]
        },
        {
          "name": "stderr",
          "output_type": "stream",
          "text": [
            "[I 2025-07-09 23:53:17,836] Trial 5 finished with value: 7.1247078841208875 and parameters: {'n_units': 98, 'n_dense_units': 122, 'dropout': 0.37699455206710997, 'recurrent_dropout': 0.02710251632370265, 'learning_rate': 0.004010476695674989, 'batch_size': 64, 'activation': 'tanh', 'epochs': 42, 'n_gru_layers': 2}. Best is trial 5 with value: 7.1247078841208875.\n",
            "/usr/local/lib/python3.11/dist-packages/keras/src/layers/rnn/rnn.py:200: UserWarning: Do not pass an `input_shape`/`input_dim` argument to a layer. When using Sequential models, prefer using an `Input(shape)` object as the first layer in the model instead.\n",
            "  super().__init__(**kwargs)\n"
          ]
        },
        {
          "name": "stdout",
          "output_type": "stream",
          "text": [
            "\u001b[1m14/14\u001b[0m \u001b[32m━━━━━━━━━━━━━━━━━━━━\u001b[0m\u001b[37m\u001b[0m \u001b[1m2s\u001b[0m 82ms/step\n"
          ]
        },
        {
          "name": "stderr",
          "output_type": "stream",
          "text": [
            "[I 2025-07-09 23:55:19,042] Trial 6 finished with value: 45.04246185109307 and parameters: {'n_units': 106, 'n_dense_units': 71, 'dropout': 0.47718656482067445, 'recurrent_dropout': 0.05044613554876096, 'learning_rate': 1.3832187222588889e-05, 'batch_size': 128, 'activation': 'tanh', 'epochs': 41, 'n_gru_layers': 2}. Best is trial 5 with value: 7.1247078841208875.\n",
            "/usr/local/lib/python3.11/dist-packages/keras/src/layers/rnn/rnn.py:200: UserWarning: Do not pass an `input_shape`/`input_dim` argument to a layer. When using Sequential models, prefer using an `Input(shape)` object as the first layer in the model instead.\n",
            "  super().__init__(**kwargs)\n"
          ]
        },
        {
          "name": "stdout",
          "output_type": "stream",
          "text": [
            "\u001b[1m14/14\u001b[0m \u001b[32m━━━━━━━━━━━━━━━━━━━━\u001b[0m\u001b[37m\u001b[0m \u001b[1m2s\u001b[0m 93ms/step\n"
          ]
        },
        {
          "name": "stderr",
          "output_type": "stream",
          "text": [
            "[I 2025-07-09 23:55:46,994] Trial 7 finished with value: 41.436847342581636 and parameters: {'n_units': 60, 'n_dense_units': 82, 'dropout': 0.28480682078264763, 'recurrent_dropout': 0.048423550681035155, 'learning_rate': 1.9214941619930482e-05, 'batch_size': 128, 'activation': 'relu', 'epochs': 31, 'n_gru_layers': 1}. Best is trial 5 with value: 7.1247078841208875.\n",
            "/usr/local/lib/python3.11/dist-packages/keras/src/layers/rnn/rnn.py:200: UserWarning: Do not pass an `input_shape`/`input_dim` argument to a layer. When using Sequential models, prefer using an `Input(shape)` object as the first layer in the model instead.\n",
            "  super().__init__(**kwargs)\n"
          ]
        },
        {
          "name": "stdout",
          "output_type": "stream",
          "text": [
            "\u001b[1m14/14\u001b[0m \u001b[32m━━━━━━━━━━━━━━━━━━━━\u001b[0m\u001b[37m\u001b[0m \u001b[1m2s\u001b[0m 92ms/step\n"
          ]
        },
        {
          "name": "stderr",
          "output_type": "stream",
          "text": [
            "[I 2025-07-09 23:57:53,031] Trial 8 finished with value: 43.69348130211783 and parameters: {'n_units': 44, 'n_dense_units': 81, 'dropout': 0.21795446549580713, 'recurrent_dropout': 0.23664869937451033, 'learning_rate': 1.327272456326143e-05, 'batch_size': 32, 'activation': 'tanh', 'epochs': 40, 'n_gru_layers': 2}. Best is trial 5 with value: 7.1247078841208875.\n",
            "/usr/local/lib/python3.11/dist-packages/keras/src/layers/rnn/rnn.py:200: UserWarning: Do not pass an `input_shape`/`input_dim` argument to a layer. When using Sequential models, prefer using an `Input(shape)` object as the first layer in the model instead.\n",
            "  super().__init__(**kwargs)\n"
          ]
        },
        {
          "name": "stdout",
          "output_type": "stream",
          "text": [
            "\u001b[1m14/14\u001b[0m \u001b[32m━━━━━━━━━━━━━━━━━━━━\u001b[0m\u001b[37m\u001b[0m \u001b[1m2s\u001b[0m 73ms/step\n"
          ]
        },
        {
          "name": "stderr",
          "output_type": "stream",
          "text": [
            "[I 2025-07-09 23:59:24,107] Trial 9 finished with value: 9.032307197889667 and parameters: {'n_units': 49, 'n_dense_units': 37, 'dropout': 0.2614203238861438, 'recurrent_dropout': 0.1917271482760219, 'learning_rate': 3.2723931467965136e-05, 'batch_size': 64, 'activation': 'relu', 'epochs': 49, 'n_gru_layers': 2}. Best is trial 5 with value: 7.1247078841208875.\n",
            "/usr/local/lib/python3.11/dist-packages/keras/src/layers/rnn/rnn.py:200: UserWarning: Do not pass an `input_shape`/`input_dim` argument to a layer. When using Sequential models, prefer using an `Input(shape)` object as the first layer in the model instead.\n",
            "  super().__init__(**kwargs)\n"
          ]
        },
        {
          "name": "stdout",
          "output_type": "stream",
          "text": [
            "\u001b[1m14/14\u001b[0m \u001b[32m━━━━━━━━━━━━━━━━━━━━\u001b[0m\u001b[37m\u001b[0m \u001b[1m2s\u001b[0m 80ms/step\n"
          ]
        },
        {
          "name": "stderr",
          "output_type": "stream",
          "text": [
            "[I 2025-07-10 00:00:01,791] Trial 10 finished with value: 19.180243848517183 and parameters: {'n_units': 97, 'n_dense_units': 128, 'dropout': 0.3627027703540898, 'recurrent_dropout': 0.003090560493492406, 'learning_rate': 0.007318405463112647, 'batch_size': 64, 'activation': 'relu', 'epochs': 37, 'n_gru_layers': 2}. Best is trial 5 with value: 7.1247078841208875.\n",
            "/usr/local/lib/python3.11/dist-packages/keras/src/layers/rnn/rnn.py:200: UserWarning: Do not pass an `input_shape`/`input_dim` argument to a layer. When using Sequential models, prefer using an `Input(shape)` object as the first layer in the model instead.\n",
            "  super().__init__(**kwargs)\n"
          ]
        },
        {
          "name": "stdout",
          "output_type": "stream",
          "text": [
            "\u001b[1m14/14\u001b[0m \u001b[32m━━━━━━━━━━━━━━━━━━━━\u001b[0m\u001b[37m\u001b[0m \u001b[1m1s\u001b[0m 41ms/step\n"
          ]
        },
        {
          "name": "stderr",
          "output_type": "stream",
          "text": [
            "[I 2025-07-10 00:00:51,291] Trial 11 finished with value: 7.118554927398919 and parameters: {'n_units': 89, 'n_dense_units': 48, 'dropout': 0.4097534831925097, 'recurrent_dropout': 0.12309879357946313, 'learning_rate': 0.0071270231125612465, 'batch_size': 64, 'activation': 'tanh', 'epochs': 47, 'n_gru_layers': 1}. Best is trial 11 with value: 7.118554927398919.\n",
            "/usr/local/lib/python3.11/dist-packages/keras/src/layers/rnn/rnn.py:200: UserWarning: Do not pass an `input_shape`/`input_dim` argument to a layer. When using Sequential models, prefer using an `Input(shape)` object as the first layer in the model instead.\n",
            "  super().__init__(**kwargs)\n"
          ]
        },
        {
          "name": "stdout",
          "output_type": "stream",
          "text": [
            "\u001b[1m14/14\u001b[0m \u001b[32m━━━━━━━━━━━━━━━━━━━━\u001b[0m\u001b[37m\u001b[0m \u001b[1m2s\u001b[0m 82ms/step\n"
          ]
        },
        {
          "name": "stderr",
          "output_type": "stream",
          "text": [
            "[I 2025-07-10 00:04:57,953] Trial 12 finished with value: 11.368441025039683 and parameters: {'n_units': 127, 'n_dense_units': 35, 'dropout': 0.3516756125089735, 'recurrent_dropout': 0.1318767906010021, 'learning_rate': 0.0018071624167906573, 'batch_size': 64, 'activation': 'tanh', 'epochs': 50, 'n_gru_layers': 2}. Best is trial 11 with value: 7.118554927398919.\n",
            "/usr/local/lib/python3.11/dist-packages/keras/src/layers/rnn/rnn.py:200: UserWarning: Do not pass an `input_shape`/`input_dim` argument to a layer. When using Sequential models, prefer using an `Input(shape)` object as the first layer in the model instead.\n",
            "  super().__init__(**kwargs)\n"
          ]
        },
        {
          "name": "stdout",
          "output_type": "stream",
          "text": [
            "\u001b[1m14/14\u001b[0m \u001b[32m━━━━━━━━━━━━━━━━━━━━\u001b[0m\u001b[37m\u001b[0m \u001b[1m1s\u001b[0m 41ms/step\n"
          ]
        },
        {
          "name": "stderr",
          "output_type": "stream",
          "text": [
            "[I 2025-07-10 00:05:30,003] Trial 13 finished with value: 7.123722331634696 and parameters: {'n_units': 89, 'n_dense_units': 58, 'dropout': 0.4231513599352542, 'recurrent_dropout': 0.11217807010040114, 'learning_rate': 0.009249257596138977, 'batch_size': 64, 'activation': 'tanh', 'epochs': 46, 'n_gru_layers': 1}. Best is trial 11 with value: 7.118554927398919.\n",
            "/usr/local/lib/python3.11/dist-packages/keras/src/layers/rnn/rnn.py:200: UserWarning: Do not pass an `input_shape`/`input_dim` argument to a layer. When using Sequential models, prefer using an `Input(shape)` object as the first layer in the model instead.\n",
            "  super().__init__(**kwargs)\n"
          ]
        },
        {
          "name": "stdout",
          "output_type": "stream",
          "text": [
            "\u001b[1m14/14\u001b[0m \u001b[32m━━━━━━━━━━━━━━━━━━━━\u001b[0m\u001b[37m\u001b[0m \u001b[1m1s\u001b[0m 58ms/step\n"
          ]
        },
        {
          "name": "stderr",
          "output_type": "stream",
          "text": [
            "[I 2025-07-10 00:05:45,232] Trial 14 finished with value: 10.552726507021712 and parameters: {'n_units': 85, 'n_dense_units': 52, 'dropout': 0.4307778722865325, 'recurrent_dropout': 0.12399690381715756, 'learning_rate': 0.0008214048997637187, 'batch_size': 64, 'activation': 'relu', 'epochs': 47, 'n_gru_layers': 1}. Best is trial 11 with value: 7.118554927398919.\n",
            "/usr/local/lib/python3.11/dist-packages/keras/src/layers/rnn/rnn.py:200: UserWarning: Do not pass an `input_shape`/`input_dim` argument to a layer. When using Sequential models, prefer using an `Input(shape)` object as the first layer in the model instead.\n",
            "  super().__init__(**kwargs)\n"
          ]
        },
        {
          "name": "stdout",
          "output_type": "stream",
          "text": [
            "\u001b[1m14/14\u001b[0m \u001b[32m━━━━━━━━━━━━━━━━━━━━\u001b[0m\u001b[37m\u001b[0m \u001b[1m1s\u001b[0m 42ms/step\n"
          ]
        },
        {
          "name": "stderr",
          "output_type": "stream",
          "text": [
            "[I 2025-07-10 00:06:25,718] Trial 15 finished with value: 7.126205690205919 and parameters: {'n_units': 86, 'n_dense_units': 51, 'dropout': 0.4331587030989591, 'recurrent_dropout': 0.15964870389823066, 'learning_rate': 0.008864738496028842, 'batch_size': 64, 'activation': 'tanh', 'epochs': 45, 'n_gru_layers': 1}. Best is trial 11 with value: 7.118554927398919.\n",
            "/usr/local/lib/python3.11/dist-packages/keras/src/layers/rnn/rnn.py:200: UserWarning: Do not pass an `input_shape`/`input_dim` argument to a layer. When using Sequential models, prefer using an `Input(shape)` object as the first layer in the model instead.\n",
            "  super().__init__(**kwargs)\n"
          ]
        },
        {
          "name": "stdout",
          "output_type": "stream",
          "text": [
            "\u001b[1m14/14\u001b[0m \u001b[32m━━━━━━━━━━━━━━━━━━━━\u001b[0m\u001b[37m\u001b[0m \u001b[1m1s\u001b[0m 44ms/step\n"
          ]
        },
        {
          "name": "stderr",
          "output_type": "stream",
          "text": [
            "[I 2025-07-10 00:07:59,227] Trial 16 finished with value: 40.74553874216283 and parameters: {'n_units': 114, 'n_dense_units': 50, 'dropout': 0.3217311395170528, 'recurrent_dropout': 0.09891956810707903, 'learning_rate': 0.0001092611187463901, 'batch_size': 64, 'activation': 'tanh', 'epochs': 48, 'n_gru_layers': 1}. Best is trial 11 with value: 7.118554927398919.\n",
            "/usr/local/lib/python3.11/dist-packages/keras/src/layers/rnn/rnn.py:200: UserWarning: Do not pass an `input_shape`/`input_dim` argument to a layer. When using Sequential models, prefer using an `Input(shape)` object as the first layer in the model instead.\n",
            "  super().__init__(**kwargs)\n"
          ]
        },
        {
          "name": "stdout",
          "output_type": "stream",
          "text": [
            "\u001b[1m14/14\u001b[0m \u001b[32m━━━━━━━━━━━━━━━━━━━━\u001b[0m\u001b[37m\u001b[0m \u001b[1m1s\u001b[0m 42ms/step\n"
          ]
        },
        {
          "name": "stderr",
          "output_type": "stream",
          "text": [
            "[I 2025-07-10 00:08:58,680] Trial 17 finished with value: 7.709802271990352 and parameters: {'n_units': 74, 'n_dense_units': 91, 'dropout': 0.4630609752480756, 'recurrent_dropout': 0.1604368616662594, 'learning_rate': 0.001157668039644512, 'batch_size': 64, 'activation': 'tanh', 'epochs': 44, 'n_gru_layers': 1}. Best is trial 11 with value: 7.118554927398919.\n",
            "/usr/local/lib/python3.11/dist-packages/keras/src/layers/rnn/rnn.py:200: UserWarning: Do not pass an `input_shape`/`input_dim` argument to a layer. When using Sequential models, prefer using an `Input(shape)` object as the first layer in the model instead.\n",
            "  super().__init__(**kwargs)\n"
          ]
        },
        {
          "name": "stdout",
          "output_type": "stream",
          "text": [
            "\u001b[1m14/14\u001b[0m \u001b[32m━━━━━━━━━━━━━━━━━━━━\u001b[0m\u001b[37m\u001b[0m \u001b[1m1s\u001b[0m 43ms/step\n"
          ]
        },
        {
          "name": "stderr",
          "output_type": "stream",
          "text": [
            "[I 2025-07-10 00:09:20,543] Trial 18 finished with value: 6.673974288837874 and parameters: {'n_units': 33, 'n_dense_units': 56, 'dropout': 0.10978463383860004, 'recurrent_dropout': 0.0879077110677477, 'learning_rate': 0.0031187060718343537, 'batch_size': 64, 'activation': 'relu', 'epochs': 38, 'n_gru_layers': 1}. Best is trial 18 with value: 6.673974288837874.\n",
            "/usr/local/lib/python3.11/dist-packages/keras/src/layers/rnn/rnn.py:200: UserWarning: Do not pass an `input_shape`/`input_dim` argument to a layer. When using Sequential models, prefer using an `Input(shape)` object as the first layer in the model instead.\n",
            "  super().__init__(**kwargs)\n"
          ]
        },
        {
          "name": "stdout",
          "output_type": "stream",
          "text": [
            "\u001b[1m14/14\u001b[0m \u001b[32m━━━━━━━━━━━━━━━━━━━━\u001b[0m\u001b[37m\u001b[0m \u001b[1m1s\u001b[0m 50ms/step\n"
          ]
        },
        {
          "name": "stderr",
          "output_type": "stream",
          "text": [
            "[I 2025-07-10 00:09:42,537] Trial 19 finished with value: 6.651661373864688 and parameters: {'n_units': 34, 'n_dense_units': 44, 'dropout': 0.10903765421610254, 'recurrent_dropout': 0.07197859168062842, 'learning_rate': 0.0025316396529251263, 'batch_size': 32, 'activation': 'relu', 'epochs': 36, 'n_gru_layers': 1}. Best is trial 19 with value: 6.651661373864688.\n"
          ]
        },
        {
          "name": "stdout",
          "output_type": "stream",
          "text": [
            "Best parameters: {'n_units': 34, 'n_dense_units': 44, 'dropout': 0.10903765421610254, 'recurrent_dropout': 0.07197859168062842, 'learning_rate': 0.0025316396529251263, 'batch_size': 32, 'activation': 'relu', 'epochs': 36, 'n_gru_layers': 1}\n",
            "🏃 View run GRU_Best_Hyperparameters_MultiOutput_Optuna at: http://172.174.154.85:8000/#/experiments/3/runs/1913c46d3390480db6343d4cfaf2fd1f\n",
            "🧪 View experiment at: http://172.174.154.85:8000/#/experiments/3\n"
          ]
        }
      ],
      "source": [
        "def optuna_objective(trial):\n",
        "    n_units = trial.suggest_int(\"n_units\", 32, 128)\n",
        "    n_dense_units = trial.suggest_int(\"n_dense_units\", 32, 128)\n",
        "    dropout = trial.suggest_float(\"dropout\", 0.1, 0.5)\n",
        "    recurrent_dropout = trial.suggest_float(\"recurrent_dropout\", 0.0, 0.3)\n",
        "    learning_rate = trial.suggest_float(\"learning_rate\", 1e-5, 1e-2, log=True)\n",
        "    batch_size = trial.suggest_categorical(\"batch_size\", [32, 64, 128])\n",
        "    activation = trial.suggest_categorical(\"activation\", [\"relu\", \"tanh\"])\n",
        "    epochs = trial.suggest_int(\"epochs\", 30, 50)\n",
        "    n_gru_layers = trial.suggest_int(\"n_gru_layers\", 1, 2)\n",
        "\n",
        "    model = Sequential()\n",
        "    model.add(GRU(n_units, return_sequences=(n_gru_layers > 1),\n",
        "                   input_shape=(X_train.shape[1], X_train.shape[2]),\n",
        "                   activation=activation,\n",
        "                   dropout=dropout,\n",
        "                   recurrent_dropout=recurrent_dropout))\n",
        "\n",
        "    if n_gru_layers > 1:\n",
        "        model.add(GRU(n_units, activation=activation,\n",
        "                       dropout=dropout,\n",
        "                       recurrent_dropout=recurrent_dropout))\n",
        "\n",
        "    model.add(Dense(n_dense_units, activation=activation))\n",
        "    model.add(Dense(PREDICT_HORIZON * features.shape[1]))  # output size = 72 x 13 = 936\n",
        "\n",
        "    model.compile(optimizer=Adam(learning_rate=learning_rate), loss=\"mse\")\n",
        "\n",
        "    model.fit(X_train, y_train_flat,\n",
        "              epochs=epochs,\n",
        "              batch_size=batch_size,\n",
        "              validation_data=(X_val, y_val_flat),\n",
        "              callbacks=[EarlyStopping(patience=5, restore_best_weights=True)],\n",
        "              verbose=0)\n",
        "\n",
        "    preds = model.predict(X_val)\n",
        "    rmse = sqrt(mean_squared_error(y_val_flat, preds))\n",
        "    return rmse\n",
        "\n",
        "# Run optimization\n",
        "study = optuna.create_study(direction=\"minimize\")\n",
        "study.optimize(optuna_objective, n_trials=20)\n",
        "\n",
        "# Log best trial to MLflow\n",
        "with mlflow.start_run(run_name=\"GRU_Best_Hyperparameters_MultiOutput_Optuna\"):\n",
        "    mlflow.log_params(study.best_params)\n",
        "    mlflow.log_metric(\"best_rmse\", study.best_value)\n",
        "    print(\"Best parameters:\", study.best_params)\n"
      ]
    },
    {
      "cell_type": "markdown",
      "metadata": {
        "id": "0hsdqJxuV53o"
      },
      "source": [
        "# **LSTM Model Fit**"
      ]
    },
    {
      "cell_type": "code",
      "execution_count": 21,
      "metadata": {
        "colab": {
          "base_uri": "https://localhost:8080/"
        },
        "id": "FOvNMuXXVx2A",
        "outputId": "dd6920b3-48f2-4ef6-e986-fcd67f73966e"
      },
      "outputs": [
        {
          "name": "stdout",
          "output_type": "stream",
          "text": [
            "Epoch 1/36\n"
          ]
        },
        {
          "name": "stderr",
          "output_type": "stream",
          "text": [
            "/usr/local/lib/python3.11/dist-packages/keras/src/layers/rnn/rnn.py:200: UserWarning: Do not pass an `input_shape`/`input_dim` argument to a layer. When using Sequential models, prefer using an `Input(shape)` object as the first layer in the model instead.\n",
            "  super().__init__(**kwargs)\n"
          ]
        },
        {
          "name": "stdout",
          "output_type": "stream",
          "text": [
            "\u001b[1m56/56\u001b[0m \u001b[32m━━━━━━━━━━━━━━━━━━━━\u001b[0m\u001b[37m\u001b[0m \u001b[1m5s\u001b[0m 33ms/step - loss: 1065.9235 - val_loss: 86.1233\n",
            "Epoch 2/36\n",
            "\u001b[1m56/56\u001b[0m \u001b[32m━━━━━━━━━━━━━━━━━━━━\u001b[0m\u001b[37m\u001b[0m \u001b[1m2s\u001b[0m 20ms/step - loss: 128.0464 - val_loss: 71.9243\n",
            "Epoch 3/36\n",
            "\u001b[1m56/56\u001b[0m \u001b[32m━━━━━━━━━━━━━━━━━━━━\u001b[0m\u001b[37m\u001b[0m \u001b[1m1s\u001b[0m 20ms/step - loss: 121.4745 - val_loss: 79.9479\n",
            "Epoch 4/36\n",
            "\u001b[1m56/56\u001b[0m \u001b[32m━━━━━━━━━━━━━━━━━━━━\u001b[0m\u001b[37m\u001b[0m \u001b[1m1s\u001b[0m 20ms/step - loss: 111.0056 - val_loss: 57.5200\n",
            "Epoch 5/36\n",
            "\u001b[1m56/56\u001b[0m \u001b[32m━━━━━━━━━━━━━━━━━━━━\u001b[0m\u001b[37m\u001b[0m \u001b[1m2s\u001b[0m 32ms/step - loss: 98.9828 - val_loss: 71.7469\n",
            "Epoch 6/36\n",
            "\u001b[1m56/56\u001b[0m \u001b[32m━━━━━━━━━━━━━━━━━━━━\u001b[0m\u001b[37m\u001b[0m \u001b[1m2s\u001b[0m 31ms/step - loss: 100.0355 - val_loss: 87.8371\n",
            "Epoch 7/36\n",
            "\u001b[1m56/56\u001b[0m \u001b[32m━━━━━━━━━━━━━━━━━━━━\u001b[0m\u001b[37m\u001b[0m \u001b[1m1s\u001b[0m 21ms/step - loss: 104.6704 - val_loss: 51.2182\n",
            "Epoch 8/36\n",
            "\u001b[1m56/56\u001b[0m \u001b[32m━━━━━━━━━━━━━━━━━━━━\u001b[0m\u001b[37m\u001b[0m \u001b[1m1s\u001b[0m 20ms/step - loss: 101.5198 - val_loss: 69.4451\n",
            "Epoch 9/36\n",
            "\u001b[1m56/56\u001b[0m \u001b[32m━━━━━━━━━━━━━━━━━━━━\u001b[0m\u001b[37m\u001b[0m \u001b[1m1s\u001b[0m 21ms/step - loss: 95.0890 - val_loss: 57.8804\n",
            "Epoch 10/36\n",
            "\u001b[1m56/56\u001b[0m \u001b[32m━━━━━━━━━━━━━━━━━━━━\u001b[0m\u001b[37m\u001b[0m \u001b[1m1s\u001b[0m 21ms/step - loss: 90.5410 - val_loss: 44.8435\n",
            "Epoch 11/36\n",
            "\u001b[1m56/56\u001b[0m \u001b[32m━━━━━━━━━━━━━━━━━━━━\u001b[0m\u001b[37m\u001b[0m \u001b[1m1s\u001b[0m 22ms/step - loss: 93.7850 - val_loss: 58.8613\n",
            "Epoch 12/36\n",
            "\u001b[1m56/56\u001b[0m \u001b[32m━━━━━━━━━━━━━━━━━━━━\u001b[0m\u001b[37m\u001b[0m \u001b[1m1s\u001b[0m 22ms/step - loss: 85.1510 - val_loss: 42.5061\n",
            "Epoch 13/36\n",
            "\u001b[1m56/56\u001b[0m \u001b[32m━━━━━━━━━━━━━━━━━━━━\u001b[0m\u001b[37m\u001b[0m \u001b[1m1s\u001b[0m 20ms/step - loss: 88.7980 - val_loss: 62.1353\n",
            "Epoch 14/36\n",
            "\u001b[1m56/56\u001b[0m \u001b[32m━━━━━━━━━━━━━━━━━━━━\u001b[0m\u001b[37m\u001b[0m \u001b[1m1s\u001b[0m 24ms/step - loss: 86.6157 - val_loss: 55.8737\n",
            "Epoch 15/36\n",
            "\u001b[1m56/56\u001b[0m \u001b[32m━━━━━━━━━━━━━━━━━━━━\u001b[0m\u001b[37m\u001b[0m \u001b[1m2s\u001b[0m 23ms/step - loss: 86.0160 - val_loss: 49.8379\n",
            "Epoch 16/36\n",
            "\u001b[1m56/56\u001b[0m \u001b[32m━━━━━━━━━━━━━━━━━━━━\u001b[0m\u001b[37m\u001b[0m \u001b[1m1s\u001b[0m 20ms/step - loss: 87.8899 - val_loss: 52.3181\n",
            "Epoch 17/36\n",
            "\u001b[1m56/56\u001b[0m \u001b[32m━━━━━━━━━━━━━━━━━━━━\u001b[0m\u001b[37m\u001b[0m \u001b[1m1s\u001b[0m 20ms/step - loss: 82.7398 - val_loss: 52.1441\n",
            "\u001b[1m14/14\u001b[0m \u001b[32m━━━━━━━━━━━━━━━━━━━━\u001b[0m\u001b[37m\u001b[0m \u001b[1m1s\u001b[0m 36ms/step\n"
          ]
        },
        {
          "name": "stderr",
          "output_type": "stream",
          "text": [
            "2025/07/10 00:10:25 WARNING mlflow.models.model: `artifact_path` is deprecated. Please use `name` instead.\n",
            "2025/07/10 00:10:25 WARNING mlflow.keras.save: You are saving a Keras model without specifying model signature.\n",
            "\u001b[31m2025/07/10 00:10:37 WARNING mlflow.models.model: Model logged without a signature and input example. Please set `input_example` parameter when logging the model to auto infer the model signature.\u001b[0m\n"
          ]
        },
        {
          "name": "stdout",
          "output_type": "stream",
          "text": [
            "Final model logged to MLflow\n",
            "Final RMSE: 6.519673071335762\n",
            "Final MAE: 3.609173787339302\n",
            "🏃 View run Final_GRU_MultiOutput_Optuna at: http://172.174.154.85:8000/#/experiments/3/runs/4e82be6c4ab94501a253b5d7e5abb613\n",
            "🧪 View experiment at: http://172.174.154.85:8000/#/experiments/3\n"
          ]
        }
      ],
      "source": [
        "best_params = study.best_params\n",
        "with mlflow.start_run(run_name=\"Final_GRU_MultiOutput_Optuna\"):\n",
        "    model = Sequential()\n",
        "    model.add(GRU(best_params[\"n_units\"],\n",
        "                   return_sequences=(best_params[\"n_gru_layers\"] > 1),\n",
        "                   input_shape=(X_train.shape[1], X_train.shape[2]),\n",
        "                   activation=best_params[\"activation\"],\n",
        "                   dropout=best_params[\"dropout\"],\n",
        "                   recurrent_dropout=best_params[\"recurrent_dropout\"]))\n",
        "\n",
        "    if best_params[\"n_gru_layers\"] > 1:\n",
        "        model.add(GRU(best_params[\"n_units\"], activation=best_params[\"activation\"],\n",
        "                       dropout=best_params[\"dropout\"],\n",
        "                       recurrent_dropout=best_params[\"recurrent_dropout\"]))\n",
        "\n",
        "    model.add(Dense(best_params[\"n_dense_units\"], activation=best_params[\"activation\"]))\n",
        "    model.add(Dense(PREDICT_HORIZON * features.shape[1]))\n",
        "\n",
        "    model.compile(optimizer=Adam(learning_rate=best_params[\"learning_rate\"]), loss=\"mse\")\n",
        "\n",
        "    model.fit(X_train, y_train_flat,\n",
        "              epochs=best_params[\"epochs\"],\n",
        "              batch_size=best_params[\"batch_size\"],\n",
        "              validation_data=(X_val, y_val_flat),\n",
        "              callbacks=[EarlyStopping(patience=5, restore_best_weights=True)],\n",
        "              verbose=1)\n",
        "\n",
        "    preds = model.predict(X_val)\n",
        "    rmse = sqrt(mean_squared_error(y_val_flat, preds))\n",
        "    mae = mean_absolute_error(y_val_flat, preds)\n",
        "\n",
        "    # Log to MLflow\n",
        "    mlflow.log_params(best_params)\n",
        "    mlflow.log_metric(\"final_rmse\", rmse)\n",
        "    mlflow.log_metric(\"final_mae\", mae)\n",
        "    mlflow.set_tag(\"model_type\", \"GRU_MultiOutput\")\n",
        "    mlflow.set_tag(\"tuner\", \"Optuna\")\n",
        "    mlflow.keras.log_model(model, artifact_path=\"model\")\n",
        "\n",
        "    print(\"Final model logged to MLflow\")\n",
        "    print(\"Final RMSE:\", rmse)\n",
        "    print(\"Final MAE:\", mae)"
      ]
    },
    {
      "cell_type": "markdown",
      "metadata": {
        "id": "YWMeoayqWG0J"
      },
      "source": [
        "# **Predictions**"
      ]
    },
    {
      "cell_type": "code",
      "execution_count": 22,
      "metadata": {
        "colab": {
          "base_uri": "https://localhost:8080/"
        },
        "id": "ySsXSKyMWBB1",
        "outputId": "28219022-3479-461d-c150-2150ce89c9f5"
      },
      "outputs": [
        {
          "name": "stdout",
          "output_type": "stream",
          "text": [
            "\u001b[1m1/1\u001b[0m \u001b[32m━━━━━━━━━━━━━━━━━━━━\u001b[0m\u001b[37m\u001b[0m \u001b[1m0s\u001b[0m 82ms/step\n",
            "    aqi_us_lag1  aqi_us_lag12  aqi_us_lag24      pm2_5  log_pm10  \\\n",
            "0     83.081558     83.042572     85.301582  26.178110  4.870759   \n",
            "1     83.491051     82.946663     85.201134  25.733084  4.296182   \n",
            "2     84.076653     82.848732     84.685234  26.076843  4.494528   \n",
            "3     83.765121     82.809875     84.717148  24.921825  4.612479   \n",
            "4     83.963219     83.181473     84.118782  25.219395  3.745947   \n",
            "..          ...           ...           ...        ...       ...   \n",
            "67    81.448792     81.791183     79.791161  27.448158  3.945252   \n",
            "68    81.410927     81.463837     80.399155  27.535389  4.336591   \n",
            "69    81.514725     82.217789     80.699150  28.377914  5.116654   \n",
            "70    82.276917     82.335930     81.061127  28.502533  5.053318   \n",
            "71    82.401817     81.999298     80.793015  28.305489  4.849917   \n",
            "\n",
            "    scaled_humidity_%  scaled_temp_C_scaled_log_windspeed_kph   log_so2  \\\n",
            "0           -0.119610                                0.499324  2.881825   \n",
            "1            0.053374                                0.710529  2.629322   \n",
            "2            0.204965                                0.657573  1.833013   \n",
            "3           -0.012868                                0.870566  2.735823   \n",
            "4            0.132986                                1.013609  2.322916   \n",
            "..                ...                                     ...       ...   \n",
            "67          -0.025321                                0.321295  2.620714   \n",
            "68           0.061691                                0.296794  2.568455   \n",
            "69           0.303835                               -0.193421  2.339713   \n",
            "70          -0.016481                                0.576022  2.716368   \n",
            "71           0.594629                                0.437696  2.330090   \n",
            "\n",
            "    day_of_week  scaled_temp_C  scaled_temp_C_scaled_o3   log_no2     aqi_us  \\\n",
            "0      3.133873       0.193599                 0.148318  2.469982  83.701141   \n",
            "1      2.591565      -0.208966                -0.291515  2.413278  84.420006   \n",
            "2      2.033395      -0.100136                -0.740337  1.988610  83.939415   \n",
            "3      2.652886      -0.045917                 0.138928  2.476819  83.883202   \n",
            "4      2.610577       0.005862                -0.560571  2.417687  84.473831   \n",
            "..          ...            ...                      ...       ...        ...   \n",
            "67     3.160111       0.212889                -0.865427  3.086248  81.329041   \n",
            "68     3.173056       0.066021                 0.206917  2.624811  81.741768   \n",
            "69     3.057305      -0.221493                 0.282160  2.859440  82.192268   \n",
            "70     2.351158      -0.170830                -0.109489  2.886514  82.261375   \n",
            "71     2.906789      -0.347478                 0.315772  2.841227  82.132576   \n",
            "\n",
            "              datetime  \n",
            "0  2025-07-07 01:00:00  \n",
            "1  2025-07-07 02:00:00  \n",
            "2  2025-07-07 03:00:00  \n",
            "3  2025-07-07 04:00:00  \n",
            "4  2025-07-07 05:00:00  \n",
            "..                 ...  \n",
            "67 2025-07-09 20:00:00  \n",
            "68 2025-07-09 21:00:00  \n",
            "69 2025-07-09 22:00:00  \n",
            "70 2025-07-09 23:00:00  \n",
            "71 2025-07-10 00:00:00  \n",
            "\n",
            "[72 rows x 14 columns]\n"
          ]
        },
        {
          "name": "stderr",
          "output_type": "stream",
          "text": [
            "/tmp/ipython-input-22-963367391.py:3: FutureWarning: 'H' is deprecated and will be removed in a future version, please use 'h' instead.\n",
            "  future_dates = pd.date_range(start=df['datetime'].iloc[-1] + pd.Timedelta(hours=1),\n"
          ]
        }
      ],
      "source": [
        "last_sequence = features.values[-WINDOW_SIZE:].reshape(1, WINDOW_SIZE, features.shape[1])\n",
        "future_preds = model.predict(last_sequence).reshape(PREDICT_HORIZON, features.shape[1])\n",
        "future_dates = pd.date_range(start=df['datetime'].iloc[-1] + pd.Timedelta(hours=1),\n",
        "                             periods=PREDICT_HORIZON, freq='H')\n",
        "\n",
        "future_df = pd.DataFrame(future_preds, columns=features.columns)\n",
        "future_df[\"datetime\"] = future_dates\n",
        "future_df.to_csv(\"future_multivariate_predictions_optuna_GRU.csv\", index=False)\n",
        "mlflow.log_artifact(\"future_multivariate_predictions_optuna_GRU.csv\")\n",
        "print(future_df)"
      ]
    }
  ],
  "metadata": {
    "colab": {
      "provenance": []
    },
    "kernelspec": {
      "display_name": "Python 3",
      "name": "python3"
    },
    "language_info": {
      "name": "python"
    }
  },
  "nbformat": 4,
  "nbformat_minor": 0
}
